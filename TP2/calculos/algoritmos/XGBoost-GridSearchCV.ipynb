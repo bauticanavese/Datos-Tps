{
 "cells": [
  {
   "cell_type": "markdown",
   "metadata": {},
   "source": [
    "# GridSearchCV - XGBoost"
   ]
  },
  {
   "cell_type": "code",
   "execution_count": 1,
   "metadata": {},
   "outputs": [],
   "source": [
    "import pandas as pd\n",
    "import numpy as np\n",
    "import matplotlib.pyplot as plt\n",
    "\n",
    "# metrics\n",
    "from sklearn.metrics import roc_auc_score\n",
    "from sklearn.model_selection import train_test_split, cross_val_score\n",
    "\n",
    "# RF\n",
    "from sklearn.ensemble import RandomForestClassifier\n",
    "from scipy.stats import uniform, randint\n",
    "\n",
    "from sklearn.datasets import load_breast_cancer, load_diabetes, load_wine\n",
    "from sklearn.metrics import auc, accuracy_score, confusion_matrix, mean_squared_error\n",
    "from sklearn.model_selection import cross_val_score, GridSearchCV, KFold, RandomizedSearchCV, train_test_split\n",
    "\n",
    "import xgboost as xgb\n"
   ]
  },
  {
   "cell_type": "code",
   "execution_count": 3,
   "metadata": {},
   "outputs": [],
   "source": [
    "def modelfit(alg, dtrain, predictors,useTrainCV=True, cv_folds=5, early_stopping_rounds=50):\n",
    "    \n",
    "    if useTrainCV:\n",
    "        xgb_param = alg.get_xgb_params()\n",
    "        xgtrain = xgb.DMatrix(dtrain[predictors].values, label=dtrain[target].values)\n",
    "        cvresult = xgb.cv(xgb_param, xgtrain, num_boost_round=alg.get_params()['n_estimators'], nfold=cv_folds,\n",
    "            metrics='auc', early_stopping_rounds=early_stopping_rounds, show_progress=False)\n",
    "        alg.set_params(n_estimators=cvresult.shape[0])\n",
    "    \n",
    "    #Fit the algorithm on the data\n",
    "    alg.fit(dtrain[predictors], dtrain['Disbursed'],eval_metric='auc')\n",
    "        \n",
    "    #Predict training set:\n",
    "    dtrain_predictions = alg.predict(dtrain[predictors])\n",
    "    dtrain_predprob = alg.predict_proba(dtrain[predictors])[:,1]\n",
    "        \n",
    "    #Print model report:\n",
    "    print(\"\\nModel Report\")\n",
    "    print(\"Accuracy : {}.4g \".format(metrics.accuracy_score(dtrain['Disbursed'].values, dtrain_predictions)))\n",
    "    print(\"AUC Score (Train): {}\".format(metrics.roc_auc_score(dtrain['Disbursed'], dtrain_predprob)))\n",
    "                    \n",
    "    feat_imp = pd.Series(alg.booster().get_fscore()).sort_values(ascending=False)\n",
    "    feat_imp.plot(kind='bar', title='Feature Importances')\n",
    "    plt.ylabel('Feature Importance Score')"
   ]
  },
  {
   "cell_type": "code",
   "execution_count": 2,
   "metadata": {},
   "outputs": [],
   "source": [
    "training = pd.read_csv('test/training-person-epa.csv')"
   ]
  },
  {
   "cell_type": "code",
   "execution_count": 3,
   "metadata": {},
   "outputs": [],
   "source": [
    "RANDOM_SEED = 12\n",
    "TEST_SIZE_PERCENT = 0.2"
   ]
  },
  {
   "cell_type": "code",
   "execution_count": 4,
   "metadata": {},
   "outputs": [],
   "source": [
    "y = training['label']\n",
    "X = training.drop(axis=1, labels=['label'])"
   ]
  },
  {
   "cell_type": "markdown",
   "metadata": {},
   "source": [
    "## Hiper-Parameters GS CV"
   ]
  },
  {
   "cell_type": "code",
   "execution_count": null,
   "metadata": {},
   "outputs": [],
   "source": [
    "param_test1 = {\n",
    " 'max_depth':range(3,10,2),\n",
    " 'min_child_weight':range(1,6,2)\n",
    "}\n",
    "gsearch1 = GridSearchCV(\n",
    "                estimator = xgb.XGBClassifier(learning_rate =0.1, n_estimators=100, max_depth=5,\n",
    "                min_child_weight=1, gamma=0, subsample=0.8, colsample_bytree=0.8,\n",
    "                objective= 'binary:logistic', nthread=4, scale_pos_weight=1, seed=RANDOM_SEED), \n",
    "                param_grid = param_test1, scoring='roc_auc',n_jobs=4,iid=False, cv=5)\n",
    "\n",
    "gsearch1.fit(X, y)\n",
    "gsearch1.grid_scores_, gsearch1.best_params_, gsearch1.best_score_"
   ]
  },
  {
   "cell_type": "markdown",
   "metadata": {},
   "source": [
    "### min_child_weight"
   ]
  },
  {
   "cell_type": "code",
   "execution_count": 5,
   "metadata": {},
   "outputs": [
    {
     "name": "stderr",
     "output_type": "stream",
     "text": [
      "/home/bautista/anaconda3/lib/python3.6/site-packages/sklearn/model_selection/_search.py:761: DeprecationWarning: The grid_scores_ attribute was deprecated in version 0.18 in favor of the more elaborate cv_results_ attribute. The grid_scores_ attribute will not be available from 0.20\n",
      "  DeprecationWarning)\n"
     ]
    },
    {
     "data": {
      "text/plain": [
       "([mean: 0.86202, std: 0.01178, params: {'min_child_weight': 3},\n",
       "  mean: 0.86165, std: 0.01170, params: {'min_child_weight': 2},\n",
       "  mean: 0.86204, std: 0.01208, params: {'min_child_weight': 4},\n",
       "  mean: 0.86205, std: 0.01182, params: {'min_child_weight': 5}],\n",
       " {'min_child_weight': 5},\n",
       " 0.8620457722913285)"
      ]
     },
     "execution_count": 5,
     "metadata": {},
     "output_type": "execute_result"
    }
   ],
   "source": [
    "param_test2b = {\n",
    " 'min_child_weight':[3,2,4,5]\n",
    "}\n",
    "gsearch2b = GridSearchCV(estimator = xgb.XGBClassifier(learning_rate=0.01, n_estimators=100, max_depth=3,\n",
    " min_child_weight=5, gamma=0, subsample=0.8, colsample_bytree=0.8,\n",
    " objective= 'binary:logistic', nthread=4, scale_pos_weight=1,seed=RANDOM_SEED), \n",
    " param_grid = param_test2b, scoring='roc_auc',n_jobs=4,iid=False, cv=5)\n",
    "\n",
    "gsearch2b.fit(X, y)\n",
    "gsearch2b.grid_scores_, gsearch2b.best_params_, gsearch2b.best_score_"
   ]
  },
  {
   "cell_type": "markdown",
   "metadata": {},
   "source": [
    "### gamma"
   ]
  },
  {
   "cell_type": "code",
   "execution_count": 12,
   "metadata": {},
   "outputs": [
    {
     "name": "stderr",
     "output_type": "stream",
     "text": [
      "/home/bautista/anaconda3/lib/python3.6/site-packages/sklearn/model_selection/_search.py:761: DeprecationWarning: The grid_scores_ attribute was deprecated in version 0.18 in favor of the more elaborate cv_results_ attribute. The grid_scores_ attribute will not be available from 0.20\n",
      "  DeprecationWarning)\n"
     ]
    },
    {
     "data": {
      "text/plain": [
       "([mean: 0.87097, std: 0.00894, params: {'gamma': 0.0},\n",
       "  mean: 0.87097, std: 0.00894, params: {'gamma': 0.1},\n",
       "  mean: 0.87105, std: 0.00882, params: {'gamma': 0.2},\n",
       "  mean: 0.87106, std: 0.00882, params: {'gamma': 0.3},\n",
       "  mean: 0.87093, std: 0.00863, params: {'gamma': 0.4}],\n",
       " {'gamma': 0.3},\n",
       " 0.8710552040578913)"
      ]
     },
     "execution_count": 12,
     "metadata": {},
     "output_type": "execute_result"
    }
   ],
   "source": [
    "param_test3 = {\n",
    " 'gamma':[i/10.0 for i in range(0,5)]\n",
    "}\n",
    "gsearch3 = GridSearchCV(estimator = xgb.XGBClassifier(learning_rate =0.05, n_estimators=100, max_depth=3,\n",
    " min_child_weight=5, gamma=0, subsample=0.8, colsample_bytree=0.8,\n",
    " objective= 'binary:logistic', nthread=4, scale_pos_weight=1,seed=RANDOM_SEED), \n",
    " param_grid = param_test3, scoring='roc_auc',n_jobs=4,iid=False, cv=5)\n",
    "\n",
    "gsearch3.fit(X, y)\n",
    "gsearch3.grid_scores_, gsearch3.best_params_, gsearch3.best_score_"
   ]
  },
  {
   "cell_type": "code",
   "execution_count": 13,
   "metadata": {},
   "outputs": [
    {
     "name": "stderr",
     "output_type": "stream",
     "text": [
      "/home/bautista/anaconda3/lib/python3.6/site-packages/sklearn/model_selection/_search.py:761: DeprecationWarning: The grid_scores_ attribute was deprecated in version 0.18 in favor of the more elaborate cv_results_ attribute. The grid_scores_ attribute will not be available from 0.20\n",
      "  DeprecationWarning)\n"
     ]
    },
    {
     "data": {
      "text/plain": [
       "([mean: 0.86979, std: 0.00981, params: {'colsample_bytree': 0.6, 'subsample': 0.6},\n",
       "  mean: 0.87133, std: 0.00960, params: {'colsample_bytree': 0.6, 'subsample': 0.7},\n",
       "  mean: 0.87122, std: 0.01046, params: {'colsample_bytree': 0.6, 'subsample': 0.8},\n",
       "  mean: 0.87054, std: 0.01029, params: {'colsample_bytree': 0.6, 'subsample': 0.9},\n",
       "  mean: 0.86980, std: 0.00924, params: {'colsample_bytree': 0.7, 'subsample': 0.6},\n",
       "  mean: 0.87114, std: 0.00951, params: {'colsample_bytree': 0.7, 'subsample': 0.7},\n",
       "  mean: 0.87087, std: 0.00891, params: {'colsample_bytree': 0.7, 'subsample': 0.8},\n",
       "  mean: 0.87101, std: 0.00959, params: {'colsample_bytree': 0.7, 'subsample': 0.9},\n",
       "  mean: 0.87031, std: 0.00963, params: {'colsample_bytree': 0.8, 'subsample': 0.6},\n",
       "  mean: 0.87060, std: 0.00924, params: {'colsample_bytree': 0.8, 'subsample': 0.7},\n",
       "  mean: 0.87091, std: 0.00921, params: {'colsample_bytree': 0.8, 'subsample': 0.8},\n",
       "  mean: 0.87122, std: 0.00893, params: {'colsample_bytree': 0.8, 'subsample': 0.9},\n",
       "  mean: 0.86996, std: 0.01034, params: {'colsample_bytree': 0.9, 'subsample': 0.6},\n",
       "  mean: 0.87105, std: 0.00977, params: {'colsample_bytree': 0.9, 'subsample': 0.7},\n",
       "  mean: 0.87122, std: 0.00904, params: {'colsample_bytree': 0.9, 'subsample': 0.8},\n",
       "  mean: 0.87078, std: 0.00972, params: {'colsample_bytree': 0.9, 'subsample': 0.9}],\n",
       " {'colsample_bytree': 0.6, 'subsample': 0.7},\n",
       " 0.8713323938354762)"
      ]
     },
     "execution_count": 13,
     "metadata": {},
     "output_type": "execute_result"
    }
   ],
   "source": [
    "param_test4 = {\n",
    " 'subsample':[i/10.0 for i in range(6,10)],\n",
    " 'colsample_bytree':[i/10.0 for i in range(6,10)]\n",
    "}\n",
    "gsearch4 = GridSearchCV(estimator = xgb.XGBClassifier(learning_rate =0.05, n_estimators=177, max_depth=3,\n",
    " min_child_weight=5, gamma=0.3, subsample=0.8, colsample_bytree=0.8,\n",
    " objective= 'binary:logistic', nthread=4, scale_pos_weight=1,seed=RANDOM_SEED), \n",
    " param_grid = param_test4, scoring='roc_auc',n_jobs=4,iid=False, cv=5)\n",
    "\n",
    "gsearch4.fit(X, y)\n",
    "gsearch4.grid_scores_, gsearch4.best_params_, gsearch4.best_score_"
   ]
  },
  {
   "cell_type": "code",
   "execution_count": 15,
   "metadata": {},
   "outputs": [
    {
     "name": "stderr",
     "output_type": "stream",
     "text": [
      "/home/bautista/anaconda3/lib/python3.6/site-packages/sklearn/model_selection/_search.py:761: DeprecationWarning: The grid_scores_ attribute was deprecated in version 0.18 in favor of the more elaborate cv_results_ attribute. The grid_scores_ attribute will not be available from 0.20\n",
      "  DeprecationWarning)\n"
     ]
    },
    {
     "data": {
      "text/plain": [
       "([mean: 0.87152, std: 0.00988, params: {'reg_alpha': 1e-05},\n",
       "  mean: 0.87144, std: 0.00992, params: {'reg_alpha': 0.01},\n",
       "  mean: 0.87154, std: 0.00989, params: {'reg_alpha': 0.1},\n",
       "  mean: 0.87115, std: 0.00929, params: {'reg_alpha': 1},\n",
       "  mean: 0.85978, std: 0.00814, params: {'reg_alpha': 100}],\n",
       " {'reg_alpha': 0.1},\n",
       " 0.8715442074036162)"
      ]
     },
     "execution_count": 15,
     "metadata": {},
     "output_type": "execute_result"
    }
   ],
   "source": [
    "param_test6 = {\n",
    " 'reg_alpha':[1e-5, 1e-2, 0.1, 1, 100]\n",
    "}\n",
    "gsearch6 = GridSearchCV(estimator = xgb.XGBClassifier(learning_rate=0.05, n_estimators=177, max_depth=3,\n",
    " min_child_weight=5, gamma=0.3, subsample=0.7, colsample_bytree=0.6, reg_alpha = 1e-05,\n",
    " objective= 'binary:logistic', nthread=4, scale_pos_weight=1,seed=RANDOM_SEED), \n",
    " param_grid = param_test6, scoring='roc_auc',n_jobs=4,iid=False, cv=5)\n",
    "\n",
    "gsearch6.fit(X, y)\n",
    "gsearch6.grid_scores_, gsearch6.best_params_, gsearch6.best_score_"
   ]
  },
  {
   "cell_type": "markdown",
   "metadata": {},
   "source": [
    "## N-Estimators"
   ]
  },
  {
   "cell_type": "code",
   "execution_count": 6,
   "metadata": {},
   "outputs": [
    {
     "name": "stderr",
     "output_type": "stream",
     "text": [
      "/home/bautista/anaconda3/lib/python3.6/site-packages/sklearn/model_selection/_search.py:761: DeprecationWarning: The grid_scores_ attribute was deprecated in version 0.18 in favor of the more elaborate cv_results_ attribute. The grid_scores_ attribute will not be available from 0.20\n",
      "  DeprecationWarning)\n"
     ]
    },
    {
     "data": {
      "text/plain": [
       "([mean: 0.86953, std: 0.01109, params: {'n_estimators': 100},\n",
       "  mean: 0.86987, std: 0.01123, params: {'n_estimators': 200},\n",
       "  mean: 0.86722, std: 0.01229, params: {'n_estimators': 300},\n",
       "  mean: 0.86490, std: 0.01212, params: {'n_estimators': 400},\n",
       "  mean: 0.86246, std: 0.01263, params: {'n_estimators': 500},\n",
       "  mean: 0.85983, std: 0.01378, params: {'n_estimators': 600},\n",
       "  mean: 0.85736, std: 0.01434, params: {'n_estimators': 700},\n",
       "  mean: 0.85489, std: 0.01446, params: {'n_estimators': 800},\n",
       "  mean: 0.85280, std: 0.01569, params: {'n_estimators': 900}],\n",
       " {'n_estimators': 200},\n",
       " 0.8698694499916506)"
      ]
     },
     "execution_count": 6,
     "metadata": {},
     "output_type": "execute_result"
    }
   ],
   "source": [
    "param_test_n = {\n",
    " 'n_estimators': [x for x in range(100, 1000, 100)]\n",
    "}\n",
    "\n",
    "gsearch7 = GridSearchCV(estimator = xgb.XGBClassifier(learning_rate =0.05, max_depth=3,\n",
    " min_child_weight=5, gamma=0.3, subsample=0.7, colsample_bytree=0.6, reg_alpha = 0.1,\n",
    " objective= 'binary:logistic', nthread=4, scale_pos_weight=1, seed=RANDOM_SEED), \n",
    " param_grid = param_test_n, scoring='roc_auc',n_jobs=4,iid=False, cv=5)\n",
    "\n",
    "gsearch7.fit(X, y)\n",
    "gsearch7.grid_scores_, gsearch7.best_params_, gsearch7.best_score_"
   ]
  }
 ],
 "metadata": {
  "kernelspec": {
   "display_name": "Python 3",
   "language": "python",
   "name": "python3"
  },
  "language_info": {
   "codemirror_mode": {
    "name": "ipython",
    "version": 3
   },
   "file_extension": ".py",
   "mimetype": "text/x-python",
   "name": "python",
   "nbconvert_exporter": "python",
   "pygments_lexer": "ipython3",
   "version": "3.6.5"
  }
 },
 "nbformat": 4,
 "nbformat_minor": 2
}
