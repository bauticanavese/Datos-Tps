{
 "cells": [
  {
   "cell_type": "markdown",
   "metadata": {},
   "source": [
    "## XGBoost Testing new Features"
   ]
  },
  {
   "cell_type": "code",
   "execution_count": 1,
   "metadata": {},
   "outputs": [],
   "source": [
    "import pandas as pd\n",
    "import numpy as np\n",
    "import matplotlib.pyplot as plt\n",
    "\n",
    "# metrics\n",
    "from sklearn.metrics import roc_auc_score\n",
    "from sklearn.model_selection import train_test_split, cross_val_score\n",
    "\n",
    "#xgb\n",
    "import xgboost as xgb"
   ]
  },
  {
   "cell_type": "code",
   "execution_count": 86,
   "metadata": {},
   "outputs": [],
   "source": [
    "training = pd.read_csv('../test/training-person2.csv')\n",
    "test = pd.read_csv('../test/test-person2.csv')\n",
    "sumbit = test['person'].to_frame()"
   ]
  },
  {
   "cell_type": "code",
   "execution_count": 88,
   "metadata": {},
   "outputs": [],
   "source": [
    "RANDOM_SEED = 12\n",
    "TEST_SIZE_PERCENT = 0.2"
   ]
  },
  {
   "cell_type": "code",
   "execution_count": 89,
   "metadata": {},
   "outputs": [],
   "source": [
    "y = training['label']\n",
    "X = training.drop(axis=1, labels=['label'])\n",
    "X_train, X_test, y_train, y_test = train_test_split(X, y, test_size=TEST_SIZE_PERCENT, random_state=RANDOM_SEED)\n",
    "\n",
    "feature_list = list(X.columns)"
   ]
  },
  {
   "cell_type": "code",
   "execution_count": 90,
   "metadata": {},
   "outputs": [
    {
     "data": {
      "text/plain": [
       "Index(['event', 'ad campaign hit', 'brand listing', 'checkout', 'conversion',\n",
       "       'generic listing', 'lead', 'search engine hit', 'searched products',\n",
       "       'staticpage', 'viewed product', 'visited site', 'brand_categ',\n",
       "       'top_condition_categ', 'color_model_categ', 'model_brand_views_categ',\n",
       "       'device_type_categ', 'returning', 'ad campaign hit days',\n",
       "       'brand listing days', 'checkout days', 'conversion days',\n",
       "       'generic listing days', 'lead days', 'search engine hit days',\n",
       "       'searched products days', 'staticpage days', 'viewed product days',\n",
       "       'visited site days', 'events_cout_last_week',\n",
       "       'events_mean_frec_last_week', 'top_event_categ',\n",
       "       'top_searched_model_categ', 'region_categ', 'city_categ',\n",
       "       'country_categ', 'last_event_days', 'first_event_days',\n",
       "       'checkout mean last week', 'conversion mean last week'],\n",
       "      dtype='object')"
      ]
     },
     "execution_count": 90,
     "metadata": {},
     "output_type": "execute_result"
    }
   ],
   "source": [
    "X.columns"
   ]
  },
  {
   "cell_type": "code",
   "execution_count": 91,
   "metadata": {},
   "outputs": [],
   "source": [
    "# best kaggle score sin mean para cada user\n",
    "rdf3 = xgb.XGBClassifier(learning_rate=0.05, n_estimators=130, max_depth=3,\n",
    " min_child_weight=5, gamma=0.3, subsample=0.7, colsample_bytree=0.6, reg_alpha = 0.1, seed=RANDOM_SEED)\n",
    "\n",
    "rdf = xgb.XGBClassifier(learning_rate=0.01, n_estimators=600, max_depth=3,\n",
    " min_child_weight=5, gamma=0, subsample=0.7, colsample_bytree=0.6, reg_alpha =0.1,objective= 'binary:logistic',seed=RANDOM_SEED)"
   ]
  },
  {
   "cell_type": "code",
   "execution_count": 92,
   "metadata": {
    "scrolled": true
   },
   "outputs": [
    {
     "data": {
      "text/plain": [
       "XGBClassifier(base_score=0.5, booster='gbtree', colsample_bylevel=1,\n",
       "       colsample_bytree=0.6, gamma=0, learning_rate=0.01, max_delta_step=0,\n",
       "       max_depth=3, min_child_weight=5, missing=None, n_estimators=600,\n",
       "       n_jobs=1, nthread=None, objective='binary:logistic', random_state=0,\n",
       "       reg_alpha=0.1, reg_lambda=1, scale_pos_weight=1, seed=12,\n",
       "       silent=True, subsample=0.7)"
      ]
     },
     "execution_count": 92,
     "metadata": {},
     "output_type": "execute_result"
    }
   ],
   "source": [
    "# Training\n",
    "rdf.fit(X_train, y_train)"
   ]
  },
  {
   "cell_type": "code",
   "execution_count": 93,
   "metadata": {
    "scrolled": false
   },
   "outputs": [],
   "source": [
    "# Predict value\n",
    "ret = rdf.predict_proba(X_test)"
   ]
  },
  {
   "cell_type": "code",
   "execution_count": 94,
   "metadata": {},
   "outputs": [
    {
     "data": {
      "text/plain": [
       "0.8693481605385704"
      ]
     },
     "execution_count": 94,
     "metadata": {},
     "output_type": "execute_result"
    }
   ],
   "source": [
    "y_test_predictd = ret[:, 1]\n",
    "roc_auc_score(y_test, y_test_predictd)\n",
    "#0.8691145494532726"
   ]
  },
  {
   "cell_type": "code",
   "execution_count": 95,
   "metadata": {},
   "outputs": [
    {
     "name": "stderr",
     "output_type": "stream",
     "text": [
      "/home/bautista/anaconda3/lib/python3.6/site-packages/sklearn/preprocessing/label.py:151: DeprecationWarning: The truth value of an empty array is ambiguous. Returning False, but in future this will result in an error. Use `array.size > 0` to check that an array is not empty.\n",
      "  if diff:\n"
     ]
    },
    {
     "data": {
      "text/plain": [
       "0.9454030388874581"
      ]
     },
     "execution_count": 95,
     "metadata": {},
     "output_type": "execute_result"
    }
   ],
   "source": [
    "rdf.score(X_test, y_test)"
   ]
  },
  {
   "cell_type": "code",
   "execution_count": 96,
   "metadata": {},
   "outputs": [],
   "source": [
    "# Predict value kaggle set\n",
    "# Training\n",
    "rdf.fit(X, y)\n",
    "ret = rdf.predict_proba(test.drop(axis=1, labels=['person']))"
   ]
  },
  {
   "cell_type": "code",
   "execution_count": 97,
   "metadata": {},
   "outputs": [],
   "source": [
    "# Get proba\n",
    "sumbit['label'] = pd.DataFrame(ret)[1]"
   ]
  },
  {
   "cell_type": "code",
   "execution_count": 98,
   "metadata": {
    "scrolled": true
   },
   "outputs": [
    {
     "data": {
      "text/plain": [
       "Text(0.5,1,'Prediccion Probabilidad de Conversion')"
      ]
     },
     "execution_count": 98,
     "metadata": {},
     "output_type": "execute_result"
    },
    {
     "data": {
      "image/png": "[encoded data removed]",
      "text/plain": [
       "<Figure size 432x288 with 1 Axes>"
      ]
     },
     "metadata": {},
     "output_type": "display_data"
    }
   ],
   "source": [
    "g = (sumbit['label']).hist()\n",
    "g.set_ylabel('Cantidad', size=12)\n",
    "g.set_xlabel('Probabilidad', size=12)\n",
    "g.set_title(\"Prediccion Probabilidad de Conversion\", size=16)"
   ]
  },
  {
   "cell_type": "code",
   "execution_count": 99,
   "metadata": {},
   "outputs": [
    {
     "name": "stdout",
     "output_type": "stream",
     "text": [
      "Variable: checkout days        Importance: 0.08266279846429825\n",
      "Variable: conversion days      Importance: 0.07802979648113251\n",
      "Variable: device_type_categ    Importance: 0.05730310082435608\n",
      "Variable: checkout mean last week Importance: 0.05608389899134636\n",
      "Variable: region_categ         Importance: 0.047549400478601456\n",
      "Variable: viewed product       Importance: 0.046086300164461136\n",
      "Variable: event                Importance: 0.045842498540878296\n",
      "Variable: city_categ           Importance: 0.042184799909591675\n",
      "Variable: conversion           Importance: 0.038770999759435654\n",
      "Variable: search engine hit days Importance: 0.03657640144228935\n",
      "Variable: color_model_categ    Importance: 0.03365030139684677\n",
      "Variable: events_cout_last_week Importance: 0.03316260129213333\n",
      "Variable: brand_categ          Importance: 0.0302364993840456\n",
      "Variable: checkout             Importance: 0.02950499951839447\n",
      "Variable: generic listing days Importance: 0.02901729941368103\n",
      "Variable: viewed product days  Importance: 0.02609119936823845\n",
      "Variable: model_brand_views_categ Importance: 0.02584739960730076\n",
      "Variable: top_event_categ      Importance: 0.02584739960730076\n",
      "Variable: brand listing days   Importance: 0.02438429929316044\n",
      "Variable: top_searched_model_categ Importance: 0.023896599188447\n",
      "Variable: brand listing        Importance: 0.022677399218082428\n",
      "Variable: top_condition_categ  Importance: 0.022433599457144737\n",
      "Variable: searched products days Importance: 0.019995100796222687\n",
      "Variable: first_event_days     Importance: 0.01536209974437952\n",
      "Variable: events_mean_frec_last_week Importance: 0.013411399908363819\n",
      "Variable: ad campaign hit days Importance: 0.010729099623858929\n",
      "Variable: country_categ        Importance: 0.010729099623858929\n",
      "Variable: visited site         Importance: 0.009753700345754623\n",
      "Variable: generic listing      Importance: 0.009266000241041183\n",
      "Variable: last_event_days      Importance: 0.007803000044077635\n",
      "Variable: visited site days    Importance: 0.007559100165963173\n",
      "Variable: search engine hit    Importance: 0.007071400061249733\n",
      "Variable: ad campaign hit      Importance: 0.006583800073713064\n",
      "Variable: conversion mean last week Importance: 0.005852200090885162\n",
      "Variable: returning            Importance: 0.004389199893921614\n",
      "Variable: staticpage days      Importance: 0.0039015000220388174\n",
      "Variable: searched products    Importance: 0.003657599911093712\n",
      "Variable: staticpage           Importance: 0.003169999923557043\n",
      "Variable: lead days            Importance: 0.0024383999407291412\n",
      "Variable: lead                 Importance: 0.0004876999882981181\n"
     ]
    }
   ],
   "source": [
    "# Get numerical feature importances\n",
    "importances = list(rdf.feature_importances_)\n",
    "\n",
    "# List of tuples with variable and importance\n",
    "feature_importances = [(feature, round(importance, 7)) for feature, importance in zip(feature_list, importances)]\n",
    "\n",
    "# Sort the feature importances by most important first\n",
    "feature_importances = sorted(feature_importances, key = lambda x: x[1], reverse = True)\n",
    "\n",
    "# Print out the feature and importances \n",
    "[print('Variable: {:20} Importance: {}'.format(*pair)) for pair in feature_importances];"
   ]
  },
  {
   "cell_type": "code",
   "execution_count": 100,
   "metadata": {},
   "outputs": [],
   "source": [
    "sumbit.to_csv('test/submit-XGB-GS.csv', index=False)"
   ]
  }
 ],
 "metadata": {
  "kernelspec": {
   "display_name": "Python 3",
   "language": "python",
   "name": "python3"
  },
  "language_info": {
   "codemirror_mode": {
    "name": "ipython",
    "version": 3
   },
   "file_extension": ".py",
   "mimetype": "text/x-python",
   "name": "python",
   "nbconvert_exporter": "python",
   "pygments_lexer": "ipython3",
   "version": "3.6.5"
  }
 },
 "nbformat": 4,
 "nbformat_minor": 2
}
