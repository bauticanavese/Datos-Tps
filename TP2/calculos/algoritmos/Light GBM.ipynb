{
 "cells": [
  {
   "cell_type": "markdown",
   "metadata": {},
   "source": [
    "## Light GBM"
   ]
  },
  {
   "cell_type": "code",
   "execution_count": 1,
   "metadata": {},
   "outputs": [],
   "source": [
    "import pandas as pd\n",
    "import numpy as np\n",
    "import matplotlib.pyplot as plt\n",
    "\n",
    "# metrics\n",
    "from sklearn.metrics import roc_auc_score\n",
    "from sklearn.model_selection import train_test_split, cross_val_score\n",
    "\n",
    "#lgmb\n",
    "import lightgbm as lgbm"
   ]
  },
  {
   "cell_type": "code",
   "execution_count": 5,
   "metadata": {},
   "outputs": [],
   "source": [
    "training = pd.read_csv('../test/training-person2.csv')\n",
    "test = pd.read_csv('../test/test-person2.csv')\n",
    "sumbit = test['person'].to_frame()"
   ]
  },
  {
   "cell_type": "code",
   "execution_count": 78,
   "metadata": {},
   "outputs": [],
   "source": [
    "RANDOM_SEED = 12\n",
    "TEST_SIZE_PERCENT = 0.2"
   ]
  },
  {
   "cell_type": "code",
   "execution_count": 79,
   "metadata": {},
   "outputs": [],
   "source": [
    "y = training['label']\n",
    "X = training.drop(axis=1, labels=['label'])\n",
    "X_train, X_test, y_train, y_test = train_test_split(X, y, test_size=TEST_SIZE_PERCENT, random_state=RANDOM_SEED)\n",
    "\n",
    "feature_list = list(X.columns)"
   ]
  },
  {
   "cell_type": "code",
   "execution_count": 80,
   "metadata": {},
   "outputs": [
    {
     "data": {
      "text/plain": [
       "Index(['event', 'ad campaign hit', 'brand listing', 'checkout', 'conversion',\n",
       "       'generic listing', 'lead', 'search engine hit', 'searched products',\n",
       "       'staticpage', 'viewed product', 'visited site', 'brand_categ',\n",
       "       'top_condition_categ', 'color_model_categ', 'model_brand_views_categ',\n",
       "       'device_type_categ', 'returning', 'ad campaign hit days',\n",
       "       'brand listing days', 'checkout days', 'conversion days',\n",
       "       'generic listing days', 'lead days', 'search engine hit days',\n",
       "       'searched products days', 'staticpage days', 'viewed product days',\n",
       "       'visited site days', 'events_cout_last_week',\n",
       "       'events_mean_frec_last_week', 'top_event_categ',\n",
       "       'top_searched_model_categ', 'region_categ', 'city_categ',\n",
       "       'country_categ', 'last_event_days', 'first_event_days'],\n",
       "      dtype='object')"
      ]
     },
     "execution_count": 80,
     "metadata": {},
     "output_type": "execute_result"
    }
   ],
   "source": [
    "X.columns"
   ]
  },
  {
   "cell_type": "code",
   "execution_count": 81,
   "metadata": {},
   "outputs": [],
   "source": [
    "rdf = lgbm.LGBMClassifier(\n",
    "        n_estimators=130,\n",
    "        num_leaves=8,\n",
    "        colsample_bytree=.7,\n",
    "        subsample=.6,\n",
    "        max_depth=3,\n",
    "        reg_alpha=0.1,\n",
    "        reg_lambda=0.1,\n",
    "        min_split_gain=0.01,\n",
    "        random_state=RANDOM_SEED\n",
    "    )"
   ]
  },
  {
   "cell_type": "code",
   "execution_count": 82,
   "metadata": {
    "scrolled": true
   },
   "outputs": [
    {
     "data": {
      "text/plain": [
       "LGBMClassifier(boosting_type='gbdt', class_weight=None, colsample_bytree=0.7,\n",
       "        importance_type='split', learning_rate=0.1, max_depth=3,\n",
       "        min_child_samples=20, min_child_weight=0.001, min_split_gain=0.01,\n",
       "        n_estimators=130, n_jobs=-1, num_leaves=8, objective=None,\n",
       "        random_state=12, reg_alpha=0.1, reg_lambda=0.1, silent=True,\n",
       "        subsample=0.6, subsample_for_bin=200000, subsample_freq=0)"
      ]
     },
     "execution_count": 82,
     "metadata": {},
     "output_type": "execute_result"
    }
   ],
   "source": [
    "# Training\n",
    "rdf.fit(X_train, y_train)"
   ]
  },
  {
   "cell_type": "code",
   "execution_count": 83,
   "metadata": {
    "scrolled": false
   },
   "outputs": [],
   "source": [
    "# Predict value\n",
    "ret = rdf.predict_proba(X_test)"
   ]
  },
  {
   "cell_type": "code",
   "execution_count": 84,
   "metadata": {},
   "outputs": [
    {
     "data": {
      "text/plain": [
       "0.8620545901351588"
      ]
     },
     "execution_count": 84,
     "metadata": {},
     "output_type": "execute_result"
    }
   ],
   "source": [
    "y_test_predictd = ret[:, 1]\n",
    "roc_auc_score(y_test, y_test_predictd)\n",
    "#0.8691145494532726"
   ]
  },
  {
   "cell_type": "code",
   "execution_count": 85,
   "metadata": {},
   "outputs": [
    {
     "name": "stderr",
     "output_type": "stream",
     "text": [
      "/home/bautista/anaconda3/lib/python3.6/site-packages/sklearn/preprocessing/label.py:151: DeprecationWarning: The truth value of an empty array is ambiguous. Returning False, but in future this will result in an error. Use `array.size > 0` to check that an array is not empty.\n",
      "  if diff:\n"
     ]
    },
    {
     "data": {
      "text/plain": [
       "0.9459181045583311"
      ]
     },
     "execution_count": 85,
     "metadata": {},
     "output_type": "execute_result"
    }
   ],
   "source": [
    "rdf.score(X_test, y_test)"
   ]
  },
  {
   "cell_type": "code",
   "execution_count": 86,
   "metadata": {},
   "outputs": [],
   "source": [
    "# Predict value kaggle set\n",
    "# Training\n",
    "rdf.fit(X, y)\n",
    "ret = rdf.predict_proba(test.drop(axis=1, labels=['person']))"
   ]
  },
  {
   "cell_type": "code",
   "execution_count": 87,
   "metadata": {},
   "outputs": [],
   "source": [
    "# Get proba\n",
    "sumbit['label'] = pd.DataFrame(ret)[1]"
   ]
  },
  {
   "cell_type": "code",
   "execution_count": 88,
   "metadata": {
    "scrolled": true
   },
   "outputs": [
    {
     "data": {
      "image/png": "[encoded data removed]",
      "text/plain": [
       "<Figure size 432x288 with 1 Axes>"
      ]
     },
     "metadata": {},
     "output_type": "display_data"
    }
   ],
   "source": [
    "g = (sumbit['label']).hist()"
   ]
  },
  {
   "cell_type": "code",
   "execution_count": 89,
   "metadata": {},
   "outputs": [
    {
     "name": "stdout",
     "output_type": "stream",
     "text": [
      "Variable: checkout days        Importance: 60\n",
      "Variable: region_categ         Importance: 55\n",
      "Variable: top_condition_categ  Importance: 53\n",
      "Variable: device_type_categ    Importance: 42\n",
      "Variable: search engine hit days Importance: 37\n",
      "Variable: color_model_categ    Importance: 36\n",
      "Variable: city_categ           Importance: 35\n",
      "Variable: brand_categ          Importance: 31\n",
      "Variable: top_event_categ      Importance: 30\n",
      "Variable: conversion days      Importance: 29\n",
      "Variable: model_brand_views_categ Importance: 28\n",
      "Variable: country_categ        Importance: 28\n",
      "Variable: ad campaign hit days Importance: 27\n",
      "Variable: brand listing days   Importance: 26\n",
      "Variable: top_searched_model_categ Importance: 23\n",
      "Variable: event                Importance: 21\n",
      "Variable: generic listing days Importance: 21\n",
      "Variable: first_event_days     Importance: 21\n",
      "Variable: visited site         Importance: 20\n",
      "Variable: checkout             Importance: 19\n",
      "Variable: ad campaign hit      Importance: 18\n",
      "Variable: generic listing      Importance: 18\n",
      "Variable: viewed product days  Importance: 17\n",
      "Variable: viewed product       Importance: 15\n",
      "Variable: brand listing        Importance: 14\n",
      "Variable: searched products days Importance: 14\n",
      "Variable: events_mean_frec_last_week Importance: 14\n",
      "Variable: conversion           Importance: 13\n",
      "Variable: events_cout_last_week Importance: 12\n",
      "Variable: searched products    Importance: 8\n",
      "Variable: staticpage days      Importance: 8\n",
      "Variable: search engine hit    Importance: 6\n",
      "Variable: visited site days    Importance: 6\n",
      "Variable: returning            Importance: 3\n",
      "Variable: staticpage           Importance: 2\n",
      "Variable: last_event_days      Importance: 2\n",
      "Variable: lead days            Importance: 1\n",
      "Variable: lead                 Importance: 0\n"
     ]
    }
   ],
   "source": [
    "# Get numerical feature importances\n",
    "importances = list(rdf.feature_importances_)\n",
    "\n",
    "# List of tuples with variable and importance\n",
    "feature_importances = [(feature, round(importance, 7)) for feature, importance in zip(feature_list, importances)]\n",
    "\n",
    "# Sort the feature importances by most important first\n",
    "feature_importances = sorted(feature_importances, key = lambda x: x[1], reverse = True)\n",
    "\n",
    "# Print out the feature and importances \n",
    "[print('Variable: {:20} Importance: {}'.format(*pair)) for pair in feature_importances];"
   ]
  },
  {
   "cell_type": "code",
   "execution_count": 90,
   "metadata": {},
   "outputs": [],
   "source": [
    "sumbit.to_csv('test/submit-LGBM.csv', index=False)"
   ]
  }
 ],
 "metadata": {
  "kernelspec": {
   "display_name": "Python 3",
   "language": "python",
   "name": "python3"
  },
  "language_info": {
   "codemirror_mode": {
    "name": "ipython",
    "version": 3
   },
   "file_extension": ".py",
   "mimetype": "text/x-python",
   "name": "python",
   "nbconvert_exporter": "python",
   "pygments_lexer": "ipython3",
   "version": "3.6.5"
  }
 },
 "nbformat": 4,
 "nbformat_minor": 2
}
