{
 "cells": [
  {
   "cell_type": "markdown",
   "metadata": {},
   "source": [
    "## Gradient Boosting "
   ]
  },
  {
   "cell_type": "code",
   "execution_count": 238,
   "metadata": {},
   "outputs": [],
   "source": [
    "import pandas as pd\n",
    "import numpy as np\n",
    "import matplotlib.pyplot as plt\n",
    "\n",
    "# import machine learning algorithms\n",
    "from sklearn.ensemble import GradientBoostingClassifier\n",
    "from sklearn.metrics import roc_auc_score\n",
    "from sklearn.model_selection import train_test_split, cross_val_score\n"
   ]
  },
  {
   "cell_type": "code",
   "execution_count": 239,
   "metadata": {},
   "outputs": [],
   "source": [
    "training = pd.read_csv('../test/training-person2.csv').fillna(0)\n",
    "test = pd.read_csv('../test/test-person2.csv').fillna(0)\n",
    "sumbit = test['person'].to_frame()"
   ]
  },
  {
   "cell_type": "code",
   "execution_count": 240,
   "metadata": {},
   "outputs": [],
   "source": [
    "RANDOM_SEED = 12\n",
    "TEST_SIZE_PERCENT = 0.2"
   ]
  },
  {
   "cell_type": "code",
   "execution_count": 241,
   "metadata": {},
   "outputs": [],
   "source": [
    "for feature in training.columns:\n",
    "    if feature == 'label':\n",
    "        continue\n",
    "    training[feature] = training[feature].fillna(training[feature].mean())\n",
    "    test[feature] = test[feature].fillna(test[feature].mean())"
   ]
  },
  {
   "cell_type": "code",
   "execution_count": 242,
   "metadata": {},
   "outputs": [],
   "source": [
    "y = training['label']\n",
    "X = training.drop(axis=1, labels=['label'])\n",
    "X_train, X_test, y_train, y_test = train_test_split(X, y, test_size=TEST_SIZE_PERCENT, random_state=RANDOM_SEED)\n",
    "\n",
    "feature_list = list(X.columns)"
   ]
  },
  {
   "cell_type": "code",
   "execution_count": 243,
   "metadata": {},
   "outputs": [],
   "source": [
    "rdf = GradientBoostingClassifier(learning_rate=0.05, \n",
    "                                 n_estimators=177,\n",
    "                                 max_depth=3,\n",
    "                                 max_features=5,\n",
    "                                 min_samples_split=750, \n",
    "                                 min_samples_leaf=70, \n",
    "                                 subsample=0.8, \n",
    "                                 random_state=RANDOM_SEED\n",
    "                                )\n",
    "\n",
    "# n_estimators = 177\n",
    "# max_depth = 3"
   ]
  },
  {
   "cell_type": "code",
   "execution_count": 244,
   "metadata": {
    "scrolled": true
   },
   "outputs": [
    {
     "data": {
      "text/plain": [
       "GradientBoostingClassifier(criterion='friedman_mse', init=None,\n",
       "              learning_rate=0.05, loss='deviance', max_depth=3,\n",
       "              max_features=5, max_leaf_nodes=None,\n",
       "              min_impurity_decrease=0.0, min_impurity_split=None,\n",
       "              min_samples_leaf=70, min_samples_split=750,\n",
       "              min_weight_fraction_leaf=0.0, n_estimators=177,\n",
       "              presort='auto', random_state=12, subsample=0.8, verbose=0,\n",
       "              warm_start=False)"
      ]
     },
     "execution_count": 244,
     "metadata": {},
     "output_type": "execute_result"
    }
   ],
   "source": [
    "# Training\n",
    "rdf.fit(X_train, y_train)"
   ]
  },
  {
   "cell_type": "code",
   "execution_count": 245,
   "metadata": {
    "scrolled": false
   },
   "outputs": [],
   "source": [
    "# Predict value\n",
    "ret = rdf.predict_proba(X_test)"
   ]
  },
  {
   "cell_type": "code",
   "execution_count": 246,
   "metadata": {},
   "outputs": [
    {
     "data": {
      "text/plain": [
       "0.8591647822899565"
      ]
     },
     "execution_count": 246,
     "metadata": {},
     "output_type": "execute_result"
    }
   ],
   "source": [
    "y_test_predictd = rdf.predict_proba(X_test)[:, 1]\n",
    "roc_auc_score(y_test, y_test_predictd)"
   ]
  },
  {
   "cell_type": "code",
   "execution_count": 247,
   "metadata": {},
   "outputs": [
    {
     "data": {
      "text/plain": [
       "0.9459181045583311"
      ]
     },
     "execution_count": 247,
     "metadata": {},
     "output_type": "execute_result"
    }
   ],
   "source": [
    "rdf.score(X_test, y_test)"
   ]
  },
  {
   "cell_type": "code",
   "execution_count": 248,
   "metadata": {},
   "outputs": [],
   "source": [
    "# Predict value kaggle set\n",
    "# Training\n",
    "rdf.fit(X, y)\n",
    "ret = rdf.predict_proba(test.drop(axis=1, labels=['person']))"
   ]
  },
  {
   "cell_type": "code",
   "execution_count": 249,
   "metadata": {},
   "outputs": [],
   "source": [
    "# Get proba\n",
    "sumbit['label'] = pd.DataFrame(ret)[1]"
   ]
  },
  {
   "cell_type": "code",
   "execution_count": 250,
   "metadata": {
    "scrolled": true
   },
   "outputs": [
    {
     "data": {
      "image/png": "[encoded data removed]",
      "text/plain": [
       "<Figure size 432x288 with 1 Axes>"
      ]
     },
     "metadata": {},
     "output_type": "display_data"
    }
   ],
   "source": [
    "g = (sumbit['label']).hist()"
   ]
  },
  {
   "cell_type": "code",
   "execution_count": 251,
   "metadata": {
    "scrolled": true
   },
   "outputs": [
    {
     "name": "stdout",
     "output_type": "stream",
     "text": [
      "Variable: checkout days        Importance: 0.1679144\n",
      "Variable: checkout             Importance: 0.1143727\n",
      "Variable: conversion days      Importance: 0.062711\n",
      "Variable: visited site days    Importance: 0.0429775\n",
      "Variable: viewed product days  Importance: 0.0374802\n",
      "Variable: color_model_categ    Importance: 0.0335147\n",
      "Variable: device_type_categ    Importance: 0.0327525\n",
      "Variable: conversion           Importance: 0.0320597\n",
      "Variable: viewed product       Importance: 0.0294763\n",
      "Variable: ad campaign hit days Importance: 0.0265296\n",
      "Variable: events_mean_frec_last_week Importance: 0.0259739\n",
      "Variable: event                Importance: 0.0241233\n",
      "Variable: events_cout_last_week Importance: 0.0239615\n",
      "Variable: generic listing days Importance: 0.0237654\n",
      "Variable: last_event_days      Importance: 0.0234615\n",
      "Variable: region_categ         Importance: 0.0226231\n",
      "Variable: brand listing        Importance: 0.022364\n",
      "Variable: search engine hit days Importance: 0.0220167\n",
      "Variable: top_searched_model_categ Importance: 0.0216994\n",
      "Variable: top_event_categ      Importance: 0.0195182\n",
      "Variable: city_categ           Importance: 0.0180342\n",
      "Variable: ad campaign hit      Importance: 0.01798\n",
      "Variable: first_event_days     Importance: 0.0179001\n",
      "Variable: visited site         Importance: 0.0173541\n",
      "Variable: search engine hit    Importance: 0.016918\n",
      "Variable: model_brand_views_categ Importance: 0.0168484\n",
      "Variable: searched products days Importance: 0.0113759\n",
      "Variable: searched products    Importance: 0.0100985\n",
      "Variable: top_condition_categ  Importance: 0.0095925\n",
      "Variable: staticpage days      Importance: 0.0094561\n",
      "Variable: country_categ        Importance: 0.0091024\n",
      "Variable: brand listing days   Importance: 0.0090118\n",
      "Variable: brand_categ          Importance: 0.0081784\n",
      "Variable: generic listing      Importance: 0.0074422\n",
      "Variable: returning            Importance: 0.0062788\n",
      "Variable: lead days            Importance: 0.0027101\n",
      "Variable: staticpage           Importance: 0.0024227\n",
      "Variable: lead                 Importance: 0.0\n"
     ]
    }
   ],
   "source": [
    "# Get numerical feature importances\n",
    "importances = list(rdf.feature_importances_)\n",
    "\n",
    "# List of tuples with variable and importance\n",
    "feature_importances = [(feature, round(importance, 7)) for feature, importance in zip(feature_list, importances)]\n",
    "\n",
    "# Sort the feature importances by most important first\n",
    "feature_importances = sorted(feature_importances, key = lambda x: x[1], reverse = True)\n",
    "\n",
    "# Print out the feature and importances \n",
    "[print('Variable: {:20} Importance: {}'.format(*pair)) for pair in feature_importances];"
   ]
  },
  {
   "cell_type": "code",
   "execution_count": 252,
   "metadata": {},
   "outputs": [],
   "source": [
    "sumbit.to_csv('test/Gradient-Boosting.csv', index=False)"
   ]
  },
  {
   "cell_type": "code",
   "execution_count": 253,
   "metadata": {},
   "outputs": [
    {
     "data": {
      "text/plain": [
       "2919"
      ]
     },
     "execution_count": 253,
     "metadata": {},
     "output_type": "execute_result"
    }
   ],
   "source": [
    "import gc\n",
    "gc.collect()"
   ]
  }
 ],
 "metadata": {
  "kernelspec": {
   "display_name": "Python 3",
   "language": "python",
   "name": "python3"
  },
  "language_info": {
   "codemirror_mode": {
    "name": "ipython",
    "version": 3
   },
   "file_extension": ".py",
   "mimetype": "text/x-python",
   "name": "python",
   "nbconvert_exporter": "python",
   "pygments_lexer": "ipython3",
   "version": "3.6.5"
  }
 },
 "nbformat": 4,
 "nbformat_minor": 2
}
