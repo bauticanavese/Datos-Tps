{
 "cells": [
  {
   "cell_type": "markdown",
   "metadata": {},
   "source": [
    "# Gradient Boosting - Parameter Tuning"
   ]
  },
  {
   "cell_type": "code",
   "execution_count": 2,
   "metadata": {},
   "outputs": [
    {
     "name": "stderr",
     "output_type": "stream",
     "text": [
      "/home/bautista/anaconda3/lib/python3.6/site-packages/sklearn/cross_validation.py:41: DeprecationWarning: This module was deprecated in version 0.18 in favor of the model_selection module into which all the refactored classes and functions are moved. Also note that the interface of the new CV iterators are different from that of this module. This module will be removed in 0.20.\n",
      "  \"This module will be removed in 0.20.\", DeprecationWarning)\n"
     ]
    }
   ],
   "source": [
    "import pandas as pd\n",
    "import numpy as np\n",
    "from sklearn.ensemble import GradientBoostingClassifier  #GBM algorithm\n",
    "from sklearn import cross_validation, metrics   #Additional scklearn functions\n",
    "from sklearn.metrics import roc_auc_score\n",
    "from sklearn.model_selection import train_test_split, cross_val_score\n",
    "from sklearn.model_selection import GridSearchCV  #Perforing grid search\n",
    "\n",
    "import matplotlib.pylab as plt\n",
    "%matplotlib inline\n"
   ]
  },
  {
   "cell_type": "code",
   "execution_count": 3,
   "metadata": {},
   "outputs": [],
   "source": [
    "training = pd.read_csv('../test/training-person2.csv').fillna(0)\n",
    "test = pd.read_csv('../test/test-person2.csv').fillna(0)\n",
    "sumbit = test['person'].to_frame()"
   ]
  },
  {
   "cell_type": "code",
   "execution_count": 4,
   "metadata": {},
   "outputs": [],
   "source": [
    "RANDOM_SEED = 12\n",
    "TEST_SIZE_PERCENT = 0.2"
   ]
  },
  {
   "cell_type": "code",
   "execution_count": 5,
   "metadata": {},
   "outputs": [],
   "source": [
    "y = training['label']\n",
    "X = training.drop(axis=1, labels=['label'])"
   ]
  },
  {
   "cell_type": "code",
   "execution_count": 15,
   "metadata": {},
   "outputs": [
    {
     "name": "stderr",
     "output_type": "stream",
     "text": [
      "/home/bautista/anaconda3/lib/python3.6/site-packages/sklearn/model_selection/_search.py:761: DeprecationWarning: The grid_scores_ attribute was deprecated in version 0.18 in favor of the more elaborate cv_results_ attribute. The grid_scores_ attribute will not be available from 0.20\n",
      "  DeprecationWarning)\n"
     ]
    },
    {
     "data": {
      "text/plain": [
       "([mean: 0.85141, std: 0.01167, params: {'n_estimators': 20},\n",
       "  mean: 0.85290, std: 0.01169, params: {'n_estimators': 30},\n",
       "  mean: 0.85308, std: 0.01198, params: {'n_estimators': 40},\n",
       "  mean: 0.85377, std: 0.01207, params: {'n_estimators': 50},\n",
       "  mean: 0.85361, std: 0.01224, params: {'n_estimators': 60},\n",
       "  mean: 0.85398, std: 0.01230, params: {'n_estimators': 70},\n",
       "  mean: 0.85372, std: 0.01190, params: {'n_estimators': 80}],\n",
       " {'n_estimators': 70},\n",
       " 0.8539784113113071)"
      ]
     },
     "execution_count": 15,
     "metadata": {},
     "output_type": "execute_result"
    }
   ],
   "source": [
    "#Choose all predictors except target & IDcols\n",
    "predictors = [x for x in training.columns if x not in ['person', 'label']]\n",
    "\n",
    "param_test1 = {'n_estimators': [x for x in range(20,81,10)]}\n",
    "gsearch1 = GridSearchCV(estimator = GradientBoostingClassifier(learning_rate=0.05, min_samples_split=500,min_samples_leaf=50,max_depth=8,max_features='sqrt',subsample=0.8,random_state=RANDOM_SEED), \n",
    "param_grid = param_test1, scoring='roc_auc',n_jobs=4,iid=False, cv=5)\n",
    "gsearch1.fit(X, y)\n",
    "\n",
    "gsearch1.grid_scores_, gsearch1.best_params_, gsearch1.best_score_"
   ]
  },
  {
   "cell_type": "code",
   "execution_count": 6,
   "metadata": {},
   "outputs": [
    {
     "name": "stderr",
     "output_type": "stream",
     "text": [
      "/home/bautista/anaconda3/lib/python3.6/site-packages/sklearn/model_selection/_search.py:761: DeprecationWarning: The grid_scores_ attribute was deprecated in version 0.18 in favor of the more elaborate cv_results_ attribute. The grid_scores_ attribute will not be available from 0.20\n",
      "  DeprecationWarning)\n"
     ]
    },
    {
     "data": {
      "text/plain": [
       "([mean: 0.85437, std: 0.01242, params: {'max_depth': 5, 'min_samples_split': 200},\n",
       "  mean: 0.85447, std: 0.01123, params: {'max_depth': 5, 'min_samples_split': 400},\n",
       "  mean: 0.85499, std: 0.01123, params: {'max_depth': 5, 'min_samples_split': 600},\n",
       "  mean: 0.85533, std: 0.01162, params: {'max_depth': 5, 'min_samples_split': 800},\n",
       "  mean: 0.85304, std: 0.01255, params: {'max_depth': 5, 'min_samples_split': 1000},\n",
       "  mean: 0.85398, std: 0.01444, params: {'max_depth': 7, 'min_samples_split': 200},\n",
       "  mean: 0.85236, std: 0.01361, params: {'max_depth': 7, 'min_samples_split': 400},\n",
       "  mean: 0.85454, std: 0.01253, params: {'max_depth': 7, 'min_samples_split': 600},\n",
       "  mean: 0.85363, std: 0.01281, params: {'max_depth': 7, 'min_samples_split': 800},\n",
       "  mean: 0.85427, std: 0.01127, params: {'max_depth': 7, 'min_samples_split': 1000},\n",
       "  mean: 0.85072, std: 0.01158, params: {'max_depth': 9, 'min_samples_split': 200},\n",
       "  mean: 0.85172, std: 0.01099, params: {'max_depth': 9, 'min_samples_split': 400},\n",
       "  mean: 0.85364, std: 0.01345, params: {'max_depth': 9, 'min_samples_split': 600},\n",
       "  mean: 0.85403, std: 0.01278, params: {'max_depth': 9, 'min_samples_split': 800},\n",
       "  mean: 0.85347, std: 0.01230, params: {'max_depth': 9, 'min_samples_split': 1000},\n",
       "  mean: 0.84978, std: 0.01213, params: {'max_depth': 11, 'min_samples_split': 200},\n",
       "  mean: 0.85159, std: 0.01086, params: {'max_depth': 11, 'min_samples_split': 400},\n",
       "  mean: 0.85267, std: 0.01447, params: {'max_depth': 11, 'min_samples_split': 600},\n",
       "  mean: 0.85192, std: 0.01194, params: {'max_depth': 11, 'min_samples_split': 800},\n",
       "  mean: 0.85240, std: 0.01287, params: {'max_depth': 11, 'min_samples_split': 1000},\n",
       "  mean: 0.85004, std: 0.01235, params: {'max_depth': 13, 'min_samples_split': 200},\n",
       "  mean: 0.85115, std: 0.01293, params: {'max_depth': 13, 'min_samples_split': 400},\n",
       "  mean: 0.85240, std: 0.00988, params: {'max_depth': 13, 'min_samples_split': 600},\n",
       "  mean: 0.85333, std: 0.01333, params: {'max_depth': 13, 'min_samples_split': 800},\n",
       "  mean: 0.85383, std: 0.01241, params: {'max_depth': 13, 'min_samples_split': 1000},\n",
       "  mean: 0.84925, std: 0.01155, params: {'max_depth': 15, 'min_samples_split': 200},\n",
       "  mean: 0.84860, std: 0.00997, params: {'max_depth': 15, 'min_samples_split': 400},\n",
       "  mean: 0.85089, std: 0.01234, params: {'max_depth': 15, 'min_samples_split': 600},\n",
       "  mean: 0.85267, std: 0.01279, params: {'max_depth': 15, 'min_samples_split': 800},\n",
       "  mean: 0.85374, std: 0.01281, params: {'max_depth': 15, 'min_samples_split': 1000}],\n",
       " {'max_depth': 5, 'min_samples_split': 800},\n",
       " 0.8553345634350025)"
      ]
     },
     "execution_count": 6,
     "metadata": {},
     "output_type": "execute_result"
    }
   ],
   "source": [
    "param_test2 = {'max_depth':[x for x in range(5,16,2)], 'min_samples_split':[x for x in range(200,1001,200)]}\n",
    "gsearch2 = GridSearchCV(estimator = GradientBoostingClassifier(learning_rate=0.05, n_estimators=70, max_features='sqrt', subsample=0.8, random_state=RANDOM_SEED), \n",
    "param_grid = param_test2, scoring='roc_auc',n_jobs=4,iid=False, cv=5)\n",
    "gsearch2.fit(X, y)\n",
    "gsearch2.grid_scores_, gsearch2.best_params_, gsearch2.best_score_"
   ]
  },
  {
   "cell_type": "code",
   "execution_count": 7,
   "metadata": {
    "scrolled": true
   },
   "outputs": [
    {
     "name": "stderr",
     "output_type": "stream",
     "text": [
      "/home/bautista/anaconda3/lib/python3.6/site-packages/sklearn/model_selection/_search.py:761: DeprecationWarning: The grid_scores_ attribute was deprecated in version 0.18 in favor of the more elaborate cv_results_ attribute. The grid_scores_ attribute will not be available from 0.20\n",
      "  DeprecationWarning)\n"
     ]
    },
    {
     "data": {
      "text/plain": [
       "([mean: 0.85531, std: 0.01164, params: {'min_samples_leaf': 30, 'min_samples_split': 700},\n",
       "  mean: 0.85556, std: 0.01200, params: {'min_samples_leaf': 30, 'min_samples_split': 750},\n",
       "  mean: 0.85526, std: 0.01269, params: {'min_samples_leaf': 30, 'min_samples_split': 800},\n",
       "  mean: 0.85558, std: 0.01297, params: {'min_samples_leaf': 30, 'min_samples_split': 850},\n",
       "  mean: 0.85514, std: 0.01170, params: {'min_samples_leaf': 40, 'min_samples_split': 700},\n",
       "  mean: 0.85491, std: 0.01337, params: {'min_samples_leaf': 40, 'min_samples_split': 750},\n",
       "  mean: 0.85500, std: 0.01309, params: {'min_samples_leaf': 40, 'min_samples_split': 800},\n",
       "  mean: 0.85612, std: 0.01196, params: {'min_samples_leaf': 40, 'min_samples_split': 850},\n",
       "  mean: 0.85553, std: 0.01245, params: {'min_samples_leaf': 50, 'min_samples_split': 700},\n",
       "  mean: 0.85517, std: 0.01321, params: {'min_samples_leaf': 50, 'min_samples_split': 750},\n",
       "  mean: 0.85492, std: 0.01338, params: {'min_samples_leaf': 50, 'min_samples_split': 800},\n",
       "  mean: 0.85621, std: 0.01148, params: {'min_samples_leaf': 50, 'min_samples_split': 850},\n",
       "  mean: 0.85548, std: 0.01170, params: {'min_samples_leaf': 60, 'min_samples_split': 700},\n",
       "  mean: 0.85577, std: 0.01289, params: {'min_samples_leaf': 60, 'min_samples_split': 750},\n",
       "  mean: 0.85524, std: 0.01309, params: {'min_samples_leaf': 60, 'min_samples_split': 800},\n",
       "  mean: 0.85673, std: 0.01183, params: {'min_samples_leaf': 60, 'min_samples_split': 850},\n",
       "  mean: 0.85635, std: 0.01176, params: {'min_samples_leaf': 70, 'min_samples_split': 700},\n",
       "  mean: 0.85684, std: 0.01325, params: {'min_samples_leaf': 70, 'min_samples_split': 750},\n",
       "  mean: 0.85618, std: 0.01331, params: {'min_samples_leaf': 70, 'min_samples_split': 800},\n",
       "  mean: 0.85575, std: 0.01301, params: {'min_samples_leaf': 70, 'min_samples_split': 850}],\n",
       " {'min_samples_leaf': 70, 'min_samples_split': 750},\n",
       " 0.856836282134603)"
      ]
     },
     "execution_count": 7,
     "metadata": {},
     "output_type": "execute_result"
    }
   ],
   "source": [
    "param_test3 = {'min_samples_split':[x for x in range(700,900,50)], 'min_samples_leaf':[x for x in range(30,71,10)]}\n",
    "gsearch3 = GridSearchCV(estimator = GradientBoostingClassifier(learning_rate=0.05, n_estimators=70,max_depth=5,max_features='sqrt', subsample=0.8, random_state=RANDOM_SEED), \n",
    "param_grid = param_test3, scoring='roc_auc',n_jobs=4,iid=False, cv=5)\n",
    "gsearch3.fit(X, y)\n",
    "gsearch3.grid_scores_, gsearch3.best_params_, gsearch3.best_score_"
   ]
  },
  {
   "cell_type": "code",
   "execution_count": 9,
   "metadata": {},
   "outputs": [
    {
     "name": "stderr",
     "output_type": "stream",
     "text": [
      "/home/bautista/anaconda3/lib/python3.6/site-packages/sklearn/model_selection/_search.py:761: DeprecationWarning: The grid_scores_ attribute was deprecated in version 0.18 in favor of the more elaborate cv_results_ attribute. The grid_scores_ attribute will not be available from 0.20\n",
      "  DeprecationWarning)\n"
     ]
    },
    {
     "data": {
      "text/plain": [
       "([mean: 0.85262, std: 0.01300, params: {'max_features': 3},\n",
       "  mean: 0.85470, std: 0.01336, params: {'max_features': 4},\n",
       "  mean: 0.85684, std: 0.01325, params: {'max_features': 5},\n",
       "  mean: 0.85561, std: 0.01284, params: {'max_features': 6}],\n",
       " {'max_features': 5},\n",
       " 0.856836282134603)"
      ]
     },
     "execution_count": 9,
     "metadata": {},
     "output_type": "execute_result"
    }
   ],
   "source": [
    "param_test4 = {'max_features':[x for x in range(3,7,1)]}\n",
    "gsearch4 = GridSearchCV(estimator = GradientBoostingClassifier(learning_rate=0.05, n_estimators=70,max_depth=5, min_samples_split=750, min_samples_leaf=70, subsample=0.8, random_state=RANDOM_SEED),\n",
    "param_grid = param_test4, scoring='roc_auc',n_jobs=4,iid=False, cv=5)\n",
    "gsearch4.fit(X, y)\n",
    "gsearch4.grid_scores_, gsearch4.best_params_, gsearch4.best_score_"
   ]
  },
  {
   "cell_type": "code",
   "execution_count": 11,
   "metadata": {},
   "outputs": [
    {
     "name": "stderr",
     "output_type": "stream",
     "text": [
      "/home/bautista/anaconda3/lib/python3.6/site-packages/sklearn/model_selection/_search.py:761: DeprecationWarning: The grid_scores_ attribute was deprecated in version 0.18 in favor of the more elaborate cv_results_ attribute. The grid_scores_ attribute will not be available from 0.20\n",
      "  DeprecationWarning)\n"
     ]
    },
    {
     "data": {
      "text/plain": [
       "([mean: 0.85524, std: 0.01180, params: {'subsample': 0.6},\n",
       "  mean: 0.85467, std: 0.01254, params: {'subsample': 0.7},\n",
       "  mean: 0.85427, std: 0.01358, params: {'subsample': 0.75},\n",
       "  mean: 0.85684, std: 0.01325, params: {'subsample': 0.8},\n",
       "  mean: 0.85444, std: 0.01355, params: {'subsample': 0.85},\n",
       "  mean: 0.85604, std: 0.01177, params: {'subsample': 0.9}],\n",
       " {'subsample': 0.8},\n",
       " 0.856836282134603)"
      ]
     },
     "execution_count": 11,
     "metadata": {},
     "output_type": "execute_result"
    }
   ],
   "source": [
    "param_test5 = {'subsample':[0.6,0.7,0.75,0.8,0.85,0.9]}\n",
    "gsearch5 = GridSearchCV(estimator = GradientBoostingClassifier(learning_rate=0.05, n_estimators=70,max_depth=5,min_samples_split=750, min_samples_leaf=70, subsample=0.8, random_state=RANDOM_SEED,max_features=5),\n",
    "param_grid = param_test5, scoring='roc_auc',n_jobs=4,iid=False, cv=5)\n",
    "gsearch5.fit(X, y)\n",
    "gsearch5.grid_scores_, gsearch5.best_params_, gsearch5.best_score_"
   ]
  },
  {
   "cell_type": "code",
   "execution_count": null,
   "metadata": {},
   "outputs": [],
   "source": [
    "# Predict value kaggle set\n",
    "ret = gsearch4.predict_proba(test.drop(axis=1, labels=['person']))"
   ]
  },
  {
   "cell_type": "code",
   "execution_count": null,
   "metadata": {},
   "outputs": [],
   "source": [
    "# Get proba\n",
    "sumbit['label'] = pd.DataFrame(ret)[1]"
   ]
  }
 ],
 "metadata": {
  "kernelspec": {
   "display_name": "Python 3",
   "language": "python",
   "name": "python3"
  },
  "language_info": {
   "codemirror_mode": {
    "name": "ipython",
    "version": 3
   },
   "file_extension": ".py",
   "mimetype": "text/x-python",
   "name": "python",
   "nbconvert_exporter": "python",
   "pygments_lexer": "ipython3",
   "version": "3.6.5"
  }
 },
 "nbformat": 4,
 "nbformat_minor": 2
}
