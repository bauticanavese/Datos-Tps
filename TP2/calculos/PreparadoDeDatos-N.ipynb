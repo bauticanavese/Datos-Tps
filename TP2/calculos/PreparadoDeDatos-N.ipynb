{
 "cells": [
  {
   "cell_type": "code",
   "execution_count": 1,
   "metadata": {},
   "outputs": [],
   "source": [
    "import pandas as pd\n",
    "import numpy as np"
   ]
  },
  {
   "cell_type": "code",
   "execution_count": 2,
   "metadata": {
    "scrolled": false
   },
   "outputs": [
    {
     "name": "stderr",
     "output_type": "stream",
     "text": [
      "/home/bautista/anaconda3/lib/python3.6/site-packages/IPython/core/interactiveshell.py:2785: DtypeWarning: Columns (3,5,6,7,8,9,10,11,12,13,14,15,16,17,18,19,20,21,22) have mixed types. Specify dtype option on import or set low_memory=False.\n",
      "  interactivity=interactivity, compiler=compiler, result=result)\n"
     ]
    }
   ],
   "source": [
    "path = '../data/events_up_to_01062018.csv'\n",
    "df = pd.read_csv(path)"
   ]
  },
  {
   "cell_type": "code",
   "execution_count": 4,
   "metadata": {},
   "outputs": [],
   "source": [
    "# Damos formato a la fecha.\n",
    "df['timestamp'] = pd.to_datetime(df['timestamp'])\n",
    "# Agrego columna fecha\n",
    "df['date'] = df['timestamp'].dt.date\n",
    "# Agrego columna para los meses.\n",
    "df['month'] = df['timestamp'].dt.month\n",
    "# Agrego columna dias\n",
    "df['day'] = df['timestamp'].dt.weekday_name\n",
    "# Agrego columna de semanas\n",
    "df['week'] = df['timestamp'].dt.week\n",
    "# Distancia en dias al ultimo evento\n",
    "max_date = max(df['timestamp'])\n",
    "df['timestamp_days'] = (max_date - df['timestamp']).astype('timedelta64[D]')"
   ]
  },
  {
   "cell_type": "code",
   "execution_count": 5,
   "metadata": {},
   "outputs": [],
   "source": [
    "# Personas en el set de datos.\n",
    "personas = df['person'].drop_duplicates().to_frame()\n",
    "category_values = []"
   ]
  },
  {
   "cell_type": "code",
   "execution_count": 6,
   "metadata": {},
   "outputs": [
    {
     "data": {
      "text/plain": [
       "person    38829\n",
       "dtype: int64"
      ]
     },
     "execution_count": 6,
     "metadata": {},
     "output_type": "execute_result"
    }
   ],
   "source": [
    "personas.count()"
   ]
  },
  {
   "cell_type": "markdown",
   "metadata": {},
   "source": [
    "## Eventos"
   ]
  },
  {
   "cell_type": "markdown",
   "metadata": {},
   "source": [
    "### Cantidad de eventos por persona"
   ]
  },
  {
   "cell_type": "code",
   "execution_count": 7,
   "metadata": {},
   "outputs": [],
   "source": [
    "events_per_person = df.groupby('person')['event'].count()\n",
    "events_per_person.columns = ['event_count']\n",
    "events_per_person = events_per_person.reset_index()"
   ]
  },
  {
   "cell_type": "code",
   "execution_count": 8,
   "metadata": {},
   "outputs": [],
   "source": [
    "personas = personas.merge(events_per_person, on='person', how='left')"
   ]
  },
  {
   "cell_type": "markdown",
   "metadata": {},
   "source": [
    "### Cantidad de eventos distintos por persona"
   ]
  },
  {
   "cell_type": "code",
   "execution_count": 9,
   "metadata": {},
   "outputs": [],
   "source": [
    "events = df[['person', 'event']].groupby('person')['event'].value_counts().unstack().fillna(0)\n",
    "personas = pd.merge(personas, events, on='person', how= 'left')"
   ]
  },
  {
   "cell_type": "markdown",
   "metadata": {},
   "source": [
    "### Modelo mas visto por el usuario"
   ]
  },
  {
   "cell_type": "code",
   "execution_count": 10,
   "metadata": {},
   "outputs": [],
   "source": [
    "viewed_product_event = df.loc[df['event'] == 'viewed product', ['person', 'sku', 'model', 'condition', 'storage', 'timestamp']]"
   ]
  },
  {
   "cell_type": "code",
   "execution_count": 11,
   "metadata": {},
   "outputs": [],
   "source": [
    "events = viewed_product_event.groupby('person')['model'].value_counts()\n",
    "\n",
    "top_event = events.max(level=0).reset_index()\n",
    "top_event = events.reset_index(level=1, name='count_top_viewed_product').reset_index().drop_duplicates(subset='person', keep='first')"
   ]
  },
  {
   "cell_type": "code",
   "execution_count": 12,
   "metadata": {},
   "outputs": [],
   "source": [
    "personas = personas.merge(top_event, on='person', how='left')"
   ]
  },
  {
   "cell_type": "code",
   "execution_count": 13,
   "metadata": {},
   "outputs": [
    {
     "data": {
      "text/html": [
       "<div>\n",
       "<style scoped>\n",
       "    .dataframe tbody tr th:only-of-type {\n",
       "        vertical-align: middle;\n",
       "    }\n",
       "\n",
       "    .dataframe tbody tr th {\n",
       "        vertical-align: top;\n",
       "    }\n",
       "\n",
       "    .dataframe thead th {\n",
       "        text-align: right;\n",
       "    }\n",
       "</style>\n",
       "<table border=\"1\" class=\"dataframe\">\n",
       "  <thead>\n",
       "    <tr style=\"text-align: right;\">\n",
       "      <th></th>\n",
       "      <th>person</th>\n",
       "      <th>model</th>\n",
       "      <th>count_top_viewed_product</th>\n",
       "    </tr>\n",
       "  </thead>\n",
       "  <tbody>\n",
       "    <tr>\n",
       "      <th>0</th>\n",
       "      <td>00091926</td>\n",
       "      <td>iPhone 6S</td>\n",
       "      <td>94</td>\n",
       "    </tr>\n",
       "    <tr>\n",
       "      <th>36</th>\n",
       "      <td>00091a7a</td>\n",
       "      <td>iPhone 6</td>\n",
       "      <td>1</td>\n",
       "    </tr>\n",
       "    <tr>\n",
       "      <th>39</th>\n",
       "      <td>000ba417</td>\n",
       "      <td>Samsung Galaxy A3 Duos</td>\n",
       "      <td>28</td>\n",
       "    </tr>\n",
       "    <tr>\n",
       "      <th>65</th>\n",
       "      <td>000c79fe</td>\n",
       "      <td>iPhone 7</td>\n",
       "      <td>3</td>\n",
       "    </tr>\n",
       "    <tr>\n",
       "      <th>66</th>\n",
       "      <td>000e4d9e</td>\n",
       "      <td>Samsung Galaxy S6 Flat</td>\n",
       "      <td>139</td>\n",
       "    </tr>\n",
       "  </tbody>\n",
       "</table>\n",
       "</div>"
      ],
      "text/plain": [
       "      person                   model  count_top_viewed_product\n",
       "0   00091926               iPhone 6S                        94\n",
       "36  00091a7a                iPhone 6                         1\n",
       "39  000ba417  Samsung Galaxy A3 Duos                        28\n",
       "65  000c79fe                iPhone 7                         3\n",
       "66  000e4d9e  Samsung Galaxy S6 Flat                       139"
      ]
     },
     "execution_count": 13,
     "metadata": {},
     "output_type": "execute_result"
    }
   ],
   "source": [
    "top_event.head()"
   ]
  },
  {
   "cell_type": "markdown",
   "metadata": {},
   "source": [
    "### Estado del dispositivo mas visto por el usuario >"
   ]
  },
  {
   "cell_type": "code",
   "execution_count": 14,
   "metadata": {},
   "outputs": [],
   "source": [
    "events = viewed_product_event.groupby('person')['condition'].value_counts()\n",
    "\n",
    "top_event = events.max(level=0).reset_index()\n",
    "top_event = events.reset_index(level=1, name='count_top_viewed_product_cond').reset_index().drop_duplicates(subset='person', keep='first')\n",
    "personas = personas.merge(top_event, on='person', how='left')"
   ]
  },
  {
   "cell_type": "markdown",
   "metadata": {},
   "source": [
    "## divice_type"
   ]
  },
  {
   "cell_type": "code",
   "execution_count": 17,
   "metadata": {},
   "outputs": [],
   "source": [
    "#Features: Region del usuario\n",
    "divice_type = df.loc[df.event.str.contains('visited site'), ['person', 'device_type']]\n",
    "divice_type = divice_type.groupby(['person']).agg({'device_type': 'first'})\n",
    "personas = personas.merge(divice_type, on='person', how='left')"
   ]
  },
  {
   "cell_type": "markdown",
   "metadata": {},
   "source": [
    "## Cantidad de veces que el usuario regreso"
   ]
  },
  {
   "cell_type": "code",
   "execution_count": 20,
   "metadata": {},
   "outputs": [],
   "source": [
    "df['returning'] = np.where((df['new_vs_returning'] == 'Returning'),1,0)"
   ]
  },
  {
   "cell_type": "code",
   "execution_count": 21,
   "metadata": {},
   "outputs": [],
   "source": [
    "# Uniendo las personas con mismo id.\n",
    "new_vs_returning = df[['person', 'returning']]\n",
    "new_vs_ret = new_vs_returning.groupby('person').sum().reset_index()"
   ]
  },
  {
   "cell_type": "code",
   "execution_count": 22,
   "metadata": {},
   "outputs": [],
   "source": [
    "personas = personas.merge(new_vs_ret, on='person', how='left')"
   ]
  },
  {
   "cell_type": "markdown",
   "metadata": {},
   "source": [
    "## Features en base de tiempo"
   ]
  },
  {
   "cell_type": "markdown",
   "metadata": {},
   "source": [
    "## Distancia en dias al ultimo evento "
   ]
  },
  {
   "cell_type": "code",
   "execution_count": 23,
   "metadata": {},
   "outputs": [],
   "source": [
    "dist = df[['person', 'timestamp_days']]\n",
    "dist = dist.groupby('person')['timestamp_days'].min().to_frame(name='last_event_days').reset_index()"
   ]
  },
  {
   "cell_type": "code",
   "execution_count": 24,
   "metadata": {},
   "outputs": [],
   "source": [
    "personas = personas.merge(dist, on='person', how='left')\n",
    "personas['last_event_days'] = personas['last_event_days'].fillna(personas['last_event_days'].mean())"
   ]
  },
  {
   "cell_type": "markdown",
   "metadata": {},
   "source": [
    "## Distancia al primer evento >"
   ]
  },
  {
   "cell_type": "code",
   "execution_count": 25,
   "metadata": {},
   "outputs": [],
   "source": [
    "dist_max = df[['person', 'timestamp_days']]\n",
    "dist_max = dist_max.groupby('person')['timestamp_days'].max().to_frame(name='first_event_days').reset_index()"
   ]
  },
  {
   "cell_type": "code",
   "execution_count": 26,
   "metadata": {},
   "outputs": [],
   "source": [
    "#personas = personas.merge(dist_max, on='person', how='left')\n",
    "#personas['first_event_days'] = personas['first_event_days'].fillna(personas['first_event_days'].mean())"
   ]
  },
  {
   "cell_type": "markdown",
   "metadata": {},
   "source": [
    "## Cantidad de eventos en la ultima semana"
   ]
  },
  {
   "cell_type": "code",
   "execution_count": 27,
   "metadata": {},
   "outputs": [],
   "source": [
    "import datetime\n",
    "\n",
    "def previous_week_range(date):\n",
    "    start_date = date + datetime.timedelta(-date.weekday(), weeks=-1)\n",
    "    end_date = date + datetime.timedelta(-date.weekday() - 1)\n",
    "    return start_date, end_date\n",
    "\n",
    "date_range = previous_week_range(max_date)\n",
    "\n",
    "# Date range\n",
    "df_last_week = df.loc[(df['timestamp'] >= date_range[0]) ,['person','event','timestamp']]\n",
    "\n",
    "df_events_last_week = df_last_week.groupby('person')['event'].value_counts()\n",
    "df_events_last_week = df_events_last_week.unstack(fill_value=0).sum(axis=1).reset_index()\n",
    "df_events_last_week.columns = ['person', 'events_cout_last_week']\n",
    "\n",
    "#merge\n",
    "personas = personas.merge(df_events_last_week, on='person', how='left').fillna(0)"
   ]
  },
  {
   "cell_type": "markdown",
   "metadata": {},
   "source": [
    "## Frecuencia promedio en dias entre eventos en la ultima semana"
   ]
  },
  {
   "cell_type": "code",
   "execution_count": 28,
   "metadata": {},
   "outputs": [],
   "source": [
    "df_last_week['last_event'] = (max_date - df_last_week['timestamp']).astype('timedelta64[D]')\n",
    "df_events_mean = df_last_week.groupby('person')['last_event'].mean()\n",
    "df_events_mean = df_events_mean.reset_index()\n",
    "\n",
    "df_events_mean.columns = ['person', 'events_mean_frec_last_week']\n",
    "\n",
    "#merge\n",
    "personas = personas.merge(df_events_mean, on='person', how='left').fillna(0)"
   ]
  },
  {
   "cell_type": "markdown",
   "metadata": {},
   "source": [
    "## Top evento del usuario"
   ]
  },
  {
   "cell_type": "code",
   "execution_count": 29,
   "metadata": {},
   "outputs": [],
   "source": [
    "events = df[['person','event','timestamp']].groupby('person')['event'].value_counts()"
   ]
  },
  {
   "cell_type": "code",
   "execution_count": 30,
   "metadata": {},
   "outputs": [],
   "source": [
    "top_event = events.max(level=0).reset_index()"
   ]
  },
  {
   "cell_type": "code",
   "execution_count": 31,
   "metadata": {},
   "outputs": [],
   "source": [
    "#personas = personas.merge(top_event, on='person', how='left')"
   ]
  },
  {
   "cell_type": "markdown",
   "metadata": {},
   "source": [
    "## Busqueda de usuario por marca"
   ]
  },
  {
   "cell_type": "code",
   "execution_count": 32,
   "metadata": {},
   "outputs": [],
   "source": [
    "searched_products = df.loc[df['event'] == 'searched products'][['timestamp','person','skus','search_term']].dropna(axis=0)\n",
    "searched_products['search_term'] = searched_products['search_term'].str.lower()\n",
    "\n",
    "marcas = {'Samsung' : 'samsung|sansung|sansumg|s3|s4|s5|s6|s7|s8|s9|a3|a5|a7|a8|a9|a10|j1|j2|j3|\\\n",
    "                        j4|j5|j7|j8|e5|e7|galaxy|note|prime|edge',\n",
    "            'Apple' : 'iphone|apple|ipad|i phone|aple|iphome|4s|5s|6s|7s|8s',\n",
    "            'Motorola' : 'moto|g4 plus|g5 plus',\n",
    "              'LG' : 'lg|k8|k10|k 10|k4',\n",
    "              'Asus' : 'asus|zonfone|zenfone|azus|assus',\n",
    "              'Nokia' : 'nokia|lumia',\n",
    "              'Lenovo' : 'lenovo',\n",
    "              'Sony' : 'sony|xperia|x-peria',\n",
    "              'Blackberry': 'blackberry',\n",
    "              'Quantum' : 'quantum'\n",
    "         }\n",
    "\n",
    "for marca, values in marcas.items():\n",
    "    searched_products.loc[searched_products['search_term'].str.contains(values)\n",
    "                         , 'searched_model'] = marca\n",
    "\n",
    "\n",
    "searched_products = searched_products.groupby('person')['searched_model'].value_counts()\n",
    "top_searched_products = searched_products.max(level=0).reset_index()\n",
    "top_searched_products = searched_products.reset_index(level=1, name='count_top_searched_model').reset_index().drop_duplicates(subset='person', keep='first')\n",
    "\n",
    "#merge\n",
    "personas = personas.merge(top_searched_products, on='person', how='left')"
   ]
  },
  {
   "cell_type": "markdown",
   "metadata": {},
   "source": [
    "## Region"
   ]
  },
  {
   "cell_type": "markdown",
   "metadata": {},
   "source": [
    "### Region de ultimo evento >"
   ]
  },
  {
   "cell_type": "code",
   "execution_count": 33,
   "metadata": {},
   "outputs": [],
   "source": [
    "region_per_person = df.loc[df.event.str.contains('visited site'), ['person','region','timestamp']]\n",
    "region_per_person.replace({'Unknown' : np.nan}, inplace=True)\n",
    "region_per_person = region_per_person.sort_values(ascending=False, by='timestamp').drop_duplicates(subset='person', keep='first')\n",
    "\n",
    "#personas = personas.merge(region_per_person, on='person', how='left')"
   ]
  },
  {
   "cell_type": "markdown",
   "metadata": {},
   "source": [
    "### Region con mayor eventos del usuario >"
   ]
  },
  {
   "cell_type": "markdown",
   "metadata": {},
   "source": [
    "En el caso de que el usuario tenga la msima cantid de eventos en dos regiones distintas, se toma como prioridad las realizadas posteriormente a las otras."
   ]
  },
  {
   "cell_type": "code",
   "execution_count": 34,
   "metadata": {},
   "outputs": [],
   "source": [
    "region_per_person = df.loc[df.event.str.contains('visited site'), ['person','region','timestamp']]\n",
    "region_per_person.replace({'Unknown' : np.nan}, inplace=True)\n",
    "region_per_person = region_per_person.sort_values(ascending=False, by='timestamp').groupby('person')['region'].value_counts(sort=False)"
   ]
  },
  {
   "cell_type": "code",
   "execution_count": 35,
   "metadata": {},
   "outputs": [],
   "source": [
    "region_per_person = region_per_person.groupby(['person']).transform(max) == region_per_person\n",
    "region_per_person = region_per_person.reset_index(name='top_region_count')\n",
    "region_per_person = region_per_person.loc[region_per_person['top_region_count']].drop_duplicates(subset='person', keep='first')"
   ]
  },
  {
   "cell_type": "code",
   "execution_count": 36,
   "metadata": {},
   "outputs": [
    {
     "data": {
      "text/html": [
       "<div>\n",
       "<style scoped>\n",
       "    .dataframe tbody tr th:only-of-type {\n",
       "        vertical-align: middle;\n",
       "    }\n",
       "\n",
       "    .dataframe tbody tr th {\n",
       "        vertical-align: top;\n",
       "    }\n",
       "\n",
       "    .dataframe thead th {\n",
       "        text-align: right;\n",
       "    }\n",
       "</style>\n",
       "<table border=\"1\" class=\"dataframe\">\n",
       "  <thead>\n",
       "    <tr style=\"text-align: right;\">\n",
       "      <th></th>\n",
       "      <th>person</th>\n",
       "      <th>region</th>\n",
       "      <th>top_region_count</th>\n",
       "    </tr>\n",
       "  </thead>\n",
       "  <tbody>\n",
       "    <tr>\n",
       "      <th>0</th>\n",
       "      <td>00091926</td>\n",
       "      <td>Rio Grande do Sul</td>\n",
       "      <td>True</td>\n",
       "    </tr>\n",
       "    <tr>\n",
       "      <th>1</th>\n",
       "      <td>00091a7a</td>\n",
       "      <td>Minas Gerais</td>\n",
       "      <td>True</td>\n",
       "    </tr>\n",
       "    <tr>\n",
       "      <th>2</th>\n",
       "      <td>000ba417</td>\n",
       "      <td>Sao Paulo</td>\n",
       "      <td>True</td>\n",
       "    </tr>\n",
       "    <tr>\n",
       "      <th>3</th>\n",
       "      <td>000c79fe</td>\n",
       "      <td>Minas Gerais</td>\n",
       "      <td>True</td>\n",
       "    </tr>\n",
       "    <tr>\n",
       "      <th>4</th>\n",
       "      <td>000e4d9e</td>\n",
       "      <td>Minas Gerais</td>\n",
       "      <td>True</td>\n",
       "    </tr>\n",
       "  </tbody>\n",
       "</table>\n",
       "</div>"
      ],
      "text/plain": [
       "     person             region  top_region_count\n",
       "0  00091926  Rio Grande do Sul              True\n",
       "1  00091a7a       Minas Gerais              True\n",
       "2  000ba417          Sao Paulo              True\n",
       "3  000c79fe       Minas Gerais              True\n",
       "4  000e4d9e       Minas Gerais              True"
      ]
     },
     "execution_count": 36,
     "metadata": {},
     "output_type": "execute_result"
    }
   ],
   "source": [
    "region_per_person.head()"
   ]
  },
  {
   "cell_type": "code",
   "execution_count": 37,
   "metadata": {},
   "outputs": [],
   "source": [
    "personas = personas.merge(region_per_person[['person', 'region']], on='person', how='left')"
   ]
  },
  {
   "cell_type": "markdown",
   "metadata": {},
   "source": [
    "### Ciudad del usuario >"
   ]
  },
  {
   "cell_type": "code",
   "execution_count": 38,
   "metadata": {},
   "outputs": [],
   "source": [
    "ciudad = df.loc[df.event.str.contains('visited site'),['person', 'city']]\n",
    "ciudad.replace({'Unknown' : np.nan}, inplace=True)\n",
    "ciudad = ciudad.groupby('person').agg({'city': 'first'})\n",
    "personas = personas.merge(ciudad, on='person', how='left')"
   ]
  },
  {
   "cell_type": "markdown",
   "metadata": {},
   "source": [
    "### Pais del usuario >"
   ]
  },
  {
   "cell_type": "code",
   "execution_count": 39,
   "metadata": {},
   "outputs": [],
   "source": [
    "pais = df.loc[df.event.str.contains('visited site'),['person', 'country']]\n",
    "pais.replace({'Unknown' : np.nan}, inplace=True)\n",
    "pais = pais.groupby('person').agg({'country': 'first'})\n",
    "personas = personas.merge(pais, on='person', how='left')"
   ]
  },
  {
   "cell_type": "markdown",
   "metadata": {},
   "source": [
    "### Save csv"
   ]
  },
  {
   "cell_type": "code",
   "execution_count": 40,
   "metadata": {},
   "outputs": [],
   "source": [
    "personas.to_csv('test/data-per-person2.csv', index=False)"
   ]
  }
 ],
 "metadata": {
  "kernelspec": {
   "display_name": "Python 3",
   "language": "python",
   "name": "python3"
  },
  "language_info": {
   "codemirror_mode": {
    "name": "ipython",
    "version": 3
   },
   "file_extension": ".py",
   "mimetype": "text/x-python",
   "name": "python",
   "nbconvert_exporter": "python",
   "pygments_lexer": "ipython3",
   "version": "3.6.5"
  }
 },
 "nbformat": 4,
 "nbformat_minor": 2
}
