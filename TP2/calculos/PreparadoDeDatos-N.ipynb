{
 "cells": [
  {
   "cell_type": "code",
   "execution_count": 6,
   "metadata": {},
   "outputs": [],
   "source": [
    "import pandas as pd\n",
    "import numpy as np"
   ]
  },
  {
   "cell_type": "code",
   "execution_count": 8,
   "metadata": {
    "scrolled": false
   },
   "outputs": [
    {
     "name": "stderr",
     "output_type": "stream",
     "text": [
      "/home/bautista/anaconda3/lib/python3.6/site-packages/IPython/core/interactiveshell.py:2785: DtypeWarning: Columns (3,5,6,7,8,9,10,11,12,13,14,15,16,17,18,19,20,21,22) have mixed types. Specify dtype option on import or set low_memory=False.\n",
      "  interactivity=interactivity, compiler=compiler, result=result)\n"
     ]
    }
   ],
   "source": [
    "path = '../data/events_up_to_01062018.csv'\n",
    "df = pd.read_csv(path)"
   ]
  },
  {
   "cell_type": "code",
   "execution_count": 81,
   "metadata": {},
   "outputs": [],
   "source": [
    "def colum_per_person(df, columna):\n",
    "    ''' Agrupa por persona segun el feacture columna\n",
    "        Recibe el data frame y la columna.\n",
    "        Deveuelve un nuevo data frame con las columnas ['person', 'feature'], ver que puede haber\n",
    "        mas de un feature por cada persona. '''\n",
    "    \n",
    "    col = df.groupby('person')[columna].value_counts().to_frame()\n",
    "    col.columns = ['count']\n",
    "    col.reset_index(inplace=True)\n",
    "    col.drop('count', axis=1, inplace=True)\n",
    "    \n",
    "    return col"
   ]
  },
  {
   "cell_type": "code",
   "execution_count": 82,
   "metadata": {},
   "outputs": [],
   "source": [
    "# Damos formato a la fecha.\n",
    "df['timestamp'] = pd.to_datetime(df['timestamp'])\n",
    "\n",
    "# Agrego columna fecha\n",
    "df['date'] = df['timestamp'].dt.date\n",
    "# Agrego columna para los meses.\n",
    "df['month'] = df['timestamp'].dt.month\n",
    "# Agrego columna dias\n",
    "df['day'] = df['timestamp'].dt.weekday_name\n",
    "# Agrego columna de semanas\n",
    "df['week'] = df['timestamp'].dt.week\n",
    "# Day\n",
    "max_date = max(df['timestamp'])\n",
    "df['timestamp_days'] = (max_date - df['timestamp']).astype('timedelta64[D]')"
   ]
  },
  {
   "cell_type": "code",
   "execution_count": 83,
   "metadata": {},
   "outputs": [],
   "source": [
    "# Personas en el set de datos.\n",
    "personas = df['person'].drop_duplicates().to_frame()"
   ]
  },
  {
   "cell_type": "code",
   "execution_count": 84,
   "metadata": {},
   "outputs": [
    {
     "data": {
      "text/plain": [
       "person    38829\n",
       "dtype: int64"
      ]
     },
     "execution_count": 84,
     "metadata": {},
     "output_type": "execute_result"
    }
   ],
   "source": [
    "personas.count()"
   ]
  },
  {
   "cell_type": "markdown",
   "metadata": {},
   "source": [
    "## Eventos"
   ]
  },
  {
   "cell_type": "markdown",
   "metadata": {},
   "source": [
    "### Cantidad de eventos por persona"
   ]
  },
  {
   "cell_type": "code",
   "execution_count": 85,
   "metadata": {},
   "outputs": [],
   "source": [
    "events_per_person = df.groupby('person')['event'].count()\n",
    "events_per_person.columns = ['event_count']\n",
    "events_per_person = events_per_person.reset_index()"
   ]
  },
  {
   "cell_type": "code",
   "execution_count": 86,
   "metadata": {},
   "outputs": [],
   "source": [
    "personas = personas.merge(events_per_person, on='person', how='left')"
   ]
  },
  {
   "cell_type": "markdown",
   "metadata": {},
   "source": [
    "### Modelo mas visto por el usuario"
   ]
  },
  {
   "cell_type": "code",
   "execution_count": 87,
   "metadata": {},
   "outputs": [],
   "source": [
    "viewed_product_event = df.loc[df['event'] == 'viewed product', ['person', 'sku', 'model', 'condition', 'storage', 'timestamp']]"
   ]
  },
  {
   "cell_type": "code",
   "execution_count": 88,
   "metadata": {},
   "outputs": [],
   "source": [
    "events = viewed_product_event.groupby('person')['model'].value_counts()\n",
    "\n",
    "top_event = events.max(level=0).reset_index()\n",
    "top_event = events.reset_index(level=1, name='count_top_viewed_product').reset_index().drop_duplicates(subset='person', keep='first')"
   ]
  },
  {
   "cell_type": "code",
   "execution_count": 89,
   "metadata": {},
   "outputs": [],
   "source": [
    "personas = personas.merge(top_event, on='person', how='left')"
   ]
  },
  {
   "cell_type": "markdown",
   "metadata": {},
   "source": [
    "### Estado del dispositivo mas visto por el usuario >"
   ]
  },
  {
   "cell_type": "code",
   "execution_count": 90,
   "metadata": {},
   "outputs": [],
   "source": [
    "events = viewed_product_event.groupby('person')['condition'].value_counts()\n",
    "\n",
    "top_event = events.max(level=0).reset_index()\n",
    "top_event = events.reset_index(level=1, name='count_top_viewed_product_cond').reset_index().drop_duplicates(subset='person', keep='first')\n",
    "#personas = personas.merge(top_event, on='person', how='left')"
   ]
  },
  {
   "cell_type": "markdown",
   "metadata": {},
   "source": [
    "## New vs Returning "
   ]
  },
  {
   "cell_type": "code",
   "execution_count": 91,
   "metadata": {},
   "outputs": [],
   "source": [
    "new_vs_returning = colum_per_person(df, 'new_vs_returning')"
   ]
  },
  {
   "cell_type": "code",
   "execution_count": 92,
   "metadata": {},
   "outputs": [],
   "source": [
    "# Asigno a new como -1 y si regreso a la app 1.\n",
    "new_vs_returning = new_vs_returning.replace({'New' : 0, 'Returning' : 1})"
   ]
  },
  {
   "cell_type": "code",
   "execution_count": 93,
   "metadata": {},
   "outputs": [],
   "source": [
    "# Uniendo las personas con mismo id.le\n",
    "new_vs_ret = new_vs_returning.groupby('person').sum().reset_index()"
   ]
  },
  {
   "cell_type": "code",
   "execution_count": 94,
   "metadata": {},
   "outputs": [],
   "source": [
    "personas = personas.merge(new_vs_ret, on='person', how='left')"
   ]
  },
  {
   "cell_type": "markdown",
   "metadata": {},
   "source": [
    "## Features en base de tiempo"
   ]
  },
  {
   "cell_type": "markdown",
   "metadata": {},
   "source": [
    "## Distancia en dias al ultimo evento "
   ]
  },
  {
   "cell_type": "code",
   "execution_count": 95,
   "metadata": {},
   "outputs": [],
   "source": [
    "dist = df[['person', 'timestamp_days']]\n",
    "dist = dist.groupby('person')['timestamp_days'].min().to_frame(name='last_event_days').reset_index()"
   ]
  },
  {
   "cell_type": "code",
   "execution_count": 96,
   "metadata": {},
   "outputs": [],
   "source": [
    "personas = personas.merge(dist, on='person', how='left')\n",
    "personas['last_event_days'] = personas['last_event_days'].fillna(personas['last_event_days'].mean())"
   ]
  },
  {
   "cell_type": "markdown",
   "metadata": {},
   "source": [
    "## Distancia al primer evento >"
   ]
  },
  {
   "cell_type": "code",
   "execution_count": 97,
   "metadata": {},
   "outputs": [],
   "source": [
    "dist_max = df[['person', 'timestamp_days']]\n",
    "dist_max = dist_max.groupby('person')['timestamp_days'].max().to_frame(name='first_event_days').reset_index()"
   ]
  },
  {
   "cell_type": "code",
   "execution_count": 98,
   "metadata": {},
   "outputs": [],
   "source": [
    "personas = personas.merge(dist_max, on='person', how='left')\n",
    "personas['first_event_days'] = personas['first_event_days'].fillna(personas['first_event_days'].mean())"
   ]
  },
  {
   "cell_type": "markdown",
   "metadata": {},
   "source": [
    "## Cantidad de eventos en la ultima semana"
   ]
  },
  {
   "cell_type": "code",
   "execution_count": 99,
   "metadata": {},
   "outputs": [],
   "source": [
    "import datetime\n",
    "\n",
    "def previous_week_range(date):\n",
    "    start_date = date + datetime.timedelta(-date.weekday(), weeks=-1)\n",
    "    end_date = date + datetime.timedelta(-date.weekday() - 1)\n",
    "    return start_date, end_date\n",
    "\n",
    "date_range = previous_week_range(max_date)\n",
    "\n",
    "# Date range\n",
    "df_last_week = df.loc[(df['timestamp'] >= date_range[0]) ,['person','event','timestamp']]\n",
    "\n",
    "df_events_last_week = df_last_week.groupby('person')['event'].value_counts()\n",
    "df_events_last_week = df_events_last_week.unstack(fill_value=0).sum(axis=1).reset_index()\n",
    "df_events_last_week.columns = ['person', 'events_cout_last_week']\n",
    "\n",
    "#merge\n",
    "personas = personas.merge(df_events_last_week, on='person', how='left').fillna(0)"
   ]
  },
  {
   "cell_type": "markdown",
   "metadata": {},
   "source": [
    "## Frecuencia promedio en dias entre eventos en la ultima semana"
   ]
  },
  {
   "cell_type": "code",
   "execution_count": 100,
   "metadata": {},
   "outputs": [],
   "source": [
    "df_last_week['last_event'] = (max_date - df_last_week['timestamp']).astype('timedelta64[D]')\n",
    "df_events_mean = df_last_week.groupby('person')['last_event'].mean()\n",
    "df_events_mean = df_events_mean.reset_index()\n",
    "\n",
    "df_events_mean.columns = ['person', 'events_mean_frec_last_week']\n",
    "\n",
    "#merge\n",
    "personas = personas.merge(df_events_mean, on='person', how='left').fillna(0)"
   ]
  },
  {
   "cell_type": "markdown",
   "metadata": {},
   "source": [
    "## Top evento del usuario"
   ]
  },
  {
   "cell_type": "code",
   "execution_count": 101,
   "metadata": {},
   "outputs": [],
   "source": [
    "events = df[['person','event','timestamp']].groupby('person')['event'].value_counts()"
   ]
  },
  {
   "cell_type": "code",
   "execution_count": 102,
   "metadata": {},
   "outputs": [],
   "source": [
    "top_event = events.max(level=0).reset_index()"
   ]
  },
  {
   "cell_type": "code",
   "execution_count": 103,
   "metadata": {},
   "outputs": [
    {
     "data": {
      "text/html": [
       "<div>\n",
       "<style scoped>\n",
       "    .dataframe tbody tr th:only-of-type {\n",
       "        vertical-align: middle;\n",
       "    }\n",
       "\n",
       "    .dataframe tbody tr th {\n",
       "        vertical-align: top;\n",
       "    }\n",
       "\n",
       "    .dataframe thead th {\n",
       "        text-align: right;\n",
       "    }\n",
       "</style>\n",
       "<table border=\"1\" class=\"dataframe\">\n",
       "  <thead>\n",
       "    <tr style=\"text-align: right;\">\n",
       "      <th></th>\n",
       "      <th>person</th>\n",
       "      <th>event</th>\n",
       "    </tr>\n",
       "  </thead>\n",
       "  <tbody>\n",
       "    <tr>\n",
       "      <th>0</th>\n",
       "      <td>0008ed71</td>\n",
       "      <td>3</td>\n",
       "    </tr>\n",
       "    <tr>\n",
       "      <th>1</th>\n",
       "      <td>00091926</td>\n",
       "      <td>372</td>\n",
       "    </tr>\n",
       "    <tr>\n",
       "      <th>2</th>\n",
       "      <td>00091a7a</td>\n",
       "      <td>5</td>\n",
       "    </tr>\n",
       "    <tr>\n",
       "      <th>3</th>\n",
       "      <td>000ba417</td>\n",
       "      <td>153</td>\n",
       "    </tr>\n",
       "    <tr>\n",
       "      <th>4</th>\n",
       "      <td>000c79fe</td>\n",
       "      <td>9</td>\n",
       "    </tr>\n",
       "  </tbody>\n",
       "</table>\n",
       "</div>"
      ],
      "text/plain": [
       "     person  event\n",
       "0  0008ed71      3\n",
       "1  00091926    372\n",
       "2  00091a7a      5\n",
       "3  000ba417    153\n",
       "4  000c79fe      9"
      ]
     },
     "execution_count": 103,
     "metadata": {},
     "output_type": "execute_result"
    }
   ],
   "source": [
    "top_event.head()"
   ]
  },
  {
   "cell_type": "markdown",
   "metadata": {},
   "source": [
    "## Busqueda de usuario por marca"
   ]
  },
  {
   "cell_type": "code",
   "execution_count": 104,
   "metadata": {},
   "outputs": [],
   "source": [
    "searched_products = df.loc[df['event'] == 'searched products'][['timestamp','person','skus','search_term']].dropna(axis=0)\n",
    "searched_products['search_term'] = searched_products['search_term'].str.lower()\n",
    "\n",
    "marcas = {'Samsung' : 'samsung|sansung|sansumg|s3|s4|s5|s6|s7|s8|s9|a3|a5|a7|a8|a9|a10|j1|j2|j3|\\\n",
    "                        j4|j5|j7|j8|e5|e7|galaxy|note|prime|edge',\n",
    "            'Apple' : 'iphone|apple|ipad|i phone|aple|iphome|4s|5s|6s|7s|8s',\n",
    "            'Motorola' : 'moto|g4 plus|g5 plus',\n",
    "              'LG' : 'lg|k8|k10|k 10|k4',\n",
    "              'Asus' : 'asus|zonfone|zenfone|azus|assus',\n",
    "              'Nokia' : 'nokia|lumia',\n",
    "              'Lenovo' : 'lenovo',\n",
    "              'Sony' : 'sony|xperia|x-peria',\n",
    "              'Blackberry': 'blackberry',\n",
    "              'Quantum' : 'quantum'\n",
    "         }\n",
    "\n",
    "for marca, values in marcas.items():\n",
    "    searched_products.loc[searched_products['search_term'].str.contains(values)\n",
    "                         , 'searched_model'] = marca\n",
    "\n",
    "\n",
    "searched_products = searched_products.groupby('person')['searched_model'].value_counts()\n",
    "top_searched_products = searched_products.max(level=0).reset_index()\n",
    "top_searched_products = searched_products.reset_index(level=1, name='count_top_searched_model').reset_index().drop_duplicates(subset='person', keep='first')\n",
    "\n",
    "#merge\n",
    "personas = personas.merge(top_searched_products, on='person', how='left')"
   ]
  },
  {
   "cell_type": "markdown",
   "metadata": {},
   "source": [
    "## Region"
   ]
  },
  {
   "cell_type": "markdown",
   "metadata": {},
   "source": [
    "### Save csv"
   ]
  },
  {
   "cell_type": "code",
   "execution_count": 105,
   "metadata": {},
   "outputs": [],
   "source": [
    "personas.to_csv('test/data-per-person2.csv', index=False)"
   ]
  },
  {
   "cell_type": "code",
   "execution_count": 106,
   "metadata": {},
   "outputs": [
    {
     "data": {
      "text/html": [
       "<div>\n",
       "<style scoped>\n",
       "    .dataframe tbody tr th:only-of-type {\n",
       "        vertical-align: middle;\n",
       "    }\n",
       "\n",
       "    .dataframe tbody tr th {\n",
       "        vertical-align: top;\n",
       "    }\n",
       "\n",
       "    .dataframe thead th {\n",
       "        text-align: right;\n",
       "    }\n",
       "</style>\n",
       "<table border=\"1\" class=\"dataframe\">\n",
       "  <thead>\n",
       "    <tr style=\"text-align: right;\">\n",
       "      <th></th>\n",
       "      <th>person</th>\n",
       "      <th>event</th>\n",
       "      <th>model</th>\n",
       "      <th>count_top_viewed_product</th>\n",
       "      <th>new_vs_returning</th>\n",
       "      <th>last_event_days</th>\n",
       "      <th>first_event_days</th>\n",
       "      <th>events_cout_last_week</th>\n",
       "      <th>events_mean_frec_last_week</th>\n",
       "      <th>searched_model</th>\n",
       "      <th>count_top_searched_model</th>\n",
       "    </tr>\n",
       "  </thead>\n",
       "  <tbody>\n",
       "    <tr>\n",
       "      <th>0</th>\n",
       "      <td>4886f805</td>\n",
       "      <td>9</td>\n",
       "      <td>Samsung Galaxy J7 Prime</td>\n",
       "      <td>4.0</td>\n",
       "      <td>0.0</td>\n",
       "      <td>13.0</td>\n",
       "      <td>13.0</td>\n",
       "      <td>0.0</td>\n",
       "      <td>0.000000</td>\n",
       "      <td>Samsung</td>\n",
       "      <td>1.0</td>\n",
       "    </tr>\n",
       "    <tr>\n",
       "      <th>1</th>\n",
       "      <td>ad93850f</td>\n",
       "      <td>65</td>\n",
       "      <td>iPhone 5s</td>\n",
       "      <td>17.0</td>\n",
       "      <td>1.0</td>\n",
       "      <td>9.0</td>\n",
       "      <td>17.0</td>\n",
       "      <td>7.0</td>\n",
       "      <td>9.000000</td>\n",
       "      <td>NaN</td>\n",
       "      <td>NaN</td>\n",
       "    </tr>\n",
       "    <tr>\n",
       "      <th>2</th>\n",
       "      <td>0297fc1e</td>\n",
       "      <td>567</td>\n",
       "      <td>iPhone 6</td>\n",
       "      <td>213.0</td>\n",
       "      <td>1.0</td>\n",
       "      <td>3.0</td>\n",
       "      <td>142.0</td>\n",
       "      <td>78.0</td>\n",
       "      <td>6.769231</td>\n",
       "      <td>Apple</td>\n",
       "      <td>5.0</td>\n",
       "    </tr>\n",
       "    <tr>\n",
       "      <th>3</th>\n",
       "      <td>2d681dd8</td>\n",
       "      <td>26</td>\n",
       "      <td>iPhone 7</td>\n",
       "      <td>6.0</td>\n",
       "      <td>1.0</td>\n",
       "      <td>4.0</td>\n",
       "      <td>13.0</td>\n",
       "      <td>16.0</td>\n",
       "      <td>4.000000</td>\n",
       "      <td>Motorola</td>\n",
       "      <td>1.0</td>\n",
       "    </tr>\n",
       "    <tr>\n",
       "      <th>4</th>\n",
       "      <td>cccea85e</td>\n",
       "      <td>836</td>\n",
       "      <td>Motorola Moto G4 Plus</td>\n",
       "      <td>252.0</td>\n",
       "      <td>1.0</td>\n",
       "      <td>0.0</td>\n",
       "      <td>24.0</td>\n",
       "      <td>270.0</td>\n",
       "      <td>1.540741</td>\n",
       "      <td>LG</td>\n",
       "      <td>1.0</td>\n",
       "    </tr>\n",
       "  </tbody>\n",
       "</table>\n",
       "</div>"
      ],
      "text/plain": [
       "     person  event                    model  count_top_viewed_product  \\\n",
       "0  4886f805      9  Samsung Galaxy J7 Prime                       4.0   \n",
       "1  ad93850f     65                iPhone 5s                      17.0   \n",
       "2  0297fc1e    567                 iPhone 6                     213.0   \n",
       "3  2d681dd8     26                 iPhone 7                       6.0   \n",
       "4  cccea85e    836    Motorola Moto G4 Plus                     252.0   \n",
       "\n",
       "   new_vs_returning  last_event_days  first_event_days  events_cout_last_week  \\\n",
       "0               0.0             13.0              13.0                    0.0   \n",
       "1               1.0              9.0              17.0                    7.0   \n",
       "2               1.0              3.0             142.0                   78.0   \n",
       "3               1.0              4.0              13.0                   16.0   \n",
       "4               1.0              0.0              24.0                  270.0   \n",
       "\n",
       "   events_mean_frec_last_week searched_model  count_top_searched_model  \n",
       "0                    0.000000        Samsung                       1.0  \n",
       "1                    9.000000            NaN                       NaN  \n",
       "2                    6.769231          Apple                       5.0  \n",
       "3                    4.000000       Motorola                       1.0  \n",
       "4                    1.540741             LG                       1.0  "
      ]
     },
     "execution_count": 106,
     "metadata": {},
     "output_type": "execute_result"
    }
   ],
   "source": [
    "personas.head()"
   ]
  }
 ],
 "metadata": {
  "kernelspec": {
   "display_name": "Python 3",
   "language": "python",
   "name": "python3"
  },
  "language_info": {
   "codemirror_mode": {
    "name": "ipython",
    "version": 3
   },
   "file_extension": ".py",
   "mimetype": "text/x-python",
   "name": "python",
   "nbconvert_exporter": "python",
   "pygments_lexer": "ipython3",
   "version": "3.6.5"
  }
 },
 "nbformat": 4,
 "nbformat_minor": 2
}
