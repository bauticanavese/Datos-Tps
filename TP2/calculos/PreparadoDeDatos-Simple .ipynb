{
 "cells": [
  {
   "cell_type": "code",
   "execution_count": 1,
   "metadata": {},
   "outputs": [],
   "source": [
    "import pandas as pd\n",
    "import numpy as np"
   ]
  },
  {
   "cell_type": "code",
   "execution_count": 2,
   "metadata": {
    "scrolled": false
   },
   "outputs": [
    {
     "name": "stderr",
     "output_type": "stream",
     "text": [
      "/home/bautista/anaconda3/lib/python3.6/site-packages/IPython/core/interactiveshell.py:2785: DtypeWarning: Columns (3,5,6,7,8,9,10,11,12,13,14,15,16,17,18,19,20,21,22) have mixed types. Specify dtype option on import or set low_memory=False.\n",
      "  interactivity=interactivity, compiler=compiler, result=result)\n"
     ]
    }
   ],
   "source": [
    "path = '../data/events_up_to_01062018.csv'\n",
    "df = pd.read_csv(path)"
   ]
  },
  {
   "cell_type": "code",
   "execution_count": 351,
   "metadata": {},
   "outputs": [],
   "source": [
    "def colum_per_person(df, columna):\n",
    "    ''' Agrupa por persona segun el feacture columna\n",
    "        Recibe el data frame y la columna.\n",
    "        Deveuelve un nuevo data frame con las columnas ['person', 'feature'], ver que puede haber\n",
    "        mas de un feature por cada persona. '''\n",
    "    \n",
    "    col = df.groupby('person')[columna].value_counts().to_frame()\n",
    "    col.columns = ['count']\n",
    "    col.reset_index(inplace=True)\n",
    "    col.drop('count', axis=1, inplace=True)\n",
    "    \n",
    "    return col"
   ]
  },
  {
   "cell_type": "code",
   "execution_count": 352,
   "metadata": {},
   "outputs": [],
   "source": [
    "# Damos formato a la fecha.\n",
    "df['timestamp'] = pd.to_datetime(df['timestamp'])\n",
    "\n",
    "# Agrego columna fecha\n",
    "df['date'] = df['timestamp'].dt.date\n",
    "# Agrego columna para los meses.\n",
    "df['month'] = df['timestamp'].dt.month\n",
    "# Agrego columna dias\n",
    "df['day'] = df['timestamp'].dt.weekday_name\n",
    "# Agrego columna de semanas\n",
    "df['week'] = df['timestamp'].dt.week"
   ]
  },
  {
   "cell_type": "code",
   "execution_count": 353,
   "metadata": {},
   "outputs": [],
   "source": [
    "# Personas en el df.\n",
    "personas = df.groupby('person')['sku'].count()\n",
    "personas = personas.reset_index()['person'].to_frame()"
   ]
  },
  {
   "cell_type": "markdown",
   "metadata": {},
   "source": [
    "## Eventos por mes en promedio"
   ]
  },
  {
   "cell_type": "code",
   "execution_count": 354,
   "metadata": {},
   "outputs": [],
   "source": [
    "df_event = df[['person','event', 'month']]\n",
    "cv_mes = df_event.groupby(['person', 'month'])['event'].count()\n",
    "cv_mes = cv_mes.unstack(fill_value=0).mean(axis=1).reset_index()\n",
    "cv_mes.columns = ['person', 'events_mean']\n",
    "\n",
    "personas = personas.merge(cv_mes, on='person', how='left').fillna(0)"
   ]
  },
  {
   "cell_type": "markdown",
   "metadata": {},
   "source": [
    "## Conversiones por mes en promedio"
   ]
  },
  {
   "cell_type": "code",
   "execution_count": 355,
   "metadata": {},
   "outputs": [],
   "source": [
    "# Conversiones por mes\n",
    "df_event = df[['person','event', 'month']].loc[df['event'] == 'conversion']\n",
    "cv_mes = df_event.groupby(['person', 'month'])['event'].value_counts()\n",
    "cv_mes = cv_mes.unstack(fill_value=0).unstack(fill_value=0)\n",
    "\n",
    "levels = np.array(cv_mes.columns.levels)\n",
    "cv_mes.columns = [\"{}_in_month_{}\".format(n,i) for n in levels[0] for i in range(1,6)]\n",
    "\n",
    "    #promedio\n",
    "cv_mes = cv_mes.mean(axis=1).reset_index()\n",
    "cv_mes.columns = ['person', 'conversion_month_mean']\n",
    "    \n",
    "personas = personas.merge(cv_mes, on='person', how='left').fillna(0)"
   ]
  },
  {
   "cell_type": "markdown",
   "metadata": {},
   "source": [
    "## Checkout por mes en promedio"
   ]
  },
  {
   "cell_type": "code",
   "execution_count": 356,
   "metadata": {},
   "outputs": [],
   "source": [
    "# Conversiones por mes\n",
    "df_event = df[['person','event', 'month']].loc[df['event'] == 'checkout']\n",
    "cout_mes = df_event.groupby(['person', 'month'])['event'].value_counts()\n",
    "cout_mes = cout_mes.unstack(fill_value=0).unstack(fill_value=0)\n",
    "\n",
    "levels = np.array(cout_mes.columns.levels)\n",
    "cout_mes.columns = [\"{}_in_month_{}\".format(n,i) for n in levels[0] for i in range(1,6)]\n",
    "\n",
    "#promedio\n",
    "cout_mes = cout_mes.mean(axis=1).reset_index()\n",
    "cout_mes.columns = ['person', 'checkout_month_mean']"
   ]
  },
  {
   "cell_type": "markdown",
   "metadata": {},
   "source": [
    "### Conversion/Checkout por mes en promedio"
   ]
  },
  {
   "cell_type": "code",
   "execution_count": 357,
   "metadata": {},
   "outputs": [],
   "source": [
    "cout_mes['conv/checkout'] = cv_mes['conversion_month_mean']/(cout_mes['checkout_month_mean']+1)\n",
    "\n",
    "# merge \n",
    "personas = personas.merge(cout_mes[['person','conv/checkout']], on='person', how='left').fillna(0)"
   ]
  },
  {
   "cell_type": "markdown",
   "metadata": {},
   "source": [
    "##  Country/region/city per Preson"
   ]
  },
  {
   "cell_type": "markdown",
   "metadata": {},
   "source": [
    "Es nescesario tener en cuenta la region de donde se realizo el evento ya que puede estar influenciado por el estatus social por ejemplo."
   ]
  },
  {
   "cell_type": "code",
   "execution_count": 358,
   "metadata": {},
   "outputs": [],
   "source": [
    "# Region\n",
    "region = colum_per_person(df, 'region')\n",
    "region = pd.concat([region.drop('region', axis=1), pd.get_dummies(region['region'])], axis=1).fillna(0)\n",
    "\n",
    "# Uniendo las personas con mismo id.\n",
    "region = region.groupby('person').sum().reset_index()\n",
    "\n",
    "region.drop('Unknown', axis=1, inplace=True)\n",
    "#personas = personas.merge(region, on='person', how='left').fillna(0)"
   ]
  },
  {
   "cell_type": "markdown",
   "metadata": {},
   "source": [
    "## New vs Returning "
   ]
  },
  {
   "cell_type": "markdown",
   "metadata": {},
   "source": [
    "Estaria bueno saber en que tiempo ocurren."
   ]
  },
  {
   "cell_type": "code",
   "execution_count": 359,
   "metadata": {},
   "outputs": [],
   "source": [
    "new_vs_returning = colum_per_person(df, 'new_vs_returning')"
   ]
  },
  {
   "cell_type": "code",
   "execution_count": 360,
   "metadata": {},
   "outputs": [],
   "source": [
    "# Asigno a new como -1 y si regreso a la app 1.\n",
    "new_vs_returning = new_vs_returning.replace({'New' : 0, 'Returning' : 1})"
   ]
  },
  {
   "cell_type": "code",
   "execution_count": 361,
   "metadata": {},
   "outputs": [],
   "source": [
    "# Uniendo las personas con mismo id.le\n",
    "new_vs_ret = new_vs_returning.groupby('person').sum().reset_index()"
   ]
  },
  {
   "cell_type": "code",
   "execution_count": 362,
   "metadata": {},
   "outputs": [],
   "source": [
    "personas = personas.merge(new_vs_ret, on='person', how='left')"
   ]
  },
  {
   "cell_type": "markdown",
   "metadata": {},
   "source": [
    "## Features en base de tiempo"
   ]
  },
  {
   "cell_type": "markdown",
   "metadata": {},
   "source": [
    "## Distancia en dias al ultimo evento "
   ]
  },
  {
   "cell_type": "code",
   "execution_count": 363,
   "metadata": {},
   "outputs": [],
   "source": [
    "dist = df[['person','event', 'timestamp']]\n",
    "dist = dist.groupby('person')['timestamp'].max().to_frame(name='last_event').reset_index()"
   ]
  },
  {
   "cell_type": "code",
   "execution_count": 364,
   "metadata": {},
   "outputs": [],
   "source": [
    "dist['last_event'] = (max_date - dist['last_event'])\n",
    "dist['last_event'] = dist['last_event'].astype('timedelta64[D]')\n",
    "max_day = max(dist['last_event'])\n",
    "\n",
    "# A mayor distancia menor prob. de conversion.\n",
    "dist['last_event'] = np.absolute(max_day - dist['last_event'])"
   ]
  },
  {
   "cell_type": "code",
   "execution_count": 365,
   "metadata": {},
   "outputs": [],
   "source": [
    "personas = personas.merge(dist, on='person', how='left').fillna(0)"
   ]
  },
  {
   "cell_type": "markdown",
   "metadata": {},
   "source": [
    "## Cantidad de eventos en la ultima semana"
   ]
  },
  {
   "cell_type": "code",
   "execution_count": 366,
   "metadata": {},
   "outputs": [],
   "source": [
    "import datetime\n",
    "\n",
    "def previous_week_range(date):\n",
    "    start_date = date + datetime.timedelta(-date.weekday(), weeks=-1)\n",
    "    end_date = date + datetime.timedelta(-date.weekday() - 1)\n",
    "    return start_date, end_date\n",
    "\n",
    "date_range = previous_week_range(max_date)\n",
    "\n",
    "# Date range\n",
    "df_last_week = df.loc[(df['timestamp'] >= date_range[0]) ,['person','event','timestamp']]\n",
    "\n",
    "df_events_last_week = df_last_week.groupby('person')['event'].value_counts()\n",
    "df_events_last_week = df_events_last_week.unstack(fill_value=0).sum(axis=1).reset_index()\n",
    "df_events_last_week.columns = ['person', 'events_cout_last_week']\n",
    "\n",
    "#merge\n",
    "personas = personas.merge(df_events_last_week, on='person', how='left').fillna(0)"
   ]
  },
  {
   "cell_type": "markdown",
   "metadata": {},
   "source": [
    "## Frecuencia promedio en dias entre eventos en la ultima semana"
   ]
  },
  {
   "cell_type": "code",
   "execution_count": 367,
   "metadata": {},
   "outputs": [],
   "source": [
    "df_last_week['last_event'] = (max_date - df_last_week['timestamp']).astype('timedelta64[D]')\n",
    "df_events_mean = df_last_week.groupby('person')['last_event'].mean()\n",
    "df_events_mean = df_events_mean.reset_index()\n",
    "\n",
    "df_events_mean.columns = ['person', 'events_mean_frec_last_week']\n",
    "\n",
    "#merge\n",
    "personas = personas.merge(df_events_mean, on='person', how='left').fillna(0)"
   ]
  },
  {
   "cell_type": "markdown",
   "metadata": {},
   "source": [
    "## Top evento del usuario"
   ]
  },
  {
   "cell_type": "code",
   "execution_count": 368,
   "metadata": {},
   "outputs": [],
   "source": [
    "events = df[['person','event','timestamp']].groupby('person')['event'].value_counts()"
   ]
  },
  {
   "cell_type": "code",
   "execution_count": 369,
   "metadata": {},
   "outputs": [],
   "source": [
    "top_event = events.max(level=0).reset_index()\n",
    "#personas = personas.merge(top_event, on='person', how='left').fillna(0)"
   ]
  },
  {
   "cell_type": "code",
   "execution_count": 370,
   "metadata": {},
   "outputs": [],
   "source": [
    "top_events = events.reset_index(level=1, name='count_top_event').reset_index().drop_duplicates(subset='person', keep='first')\n",
    "top_events = pd.concat([top_events.drop('event', axis=1), pd.get_dummies(top_events['event'], prefix='top')], axis=1)"
   ]
  },
  {
   "cell_type": "code",
   "execution_count": 371,
   "metadata": {},
   "outputs": [],
   "source": [
    "personas = personas.merge(top_events, on='person', how='left').fillna(0)"
   ]
  },
  {
   "cell_type": "markdown",
   "metadata": {},
   "source": [
    "## Busqueda de usuario por marca"
   ]
  },
  {
   "cell_type": "code",
   "execution_count": 372,
   "metadata": {},
   "outputs": [],
   "source": [
    "searched_products = df.loc[df['event'] == 'searched products'][['timestamp','person','skus','search_term']].dropna(axis=0)\n",
    "searched_products['search_term'] = searched_products['search_term'].str.lower()\n",
    "\n",
    "marcas = {'Samsung' : 'samsung|sansung|sansumg|s3|s4|s5|s6|s7|s8|s9|a3|a5|a7|a8|a9|a10|j1|j2|j3|\\\n",
    "                        j4|j5|j7|j8|e5|e7|galaxy|note|prime|edge',\n",
    "            'Apple' : 'iphone|apple|ipad|i phone|aple|iphome|4s|5s|6s|7s|8s',\n",
    "            'Motorola' : 'moto|g4 plus|g5 plus',\n",
    "              'LG' : 'lg|k8|k10|k 10|k4',\n",
    "              'Asus' : 'asus|zonfone|zenfone|azus|assus',\n",
    "              'Nokia' : 'nokia|lumia',\n",
    "              'Lenovo' : 'lenovo',\n",
    "              'Sony' : 'sony|xperia|x-peria',\n",
    "              'Blackberry': 'blackberry',\n",
    "              'Quantum' : 'quantum'\n",
    "         }\n",
    "\n",
    "for marca, values in marcas.items():\n",
    "    searched_products.loc[searched_products['search_term'].str.contains(values)\n",
    "                         , 'searched_model'] = marca\n",
    "\n",
    "searched_products = colum_per_person(searched_products, 'searched_model')\n",
    "\n",
    "searched_products = pd.concat([searched_products.drop('searched_model', axis=1), pd.get_dummies(searched_products['searched_model'], prefix='searched_model')], axis=1)\n",
    "searched_products = searched_products.groupby('person').sum()\n",
    "personas = personas.merge(searched_products, on='person', how='left').fillna(0)"
   ]
  },
  {
   "cell_type": "markdown",
   "metadata": {},
   "source": [
    "### Save csv"
   ]
  },
  {
   "cell_type": "code",
   "execution_count": 373,
   "metadata": {},
   "outputs": [],
   "source": [
    "personas.to_csv('test/data-per-person2.csv', index=False)"
   ]
  },
  {
   "cell_type": "code",
   "execution_count": 374,
   "metadata": {},
   "outputs": [
    {
     "data": {
      "text/html": [
       "<div>\n",
       "<style scoped>\n",
       "    .dataframe tbody tr th:only-of-type {\n",
       "        vertical-align: middle;\n",
       "    }\n",
       "\n",
       "    .dataframe tbody tr th {\n",
       "        vertical-align: top;\n",
       "    }\n",
       "\n",
       "    .dataframe thead th {\n",
       "        text-align: right;\n",
       "    }\n",
       "</style>\n",
       "<table border=\"1\" class=\"dataframe\">\n",
       "  <thead>\n",
       "    <tr style=\"text-align: right;\">\n",
       "      <th></th>\n",
       "      <th>person</th>\n",
       "      <th>events_mean</th>\n",
       "      <th>conversion_month_mean</th>\n",
       "      <th>conv/checkout</th>\n",
       "      <th>new_vs_returning</th>\n",
       "      <th>last_event</th>\n",
       "      <th>events_cout_last_week</th>\n",
       "      <th>events_mean_frec_last_week</th>\n",
       "      <th>count_top_event</th>\n",
       "      <th>top_ad campaign hit</th>\n",
       "      <th>...</th>\n",
       "      <th>searched_model_Apple</th>\n",
       "      <th>searched_model_Asus</th>\n",
       "      <th>searched_model_Blackberry</th>\n",
       "      <th>searched_model_LG</th>\n",
       "      <th>searched_model_Lenovo</th>\n",
       "      <th>searched_model_Motorola</th>\n",
       "      <th>searched_model_Nokia</th>\n",
       "      <th>searched_model_Quantum</th>\n",
       "      <th>searched_model_Samsung</th>\n",
       "      <th>searched_model_Sony</th>\n",
       "    </tr>\n",
       "  </thead>\n",
       "  <tbody>\n",
       "    <tr>\n",
       "      <th>0</th>\n",
       "      <td>0008ed71</td>\n",
       "      <td>1.2</td>\n",
       "      <td>0.0</td>\n",
       "      <td>0.125000</td>\n",
       "      <td>1.0</td>\n",
       "      <td>136.0</td>\n",
       "      <td>0.0</td>\n",
       "      <td>0.000000</td>\n",
       "      <td>3</td>\n",
       "      <td>0</td>\n",
       "      <td>...</td>\n",
       "      <td>0.0</td>\n",
       "      <td>0.0</td>\n",
       "      <td>0.0</td>\n",
       "      <td>0.0</td>\n",
       "      <td>0.0</td>\n",
       "      <td>0.0</td>\n",
       "      <td>0.0</td>\n",
       "      <td>0.0</td>\n",
       "      <td>0.0</td>\n",
       "      <td>0.0</td>\n",
       "    </tr>\n",
       "    <tr>\n",
       "      <th>1</th>\n",
       "      <td>00091926</td>\n",
       "      <td>89.6</td>\n",
       "      <td>0.0</td>\n",
       "      <td>0.142857</td>\n",
       "      <td>1.0</td>\n",
       "      <td>150.0</td>\n",
       "      <td>95.0</td>\n",
       "      <td>5.515789</td>\n",
       "      <td>372</td>\n",
       "      <td>0</td>\n",
       "      <td>...</td>\n",
       "      <td>0.0</td>\n",
       "      <td>0.0</td>\n",
       "      <td>0.0</td>\n",
       "      <td>0.0</td>\n",
       "      <td>0.0</td>\n",
       "      <td>0.0</td>\n",
       "      <td>0.0</td>\n",
       "      <td>0.0</td>\n",
       "      <td>0.0</td>\n",
       "      <td>0.0</td>\n",
       "    </tr>\n",
       "    <tr>\n",
       "      <th>2</th>\n",
       "      <td>00091a7a</td>\n",
       "      <td>2.0</td>\n",
       "      <td>0.0</td>\n",
       "      <td>0.000000</td>\n",
       "      <td>0.0</td>\n",
       "      <td>84.0</td>\n",
       "      <td>0.0</td>\n",
       "      <td>0.000000</td>\n",
       "      <td>5</td>\n",
       "      <td>0</td>\n",
       "      <td>...</td>\n",
       "      <td>0.0</td>\n",
       "      <td>0.0</td>\n",
       "      <td>0.0</td>\n",
       "      <td>0.0</td>\n",
       "      <td>0.0</td>\n",
       "      <td>0.0</td>\n",
       "      <td>0.0</td>\n",
       "      <td>0.0</td>\n",
       "      <td>0.0</td>\n",
       "      <td>0.0</td>\n",
       "    </tr>\n",
       "    <tr>\n",
       "      <th>3</th>\n",
       "      <td>000ba417</td>\n",
       "      <td>41.2</td>\n",
       "      <td>0.2</td>\n",
       "      <td>0.090909</td>\n",
       "      <td>1.0</td>\n",
       "      <td>145.0</td>\n",
       "      <td>138.0</td>\n",
       "      <td>6.144928</td>\n",
       "      <td>153</td>\n",
       "      <td>0</td>\n",
       "      <td>...</td>\n",
       "      <td>0.0</td>\n",
       "      <td>0.0</td>\n",
       "      <td>0.0</td>\n",
       "      <td>0.0</td>\n",
       "      <td>0.0</td>\n",
       "      <td>0.0</td>\n",
       "      <td>0.0</td>\n",
       "      <td>0.0</td>\n",
       "      <td>0.0</td>\n",
       "      <td>0.0</td>\n",
       "    </tr>\n",
       "    <tr>\n",
       "      <th>4</th>\n",
       "      <td>000c79fe</td>\n",
       "      <td>3.4</td>\n",
       "      <td>0.0</td>\n",
       "      <td>0.333333</td>\n",
       "      <td>0.0</td>\n",
       "      <td>148.0</td>\n",
       "      <td>17.0</td>\n",
       "      <td>2.000000</td>\n",
       "      <td>9</td>\n",
       "      <td>0</td>\n",
       "      <td>...</td>\n",
       "      <td>1.0</td>\n",
       "      <td>0.0</td>\n",
       "      <td>0.0</td>\n",
       "      <td>0.0</td>\n",
       "      <td>0.0</td>\n",
       "      <td>0.0</td>\n",
       "      <td>0.0</td>\n",
       "      <td>0.0</td>\n",
       "      <td>1.0</td>\n",
       "      <td>0.0</td>\n",
       "    </tr>\n",
       "  </tbody>\n",
       "</table>\n",
       "<p>5 rows × 30 columns</p>\n",
       "</div>"
      ],
      "text/plain": [
       "     person  events_mean  conversion_month_mean  conv/checkout  \\\n",
       "0  0008ed71          1.2                    0.0       0.125000   \n",
       "1  00091926         89.6                    0.0       0.142857   \n",
       "2  00091a7a          2.0                    0.0       0.000000   \n",
       "3  000ba417         41.2                    0.2       0.090909   \n",
       "4  000c79fe          3.4                    0.0       0.333333   \n",
       "\n",
       "   new_vs_returning  last_event  events_cout_last_week  \\\n",
       "0               1.0       136.0                    0.0   \n",
       "1               1.0       150.0                   95.0   \n",
       "2               0.0        84.0                    0.0   \n",
       "3               1.0       145.0                  138.0   \n",
       "4               0.0       148.0                   17.0   \n",
       "\n",
       "   events_mean_frec_last_week  count_top_event  top_ad campaign hit  \\\n",
       "0                    0.000000                3                    0   \n",
       "1                    5.515789              372                    0   \n",
       "2                    0.000000                5                    0   \n",
       "3                    6.144928              153                    0   \n",
       "4                    2.000000                9                    0   \n",
       "\n",
       "          ...           searched_model_Apple  searched_model_Asus  \\\n",
       "0         ...                            0.0                  0.0   \n",
       "1         ...                            0.0                  0.0   \n",
       "2         ...                            0.0                  0.0   \n",
       "3         ...                            0.0                  0.0   \n",
       "4         ...                            1.0                  0.0   \n",
       "\n",
       "   searched_model_Blackberry  searched_model_LG  searched_model_Lenovo  \\\n",
       "0                        0.0                0.0                    0.0   \n",
       "1                        0.0                0.0                    0.0   \n",
       "2                        0.0                0.0                    0.0   \n",
       "3                        0.0                0.0                    0.0   \n",
       "4                        0.0                0.0                    0.0   \n",
       "\n",
       "   searched_model_Motorola  searched_model_Nokia  searched_model_Quantum  \\\n",
       "0                      0.0                   0.0                     0.0   \n",
       "1                      0.0                   0.0                     0.0   \n",
       "2                      0.0                   0.0                     0.0   \n",
       "3                      0.0                   0.0                     0.0   \n",
       "4                      0.0                   0.0                     0.0   \n",
       "\n",
       "   searched_model_Samsung  searched_model_Sony  \n",
       "0                     0.0                  0.0  \n",
       "1                     0.0                  0.0  \n",
       "2                     0.0                  0.0  \n",
       "3                     0.0                  0.0  \n",
       "4                     1.0                  0.0  \n",
       "\n",
       "[5 rows x 30 columns]"
      ]
     },
     "execution_count": 374,
     "metadata": {},
     "output_type": "execute_result"
    }
   ],
   "source": [
    "personas.head()"
   ]
  }
 ],
 "metadata": {
  "kernelspec": {
   "display_name": "Python 3",
   "language": "python",
   "name": "python3"
  },
  "language_info": {
   "codemirror_mode": {
    "name": "ipython",
    "version": 3
   },
   "file_extension": ".py",
   "mimetype": "text/x-python",
   "name": "python",
   "nbconvert_exporter": "python",
   "pygments_lexer": "ipython3",
   "version": "3.6.5"
  }
 },
 "nbformat": 4,
 "nbformat_minor": 2
}
