{
 "cells": [
  {
   "cell_type": "markdown",
   "metadata": {},
   "source": [
    "# Encode"
   ]
  },
  {
   "cell_type": "code",
   "execution_count": 13,
   "metadata": {},
   "outputs": [],
   "source": [
    "import pandas as pd\n",
    "import numpy as np\n",
    "from targetEncode import TargetEncode"
   ]
  },
  {
   "cell_type": "code",
   "execution_count": 14,
   "metadata": {},
   "outputs": [],
   "source": [
    "path = 'test/data-per-person2.csv'\n",
    "personas = pd.read_csv(path)"
   ]
  },
  {
   "cell_type": "code",
   "execution_count": 15,
   "metadata": {},
   "outputs": [],
   "source": [
    "# Labels para cada set\n",
    "training = pd.read_csv('../data/labels_training_set.csv')\n",
    "test = pd.read_csv('../data/trocafone_kaggle_test.csv')"
   ]
  },
  {
   "cell_type": "code",
   "execution_count": 16,
   "metadata": {},
   "outputs": [],
   "source": [
    "# Taining set\n",
    "training_set = personas.merge(training, on='person', how='inner').drop('person', axis=1)\n",
    "# Test set kaggle\n",
    "test_set = personas.merge(test, on='person', how='inner')"
   ]
  },
  {
   "cell_type": "code",
   "execution_count": 17,
   "metadata": {},
   "outputs": [],
   "source": [
    "encoder = TargetEncode()\n",
    "prefix = 'categ'\n",
    "# reading data\n",
    "for feature in training_set.columns:\n",
    "    if prefix not in feature:\n",
    "        continue\n",
    "    trn, sub = encoder.target_encode(training_set[feature], \n",
    "                             test_set[feature], \n",
    "                             target=training_set['label'], \n",
    "                             min_samples_leaf=100,\n",
    "                             smoothing=10,\n",
    "                             noise_level=0.01)\n",
    "    training_set[feature] = trn\n",
    "    test_set[feature] = sub"
   ]
  },
  {
   "cell_type": "code",
   "execution_count": 18,
   "metadata": {
    "scrolled": true
   },
   "outputs": [],
   "source": [
    "# Save\n",
    "training_set.to_csv('test/training-person2.csv', index=False)\n",
    "test_set.to_csv('test/test-person2.csv', index=False)"
   ]
  }
 ],
 "metadata": {
  "kernelspec": {
   "display_name": "Python 3",
   "language": "python",
   "name": "python3"
  },
  "language_info": {
   "codemirror_mode": {
    "name": "ipython",
    "version": 3
   },
   "file_extension": ".py",
   "mimetype": "text/x-python",
   "name": "python",
   "nbconvert_exporter": "python",
   "pygments_lexer": "ipython3",
   "version": "3.6.5"
  }
 },
 "nbformat": 4,
 "nbformat_minor": 2
}
