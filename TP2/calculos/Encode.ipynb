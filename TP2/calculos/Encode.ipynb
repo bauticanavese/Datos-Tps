{
 "cells": [
  {
   "cell_type": "code",
   "execution_count": 7,
   "metadata": {},
   "outputs": [],
   "source": [
    "import pandas as pd\n",
    "import numpy as np\n",
    "from targetEncode import TargetEncode"
   ]
  },
  {
   "cell_type": "code",
   "execution_count": 8,
   "metadata": {},
   "outputs": [],
   "source": [
    "path = 'test/data-per-person2.csv'\n",
    "personas = pd.read_csv(path)"
   ]
  },
  {
   "cell_type": "code",
   "execution_count": 9,
   "metadata": {},
   "outputs": [],
   "source": [
    "# Labels para cada set\n",
    "training = pd.read_csv('../data/labels_training_set.csv')\n",
    "test = pd.read_csv('../data/trocafone_kaggle_test.csv')"
   ]
  },
  {
   "cell_type": "code",
   "execution_count": 10,
   "metadata": {},
   "outputs": [],
   "source": [
    "# Taining set\n",
    "training_set = personas.merge(training, on='person', how='inner').drop('person', axis=1)\n",
    "# Test set kaggle\n",
    "test_set = personas.merge(test, on='person', how='inner')"
   ]
  },
  {
   "cell_type": "code",
   "execution_count": 11,
   "metadata": {},
   "outputs": [],
   "source": [
    "# encoder\n",
    "encoder = TargetEncode()\n",
    "# columns\n",
    "categ_columns = ['model', 'condition', 'searched_model', 'country', 'city', 'region', 'device_type']\n",
    "# reading data\n",
    "for categ in categ_columns:\n",
    "    trn, sub = encoder.target_encode(training_set[categ], \n",
    "                             test_set[categ], \n",
    "                             target=training_set['label'], \n",
    "                             min_samples_leaf=100,\n",
    "                             smoothing=10,\n",
    "                             noise_level=0.01)\n",
    "    training_set[categ] = trn\n",
    "    test_set[categ] = sub"
   ]
  },
  {
   "cell_type": "code",
   "execution_count": 12,
   "metadata": {
    "scrolled": true
   },
   "outputs": [],
   "source": [
    "# Save\n",
    "training_set.to_csv('test/training-person2.csv', index=False)\n",
    "test_set.to_csv('test/test-person2.csv', index=False)"
   ]
  }
 ],
 "metadata": {
  "kernelspec": {
   "display_name": "Python 3",
   "language": "python",
   "name": "python3"
  },
  "language_info": {
   "codemirror_mode": {
    "name": "ipython",
    "version": 3
   },
   "file_extension": ".py",
   "mimetype": "text/x-python",
   "name": "python",
   "nbconvert_exporter": "python",
   "pygments_lexer": "ipython3",
   "version": "3.6.5"
  }
 },
 "nbformat": 4,
 "nbformat_minor": 2
}
