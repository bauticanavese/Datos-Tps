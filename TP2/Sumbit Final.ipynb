{
 "cells": [
  {
   "cell_type": "markdown",
   "metadata": {},
   "source": [
    "## XGBoost"
   ]
  },
  {
   "cell_type": "code",
   "execution_count": 26,
   "metadata": {},
   "outputs": [],
   "source": [
    "import pandas as pd\n",
    "import numpy as np\n",
    "import matplotlib.pyplot as plt\n",
    "\n",
    "# metrics\n",
    "from sklearn.metrics import roc_auc_score\n",
    "from sklearn.model_selection import train_test_split, cross_val_score\n",
    "\n",
    "#xgb\n",
    "import xgboost as xgb"
   ]
  },
  {
   "cell_type": "code",
   "execution_count": 27,
   "metadata": {},
   "outputs": [],
   "source": [
    "training = pd.read_csv('calculos/test/training-person2.csv')\n",
    "test = pd.read_csv('calculos/test/test-person2.csv')\n",
    "sumbit = test['person'].to_frame()"
   ]
  },
  {
   "cell_type": "code",
   "execution_count": 28,
   "metadata": {},
   "outputs": [],
   "source": [
    "RANDOM_SEED = 12\n",
    "TEST_SIZE_PERCENT = 0.2"
   ]
  },
  {
   "cell_type": "code",
   "execution_count": 29,
   "metadata": {},
   "outputs": [],
   "source": [
    "y = training['label']\n",
    "X = training.drop(axis=1, labels=['label'])\n",
    "X_train, X_test, y_train, y_test = train_test_split(X, y, test_size=TEST_SIZE_PERCENT, random_state=RANDOM_SEED)\n",
    "\n",
    "feature_list = list(X.columns)"
   ]
  },
  {
   "cell_type": "code",
   "execution_count": 30,
   "metadata": {},
   "outputs": [
    {
     "data": {
      "text/plain": [
       "Index(['event', 'ad campaign hit', 'brand listing', 'checkout', 'conversion',\n",
       "       'generic listing', 'lead', 'search engine hit', 'searched products',\n",
       "       'staticpage', 'viewed product', 'visited site', 'brand_categ',\n",
       "       'top_condition_categ', 'color_model_categ', 'model_brand_views_categ',\n",
       "       'top_event_categ', 'device_type_categ', 'returning', 'last_event_days',\n",
       "       'last ad campaign hit days', 'last brand listing days',\n",
       "       'last checkout days', 'last conversion days',\n",
       "       'last generic listing days', 'last lead days',\n",
       "       'last search engine hit days', 'last searched products days',\n",
       "       'last staticpage days', 'last viewed product days',\n",
       "       'last visited site days', 'first_event_days', 'events_cout_last_week',\n",
       "       'events_mean_frec_last_week', 'top_searched_model_categ',\n",
       "       'region_categ', 'city_categ', 'country_categ'],\n",
       "      dtype='object')"
      ]
     },
     "execution_count": 30,
     "metadata": {},
     "output_type": "execute_result"
    }
   ],
   "source": [
    "X.columns"
   ]
  },
  {
   "cell_type": "code",
   "execution_count": 31,
   "metadata": {},
   "outputs": [],
   "source": [
    "rdf = xgb.XGBClassifier(learning_rate=0.05, n_estimators=130, max_depth=3,\n",
    " min_child_weight=5, gamma=0.3, subsample=0.7, colsample_bytree=0.6, reg_alpha =0.1,seed=RANDOM_SEED)"
   ]
  },
  {
   "cell_type": "code",
   "execution_count": 32,
   "metadata": {
    "scrolled": true
   },
   "outputs": [
    {
     "data": {
      "text/plain": [
       "XGBClassifier(base_score=0.5, booster='gbtree', colsample_bylevel=1,\n",
       "       colsample_bytree=0.6, gamma=0.3, learning_rate=0.05,\n",
       "       max_delta_step=0, max_depth=3, min_child_weight=5, missing=None,\n",
       "       n_estimators=130, n_jobs=1, nthread=None,\n",
       "       objective='binary:logistic', random_state=0, reg_alpha=0.1,\n",
       "       reg_lambda=1, scale_pos_weight=1, seed=12, silent=True,\n",
       "       subsample=0.7)"
      ]
     },
     "execution_count": 32,
     "metadata": {},
     "output_type": "execute_result"
    }
   ],
   "source": [
    "# Training\n",
    "rdf.fit(X_train, y_train)"
   ]
  },
  {
   "cell_type": "code",
   "execution_count": 33,
   "metadata": {
    "scrolled": false
   },
   "outputs": [],
   "source": [
    "# Predict value\n",
    "ret = rdf.predict_proba(X_test)"
   ]
  },
  {
   "cell_type": "code",
   "execution_count": 34,
   "metadata": {},
   "outputs": [
    {
     "data": {
      "text/plain": [
       "0.8697611746120248"
      ]
     },
     "execution_count": 34,
     "metadata": {},
     "output_type": "execute_result"
    }
   ],
   "source": [
    "y_test_predictd = ret[:, 1]\n",
    "roc_auc_score(y_test, y_test_predictd)\n",
    "#0.8986476370432321"
   ]
  },
  {
   "cell_type": "code",
   "execution_count": 35,
   "metadata": {},
   "outputs": [
    {
     "name": "stderr",
     "output_type": "stream",
     "text": [
      "/home/bautista/anaconda3/lib/python3.6/site-packages/sklearn/preprocessing/label.py:151: DeprecationWarning: The truth value of an empty array is ambiguous. Returning False, but in future this will result in an error. Use `array.size > 0` to check that an array is not empty.\n",
      "  if diff:\n"
     ]
    },
    {
     "data": {
      "text/plain": [
       "0.9448879732165851"
      ]
     },
     "execution_count": 35,
     "metadata": {},
     "output_type": "execute_result"
    }
   ],
   "source": [
    "rdf.score(X_test, y_test)"
   ]
  },
  {
   "cell_type": "code",
   "execution_count": 36,
   "metadata": {},
   "outputs": [],
   "source": [
    "# Predict value kaggle set\n",
    "# Training\n",
    "rdf.fit(X, y)\n",
    "ret = rdf.predict_proba(test.drop(axis=1, labels=['person']))"
   ]
  },
  {
   "cell_type": "code",
   "execution_count": 37,
   "metadata": {},
   "outputs": [],
   "source": [
    "# Get proba\n",
    "sumbit['label'] = pd.DataFrame(ret)[1]"
   ]
  },
  {
   "cell_type": "code",
   "execution_count": 38,
   "metadata": {
    "scrolled": true
   },
   "outputs": [
    {
     "data": {
      "text/plain": [
       "Text(0.5,1,'Prediccion Probabilidad de Conversion')"
      ]
     },
     "execution_count": 38,
     "metadata": {},
     "output_type": "execute_result"
    },
    {
     "data": {
      "image/png": "[encoded data removed]",
      "text/plain": [
       "<Figure size 432x288 with 1 Axes>"
      ]
     },
     "metadata": {},
     "output_type": "display_data"
    }
   ],
   "source": [
    "g = (sumbit['label']).hist()\n",
    "g.set_ylabel('Cantidad', size=12)\n",
    "g.set_xlabel('Probabilidad', size=12)\n",
    "g.set_title(\"Prediccion Probabilidad de Conversion\", size=16)"
   ]
  },
  {
   "cell_type": "code",
   "execution_count": 39,
   "metadata": {},
   "outputs": [
    {
     "name": "stdout",
     "output_type": "stream",
     "text": [
      "Variable: last checkout days   Importance: 0.09534619748592377\n",
      "Variable: device_type_categ    Importance: 0.06356409937143326\n",
      "Variable: last conversion days Importance: 0.06242910027503967\n",
      "Variable: region_categ         Importance: 0.04994320124387741\n",
      "Variable: color_model_categ    Importance: 0.04426790028810501\n",
      "Variable: top_event_categ      Importance: 0.04426790028810501\n",
      "Variable: checkout             Importance: 0.041997700929641724\n",
      "Variable: viewed product       Importance: 0.039727598428726196\n",
      "Variable: last search engine hit days Importance: 0.03745739907026291\n",
      "Variable: event                Importance: 0.036322399973869324\n",
      "Variable: last brand listing days Importance: 0.036322399973869324\n",
      "Variable: last viewed product days Importance: 0.03518730029463768\n",
      "Variable: city_categ           Importance: 0.03518730029463768\n",
      "Variable: conversion           Importance: 0.034052200615406036\n",
      "Variable: events_mean_frec_last_week Importance: 0.02951190061867237\n",
      "Variable: last generic listing days Importance: 0.028376799076795578\n",
      "Variable: brand listing        Importance: 0.027241799980401993\n",
      "Variable: top_condition_categ  Importance: 0.027241799980401993\n",
      "Variable: events_cout_last_week Importance: 0.02610670030117035\n",
      "Variable: first_event_days     Importance: 0.02383659966289997\n",
      "Variable: brand_categ          Importance: 0.021566400304436684\n",
      "Variable: model_brand_views_categ Importance: 0.021566400304436684\n",
      "Variable: top_searched_model_categ Importance: 0.02043130062520504\n",
      "Variable: last_event_days      Importance: 0.019296299666166306\n",
      "Variable: last searched products days Importance: 0.015891000628471375\n",
      "Variable: ad campaign hit      Importance: 0.01475599966943264\n",
      "Variable: country_categ        Importance: 0.013620899990200996\n",
      "Variable: visited site         Importance: 0.012485800310969353\n",
      "Variable: last visited site days Importance: 0.012485800310969353\n",
      "Variable: last ad campaign hit days Importance: 0.011350699700415134\n",
      "Variable: search engine hit    Importance: 0.0056754001416265965\n",
      "Variable: searched products    Importance: 0.0045402999967336655\n",
      "Variable: generic listing      Importance: 0.003405200084671378\n",
      "Variable: returning            Importance: 0.002270099939778447\n",
      "Variable: lead                 Importance: 0.0011351000284776092\n",
      "Variable: staticpage           Importance: 0.0011351000284776092\n",
      "Variable: last lead days       Importance: 0.0\n",
      "Variable: last staticpage days Importance: 0.0\n"
     ]
    }
   ],
   "source": [
    "# Get numerical feature importances\n",
    "importances = list(rdf.feature_importances_)\n",
    "\n",
    "# List of tuples with variable and importance\n",
    "feature_importances = [(feature, round(importance, 7)) for feature, importance in zip(feature_list, importances)]\n",
    "\n",
    "# Sort the feature importances by most important first\n",
    "feature_importances = sorted(feature_importances, key = lambda x: x[1], reverse = True)\n",
    "\n",
    "# Print out the feature and importances \n",
    "[print('Variable: {:20} Importance: {}'.format(*pair)) for pair in feature_importances];"
   ]
  },
  {
   "cell_type": "code",
   "execution_count": 40,
   "metadata": {},
   "outputs": [],
   "source": [
    "#sumbit.to_csv('final-submit-XGB.csv', index=False)"
   ]
  }
 ],
 "metadata": {
  "kernelspec": {
   "display_name": "Python 3",
   "language": "python",
   "name": "python3"
  },
  "language_info": {
   "codemirror_mode": {
    "name": "ipython",
    "version": 3
   },
   "file_extension": ".py",
   "mimetype": "text/x-python",
   "name": "python",
   "nbconvert_exporter": "python",
   "pygments_lexer": "ipython3",
   "version": "3.6.5"
  }
 },
 "nbformat": 4,
 "nbformat_minor": 2
}
