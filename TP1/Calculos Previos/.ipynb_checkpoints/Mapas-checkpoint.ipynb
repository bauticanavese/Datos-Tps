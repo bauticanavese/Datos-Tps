{
 "cells": [
  {
   "cell_type": "code",
   "execution_count": 1,
   "metadata": {},
   "outputs": [],
   "source": [
    "# importacion general de librerias y de visualizacion (matplotlib y seaborn)\n",
    "import pandas as pd\n",
    "import numpy as np\n",
    "import matplotlib.pyplot as plt\n",
    "\n",
    "import plotly as py\n",
    "\n",
    "\n",
    "%matplotlib inline"
   ]
  },
  {
   "cell_type": "code",
   "execution_count": 2,
   "metadata": {
    "scrolled": true
   },
   "outputs": [
    {
     "name": "stderr",
     "output_type": "stream",
     "text": [
      "/home/bauticavanese/anaconda3/lib/python3.6/site-packages/IPython/core/interactiveshell.py:2785: DtypeWarning:\n",
      "\n",
      "Columns (4) have mixed types. Specify dtype option on import or set low_memory=False.\n",
      "\n"
     ]
    }
   ],
   "source": [
    "path = '../data/events.csv'\n",
    "eventos_2018 = pd.read_csv(path)"
   ]
  },
  {
   "cell_type": "markdown",
   "metadata": {},
   "source": [
    "# Localidades"
   ]
  },
  {
   "cell_type": "code",
   "execution_count": 94,
   "metadata": {},
   "outputs": [],
   "source": [
    "# import galeria nesesaria para graficos de mapas.\n",
    "############################################################\n",
    "#          https://anaconda.org/conda-forge/folium         #\n",
    "############################################################\n",
    "\n",
    "import folium"
   ]
  },
  {
   "cell_type": "code",
   "execution_count": 95,
   "metadata": {},
   "outputs": [
    {
     "data": {
      "text/plain": [
       "923910"
      ]
     },
     "execution_count": 95,
     "metadata": {},
     "output_type": "execute_result"
    }
   ],
   "source": [
    "# Eventos sin registro de pais de origen.\n",
    "eventos_2018['country'].isnull().sum()"
   ]
  },
  {
   "cell_type": "markdown",
   "metadata": {},
   "source": [
    "Si hacemos la cuenta, vemos que hay aproximadamente un 10% de los datos que no son nulos, es nescesario saber esto antes\n",
    "de sacar conlusiones."
   ]
  },
  {
   "cell_type": "markdown",
   "metadata": {},
   "source": [
    "## Paises ##"
   ]
  },
  {
   "cell_type": "code",
   "execution_count": 96,
   "metadata": {},
   "outputs": [],
   "source": [
    "# Id paises (Argentina : ARG \n",
    "#            Brasil : BRA\n",
    "#                      ...) .\n",
    "id_paises = pd.read_csv('data/id-countries.csv')\n",
    "\n",
    "# Calculando la cantidad de eventos por pais.\n",
    "countries_data = pd.DataFrame(eventos_2018['country'].value_counts())\n",
    "countries_data.reset_index(inplace=True)\n",
    "countries_data.columns = ['country', 'count']\n",
    "countries_data.replace({'United States' : 'United States of America'}, inplace= True)\n",
    "\n",
    "\n",
    "# Cantiadad de eventos sobre todos los paises.\n",
    "data_paises = countries_data.merge(id_paises, how='left', on=['country']).fillna(0)"
   ]
  },
  {
   "cell_type": "code",
   "execution_count": 97,
   "metadata": {},
   "outputs": [
    {
     "data": {
      "text/html": [
       "<div>\n",
       "<style scoped>\n",
       "    .dataframe tbody tr th:only-of-type {\n",
       "        vertical-align: middle;\n",
       "    }\n",
       "\n",
       "    .dataframe tbody tr th {\n",
       "        vertical-align: top;\n",
       "    }\n",
       "\n",
       "    .dataframe thead th {\n",
       "        text-align: right;\n",
       "    }\n",
       "</style>\n",
       "<table border=\"1\" class=\"dataframe\">\n",
       "  <thead>\n",
       "    <tr style=\"text-align: right;\">\n",
       "      <th></th>\n",
       "      <th>country</th>\n",
       "      <th>count</th>\n",
       "      <th>id</th>\n",
       "    </tr>\n",
       "  </thead>\n",
       "  <tbody>\n",
       "    <tr>\n",
       "      <th>0</th>\n",
       "      <td>Brazil</td>\n",
       "      <td>84308</td>\n",
       "      <td>BRA</td>\n",
       "    </tr>\n",
       "    <tr>\n",
       "      <th>2</th>\n",
       "      <td>United States of America</td>\n",
       "      <td>465</td>\n",
       "      <td>USA</td>\n",
       "    </tr>\n",
       "    <tr>\n",
       "      <th>3</th>\n",
       "      <td>Argentina</td>\n",
       "      <td>94</td>\n",
       "      <td>ARG</td>\n",
       "    </tr>\n",
       "    <tr>\n",
       "      <th>4</th>\n",
       "      <td>Canada</td>\n",
       "      <td>35</td>\n",
       "      <td>CAN</td>\n",
       "    </tr>\n",
       "    <tr>\n",
       "      <th>5</th>\n",
       "      <td>France</td>\n",
       "      <td>13</td>\n",
       "      <td>FRA</td>\n",
       "    </tr>\n",
       "  </tbody>\n",
       "</table>\n",
       "</div>"
      ],
      "text/plain": [
       "                    country  count   id\n",
       "0                    Brazil  84308  BRA\n",
       "2  United States of America    465  USA\n",
       "3                 Argentina     94  ARG\n",
       "4                    Canada     35  CAN\n",
       "5                    France     13  FRA"
      ]
     },
     "execution_count": 97,
     "metadata": {},
     "output_type": "execute_result"
    }
   ],
   "source": [
    "# Top 5 paises con mas eventos. Filtro los indeterminados.\n",
    "data_paises[data_paises['country'] != 'Unknown'][:5]"
   ]
  },
  {
   "cell_type": "code",
   "execution_count": 98,
   "metadata": {},
   "outputs": [],
   "source": [
    "# Creacion de mapa\n",
    "SF_COORDINATES = (37.76, -122.45)\n",
    "mapa = folium.Map(location=SF_COORDINATES, tiles=\"Mapbox Bright\", zoom_start=2)\n"
   ]
  },
  {
   "cell_type": "code",
   "execution_count": 99,
   "metadata": {},
   "outputs": [],
   "source": [
    "# Pintamos \n",
    "mapa.choropleth(\n",
    "    geo_data='data/world-countries.json',\n",
    "    name='Cantidad de Eventos',\n",
    "    data=data_paises,\n",
    "    columns=['country', 'count'],\n",
    "    key_on='feature.properties.name',\n",
    "    fill_color='YlOrRd',\n",
    "    fill_opacity=0.7,\n",
    "    line_opacity=0.2,\n",
    "    legend_name='Cantidad de Eventos',\n",
    "    highlight=True\n",
    ")\n",
    "\n",
    "# Decrementar para visualizar el mapa.\n",
    "#display(mapa)"
   ]
  },
  {
   "cell_type": "code",
   "execution_count": 100,
   "metadata": {},
   "outputs": [],
   "source": [
    "# Escala logaritmica para visualizar mejor los datos.\n",
    "data_paises['count_log'] = np.log(data_paises['count'] + 1)"
   ]
  },
  {
   "cell_type": "code",
   "execution_count": 102,
   "metadata": {},
   "outputs": [
    {
     "data": {
      "text/plain": [
       "<folium.map.LayerControl at 0x7fcf363daf98>"
      ]
     },
     "execution_count": 102,
     "metadata": {},
     "output_type": "execute_result"
    }
   ],
   "source": [
    "mapa.choropleth(\n",
    "    geo_data='data/world-countries.json',\n",
    "    name='Cantidad de Eventos (Log)',\n",
    "    data=data_paises,\n",
    "    columns=['country', 'count_log'],\n",
    "    key_on='feature.properties.name',\n",
    "    fill_color='PuBuGn',\n",
    "    fill_opacity=0.7,\n",
    "    line_opacity=0.2,\n",
    "    legend_name='Cantidad de Eventos (Log)',\n",
    "    highlight=True,\n",
    ")\n",
    "\n",
    "\n",
    "# Agregamos un controlador de layers.\n",
    "folium.LayerControl().add_to(mapa)\n",
    "\n",
    "# Decrementar para visualizar el mapa.\n",
    "#display(mapa)"
   ]
  },
  {
   "cell_type": "code",
   "execution_count": 103,
   "metadata": {},
   "outputs": [],
   "source": [
    "# Decrementar para visualizar el mapa.\n",
    "mapa.save('country_map.html')\n",
    "#display(mapa)"
   ]
  },
  {
   "cell_type": "markdown",
   "metadata": {},
   "source": [
    "## Regiones"
   ]
  },
  {
   "cell_type": "code",
   "execution_count": 104,
   "metadata": {},
   "outputs": [
    {
     "data": {
      "text/plain": [
       "Sao Paulo            24996\n",
       "Unknown              14772\n",
       "Minas Gerais          7755\n",
       "Rio de Janeiro        6913\n",
       "Bahia                 5737\n",
       "Pernambuco            2962\n",
       "Ceara                 2829\n",
       "Parana                2602\n",
       "Rio Grande do Sul     2576\n",
       "Federal District      1739\n",
       "Name: region, dtype: int64"
      ]
     },
     "execution_count": 104,
     "metadata": {},
     "output_type": "execute_result"
    }
   ],
   "source": [
    "#Top 10 regiones que realizaron eventos.\n",
    "eventos_2018['region'].value_counts()[:10]"
   ]
  },
  {
   "cell_type": "markdown",
   "metadata": {},
   "source": [
    "Como Brasil es el pais en donde mas ocurrieron eventos, realizaremos un analisis mas profundo acerca de las regiones mas participes de la platafroma."
   ]
  },
  {
   "cell_type": "code",
   "execution_count": 105,
   "metadata": {},
   "outputs": [],
   "source": [
    "# Cantidad de eventos por region (Brasil)\n",
    "bra_data = eventos_2018.loc[eventos_2018['country'] == 'Brazil']['region'].value_counts().to_frame()\n",
    "bra_data.reset_index(inplace=True)\n",
    "bra_data.columns = ['region', 'count']"
   ]
  },
  {
   "cell_type": "code",
   "execution_count": 106,
   "metadata": {},
   "outputs": [],
   "source": [
    "# Total de paises dentro del archivo.\n",
    "bra_regiones = pd.read_json('data/brazil-states.geojson')\n",
    "bra_regiones = bra_regiones.features.apply(lambda x: x['properties']['name']).to_frame()\n",
    "bra_regiones['count'] = 0\n",
    "bra_regiones.columns = ['region', 'count']\n",
    "\n",
    "# Respetando notacion de archivo json.\n",
    "bra_data.replace({'Parana' : 'Paraná', 'Sao Paulo' :'São Paulo', 'Ceara' : 'Ceará', 'Piaui' : 'Piauí',\n",
    "                  'Rondonia' : 'Rondônia', 'Para': 'Pará', 'Maranhao' : 'Maranhão'}, \n",
    "                 inplace=True)\n",
    "\n",
    "# Cantiadad de eventos sobre todas las regiones.\n",
    "data = bra_data.merge(bra_regiones, how='right', on='region')\n",
    "data.replace({np.nan : 0}, inplace= True)"
   ]
  },
  {
   "cell_type": "code",
   "execution_count": 107,
   "metadata": {},
   "outputs": [
    {
     "data": {
      "text/html": [
       "<div>\n",
       "<style scoped>\n",
       "    .dataframe tbody tr th:only-of-type {\n",
       "        vertical-align: middle;\n",
       "    }\n",
       "\n",
       "    .dataframe tbody tr th {\n",
       "        vertical-align: top;\n",
       "    }\n",
       "\n",
       "    .dataframe thead th {\n",
       "        text-align: right;\n",
       "    }\n",
       "</style>\n",
       "<table border=\"1\" class=\"dataframe\">\n",
       "  <thead>\n",
       "    <tr style=\"text-align: right;\">\n",
       "      <th></th>\n",
       "      <th>region</th>\n",
       "      <th>count_x</th>\n",
       "      <th>count_y</th>\n",
       "    </tr>\n",
       "  </thead>\n",
       "  <tbody>\n",
       "    <tr>\n",
       "      <th>0</th>\n",
       "      <td>São Paulo</td>\n",
       "      <td>24996.0</td>\n",
       "      <td>0</td>\n",
       "    </tr>\n",
       "    <tr>\n",
       "      <th>1</th>\n",
       "      <td>Minas Gerais</td>\n",
       "      <td>7755.0</td>\n",
       "      <td>0</td>\n",
       "    </tr>\n",
       "    <tr>\n",
       "      <th>2</th>\n",
       "      <td>Rio de Janeiro</td>\n",
       "      <td>6913.0</td>\n",
       "      <td>0</td>\n",
       "    </tr>\n",
       "    <tr>\n",
       "      <th>3</th>\n",
       "      <td>Bahia</td>\n",
       "      <td>5737.0</td>\n",
       "      <td>0</td>\n",
       "    </tr>\n",
       "    <tr>\n",
       "      <th>4</th>\n",
       "      <td>Pernambuco</td>\n",
       "      <td>2962.0</td>\n",
       "      <td>0</td>\n",
       "    </tr>\n",
       "    <tr>\n",
       "      <th>5</th>\n",
       "      <td>Ceará</td>\n",
       "      <td>2829.0</td>\n",
       "      <td>0</td>\n",
       "    </tr>\n",
       "    <tr>\n",
       "      <th>6</th>\n",
       "      <td>Paraná</td>\n",
       "      <td>2602.0</td>\n",
       "      <td>0</td>\n",
       "    </tr>\n",
       "    <tr>\n",
       "      <th>7</th>\n",
       "      <td>Rio Grande do Sul</td>\n",
       "      <td>2576.0</td>\n",
       "      <td>0</td>\n",
       "    </tr>\n",
       "    <tr>\n",
       "      <th>8</th>\n",
       "      <td>Santa Catarina</td>\n",
       "      <td>1511.0</td>\n",
       "      <td>0</td>\n",
       "    </tr>\n",
       "    <tr>\n",
       "      <th>9</th>\n",
       "      <td>Pará</td>\n",
       "      <td>1382.0</td>\n",
       "      <td>0</td>\n",
       "    </tr>\n",
       "  </tbody>\n",
       "</table>\n",
       "</div>"
      ],
      "text/plain": [
       "              region  count_x  count_y\n",
       "0          São Paulo  24996.0        0\n",
       "1       Minas Gerais   7755.0        0\n",
       "2     Rio de Janeiro   6913.0        0\n",
       "3              Bahia   5737.0        0\n",
       "4         Pernambuco   2962.0        0\n",
       "5              Ceará   2829.0        0\n",
       "6             Paraná   2602.0        0\n",
       "7  Rio Grande do Sul   2576.0        0\n",
       "8     Santa Catarina   1511.0        0\n",
       "9               Pará   1382.0        0"
      ]
     },
     "execution_count": 107,
     "metadata": {},
     "output_type": "execute_result"
    }
   ],
   "source": [
    "# Top 10 regiones en Brasil\n",
    "data[:10]"
   ]
  },
  {
   "cell_type": "code",
   "execution_count": 108,
   "metadata": {},
   "outputs": [],
   "source": [
    "# Creacion de mapa\n",
    "SF_COORDINATES = (-23.533773, -46.625290)\n",
    "mapa_bra = folium.Map(location=SF_COORDINATES, zoom_start=7)\n",
    "\n",
    "mapa_bra.choropleth(\n",
    "    geo_data='data/brazil-states.geojson',\n",
    "    name='Cantidad de Eventos',\n",
    "    data=data,\n",
    "    columns=['region', 'count_x'],\n",
    "    key_on='feature.properties.name',\n",
    "    fill_color='PuBuGn',\n",
    "    fill_opacity=0.7,\n",
    "    line_opacity=0.2,\n",
    "    legend_name='Cantidad de Eventos',\n",
    "    highlight=True,\n",
    "    reset=True\n",
    ")\n",
    "\n",
    "#display(mapa_bra)"
   ]
  },
  {
   "cell_type": "code",
   "execution_count": null,
   "metadata": {},
   "outputs": [],
   "source": [
    "# Escala logaritmica\n",
    "data['count_log'] = np.log(data['count_x']+1)"
   ]
  },
  {
   "cell_type": "code",
   "execution_count": null,
   "metadata": {},
   "outputs": [],
   "source": [
    "mapa_bra.choropleth(\n",
    "    geo_data='data/brazil-states.geojson',\n",
    "    name='Cantidad de Eventos LOG',\n",
    "    data=data,\n",
    "    columns=['region', 'count_log'],\n",
    "    key_on='feature.properties.name',\n",
    "    fill_color='PuBuGn',\n",
    "    fill_opacity=0.7,\n",
    "    line_opacity=0.2,\n",
    "    legend_name='Cantidad de Eventos LOG',\n",
    "    highlight=True,\n",
    "    reset=True\n",
    ")\n",
    "\n",
    "# Agregamos un controlador de layers.\n",
    "folium.LayerControl().add_to(mapa_bra)\n",
    "\n",
    "mapa_bra.save('bra_map.html')\n"
   ]
  },
  {
   "cell_type": "code",
   "execution_count": null,
   "metadata": {},
   "outputs": [],
   "source": [
    "# Pyplot\n",
    "\n",
    "df = data_paises\n",
    "\n",
    "data_x = [ dict(\n",
    "        type = 'choropleth',\n",
    "        locations = df['id'],\n",
    "        z = df['count_log'],\n",
    "        text = df['country'],\n",
    "        colorscale = [[0,\"rgb(5, 10, 172)\"],[0.35,\"rgb(40, 60, 190)\"],[0.5,\"rgb(70, 100, 245)\"],\\\n",
    "            [0.6,\"rgb(90, 120, 245)\"],[0.7,\"rgb(106, 137, 247)\"],[1,\"rgb(220, 220, 220)\"]],\n",
    "        reversescale = True,\n",
    "        colorbar = dict(\n",
    "            title = 'Cantidad Eventos (Log)'\n",
    "        ),\n",
    "    ) ]\n",
    "\n",
    "layout = dict(\n",
    "    title = 'Cantidade Total de Eventos 2018',\n",
    "    geo = dict(\n",
    "        showframe = False,\n",
    "        showcoastlines = False,\n",
    "    )\n",
    ")\n",
    "\n",
    "fig = dict( data=data_x, layout=layout )\n",
    "py.plotly.iplot(fig)"
   ]
  }
 ],
 "metadata": {
  "kernelspec": {
   "display_name": "Python 3",
   "language": "python",
   "name": "python3"
  },
  "language_info": {
   "codemirror_mode": {
    "name": "ipython",
    "version": 3
   },
   "file_extension": ".py",
   "mimetype": "text/x-python",
   "name": "python",
   "nbconvert_exporter": "python",
   "pygments_lexer": "ipython3",
   "version": "3.6.5"
  }
 },
 "nbformat": 4,
 "nbformat_minor": 2
}
