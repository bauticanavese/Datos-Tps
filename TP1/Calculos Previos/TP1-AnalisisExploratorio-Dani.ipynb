{
 "cells": [
  {
   "cell_type": "code",
   "execution_count": 232,
   "metadata": {},
   "outputs": [],
   "source": [
    "import pandas as pd\n",
    "import matplotlib.pyplot as plt\n",
    "import matplotlib.dates as mdates\n",
    "import datetime\n",
    "import seaborn as sns\n",
    "import numpy as np\n",
    "\n",
    "%matplotlib inline\n",
    "\n",
    "\n",
    "plt.style.use('default')\n",
    "sns.set(style=\"whitegrid\")"
   ]
  },
  {
   "cell_type": "code",
   "execution_count": null,
   "metadata": {},
   "outputs": [],
   "source": [
    "filepath = 'fiuba-trocafone-tp1-final-set/events.csv'\n",
    "trocafone_events = pd.read_csv(filepath, low_memory = False)\n",
    "trocafone_events['timestamp'] = pd.to_datetime(trocafone_events['timestamp'])"
   ]
  },
  {
   "cell_type": "markdown",
   "metadata": {},
   "source": [
    "# Primeras 5 filas"
   ]
  },
  {
   "cell_type": "code",
   "execution_count": 76,
   "metadata": {},
   "outputs": [
    {
     "data": {
      "text/html": [
       "<div>\n",
       "<style scoped>\n",
       "    .dataframe tbody tr th:only-of-type {\n",
       "        vertical-align: middle;\n",
       "    }\n",
       "\n",
       "    .dataframe tbody tr th {\n",
       "        vertical-align: top;\n",
       "    }\n",
       "\n",
       "    .dataframe thead th {\n",
       "        text-align: right;\n",
       "    }\n",
       "</style>\n",
       "<table border=\"1\" class=\"dataframe\">\n",
       "  <thead>\n",
       "    <tr style=\"text-align: right;\">\n",
       "      <th></th>\n",
       "      <th>timestamp</th>\n",
       "      <th>event</th>\n",
       "      <th>person</th>\n",
       "      <th>url</th>\n",
       "      <th>sku</th>\n",
       "      <th>model</th>\n",
       "      <th>condition</th>\n",
       "      <th>storage</th>\n",
       "      <th>color</th>\n",
       "      <th>skus</th>\n",
       "      <th>...</th>\n",
       "      <th>search_engine</th>\n",
       "      <th>channel</th>\n",
       "      <th>new_vs_returning</th>\n",
       "      <th>city</th>\n",
       "      <th>region</th>\n",
       "      <th>country</th>\n",
       "      <th>device_type</th>\n",
       "      <th>screen_resolution</th>\n",
       "      <th>operating_system_version</th>\n",
       "      <th>browser_version</th>\n",
       "    </tr>\n",
       "  </thead>\n",
       "  <tbody>\n",
       "    <tr>\n",
       "      <th>0</th>\n",
       "      <td>2018-05-31 23:38:00</td>\n",
       "      <td>ad campaign hit</td>\n",
       "      <td>0004b0a2</td>\n",
       "      <td>/comprar/iphone/iphone-5s</td>\n",
       "      <td>NaN</td>\n",
       "      <td>NaN</td>\n",
       "      <td>NaN</td>\n",
       "      <td>NaN</td>\n",
       "      <td>NaN</td>\n",
       "      <td>NaN</td>\n",
       "      <td>...</td>\n",
       "      <td>NaN</td>\n",
       "      <td>NaN</td>\n",
       "      <td>NaN</td>\n",
       "      <td>NaN</td>\n",
       "      <td>NaN</td>\n",
       "      <td>NaN</td>\n",
       "      <td>NaN</td>\n",
       "      <td>NaN</td>\n",
       "      <td>NaN</td>\n",
       "      <td>NaN</td>\n",
       "    </tr>\n",
       "    <tr>\n",
       "      <th>1</th>\n",
       "      <td>2018-05-31 23:38:00</td>\n",
       "      <td>visited site</td>\n",
       "      <td>0004b0a2</td>\n",
       "      <td>NaN</td>\n",
       "      <td>NaN</td>\n",
       "      <td>NaN</td>\n",
       "      <td>NaN</td>\n",
       "      <td>NaN</td>\n",
       "      <td>NaN</td>\n",
       "      <td>NaN</td>\n",
       "      <td>...</td>\n",
       "      <td>NaN</td>\n",
       "      <td>Paid</td>\n",
       "      <td>New</td>\n",
       "      <td>Camaragibe</td>\n",
       "      <td>Pernambuco</td>\n",
       "      <td>Brazil</td>\n",
       "      <td>Smartphone</td>\n",
       "      <td>360x640</td>\n",
       "      <td>Android 6</td>\n",
       "      <td>Chrome Mobile 39</td>\n",
       "    </tr>\n",
       "    <tr>\n",
       "      <th>2</th>\n",
       "      <td>2018-05-31 23:38:00</td>\n",
       "      <td>viewed product</td>\n",
       "      <td>0004b0a2</td>\n",
       "      <td>NaN</td>\n",
       "      <td>2694</td>\n",
       "      <td>iPhone 5s</td>\n",
       "      <td>Bom</td>\n",
       "      <td>32GB</td>\n",
       "      <td>Cinza espacial</td>\n",
       "      <td>NaN</td>\n",
       "      <td>...</td>\n",
       "      <td>NaN</td>\n",
       "      <td>NaN</td>\n",
       "      <td>NaN</td>\n",
       "      <td>NaN</td>\n",
       "      <td>NaN</td>\n",
       "      <td>NaN</td>\n",
       "      <td>NaN</td>\n",
       "      <td>NaN</td>\n",
       "      <td>NaN</td>\n",
       "      <td>NaN</td>\n",
       "    </tr>\n",
       "    <tr>\n",
       "      <th>3</th>\n",
       "      <td>2018-05-31 23:38:00</td>\n",
       "      <td>checkout</td>\n",
       "      <td>0004b0a2</td>\n",
       "      <td>NaN</td>\n",
       "      <td>2694</td>\n",
       "      <td>iPhone 5s</td>\n",
       "      <td>Bom</td>\n",
       "      <td>32GB</td>\n",
       "      <td>Cinza espacial</td>\n",
       "      <td>NaN</td>\n",
       "      <td>...</td>\n",
       "      <td>NaN</td>\n",
       "      <td>NaN</td>\n",
       "      <td>NaN</td>\n",
       "      <td>NaN</td>\n",
       "      <td>NaN</td>\n",
       "      <td>NaN</td>\n",
       "      <td>NaN</td>\n",
       "      <td>NaN</td>\n",
       "      <td>NaN</td>\n",
       "      <td>NaN</td>\n",
       "    </tr>\n",
       "    <tr>\n",
       "      <th>4</th>\n",
       "      <td>2018-05-29 13:29:00</td>\n",
       "      <td>viewed product</td>\n",
       "      <td>0006a21a</td>\n",
       "      <td>NaN</td>\n",
       "      <td>15338</td>\n",
       "      <td>Samsung Galaxy S8</td>\n",
       "      <td>Bom</td>\n",
       "      <td>64GB</td>\n",
       "      <td>Dourado</td>\n",
       "      <td>NaN</td>\n",
       "      <td>...</td>\n",
       "      <td>NaN</td>\n",
       "      <td>NaN</td>\n",
       "      <td>NaN</td>\n",
       "      <td>NaN</td>\n",
       "      <td>NaN</td>\n",
       "      <td>NaN</td>\n",
       "      <td>NaN</td>\n",
       "      <td>NaN</td>\n",
       "      <td>NaN</td>\n",
       "      <td>NaN</td>\n",
       "    </tr>\n",
       "  </tbody>\n",
       "</table>\n",
       "<p>5 rows × 23 columns</p>\n",
       "</div>"
      ],
      "text/plain": [
       "            timestamp            event    person                        url  \\\n",
       "0 2018-05-31 23:38:00  ad campaign hit  0004b0a2  /comprar/iphone/iphone-5s   \n",
       "1 2018-05-31 23:38:00     visited site  0004b0a2                        NaN   \n",
       "2 2018-05-31 23:38:00   viewed product  0004b0a2                        NaN   \n",
       "3 2018-05-31 23:38:00         checkout  0004b0a2                        NaN   \n",
       "4 2018-05-29 13:29:00   viewed product  0006a21a                        NaN   \n",
       "\n",
       "     sku              model condition storage           color skus  \\\n",
       "0    NaN                NaN       NaN     NaN             NaN  NaN   \n",
       "1    NaN                NaN       NaN     NaN             NaN  NaN   \n",
       "2   2694          iPhone 5s       Bom    32GB  Cinza espacial  NaN   \n",
       "3   2694          iPhone 5s       Bom    32GB  Cinza espacial  NaN   \n",
       "4  15338  Samsung Galaxy S8       Bom    64GB         Dourado  NaN   \n",
       "\n",
       "         ...        search_engine channel new_vs_returning        city  \\\n",
       "0        ...                  NaN     NaN              NaN         NaN   \n",
       "1        ...                  NaN    Paid              New  Camaragibe   \n",
       "2        ...                  NaN     NaN              NaN         NaN   \n",
       "3        ...                  NaN     NaN              NaN         NaN   \n",
       "4        ...                  NaN     NaN              NaN         NaN   \n",
       "\n",
       "       region country device_type screen_resolution operating_system_version  \\\n",
       "0         NaN     NaN         NaN               NaN                      NaN   \n",
       "1  Pernambuco  Brazil  Smartphone           360x640                Android 6   \n",
       "2         NaN     NaN         NaN               NaN                      NaN   \n",
       "3         NaN     NaN         NaN               NaN                      NaN   \n",
       "4         NaN     NaN         NaN               NaN                      NaN   \n",
       "\n",
       "    browser_version  \n",
       "0               NaN  \n",
       "1  Chrome Mobile 39  \n",
       "2               NaN  \n",
       "3               NaN  \n",
       "4               NaN  \n",
       "\n",
       "[5 rows x 23 columns]"
      ]
     },
     "execution_count": 76,
     "metadata": {},
     "output_type": "execute_result"
    }
   ],
   "source": [
    "trocafone_events.head()"
   ]
  },
  {
   "cell_type": "markdown",
   "metadata": {},
   "source": [
    "# Ultimas 5 filas"
   ]
  },
  {
   "cell_type": "code",
   "execution_count": 4,
   "metadata": {},
   "outputs": [
    {
     "data": {
      "text/html": [
       "<div>\n",
       "<style scoped>\n",
       "    .dataframe tbody tr th:only-of-type {\n",
       "        vertical-align: middle;\n",
       "    }\n",
       "\n",
       "    .dataframe tbody tr th {\n",
       "        vertical-align: top;\n",
       "    }\n",
       "\n",
       "    .dataframe thead th {\n",
       "        text-align: right;\n",
       "    }\n",
       "</style>\n",
       "<table border=\"1\" class=\"dataframe\">\n",
       "  <thead>\n",
       "    <tr style=\"text-align: right;\">\n",
       "      <th></th>\n",
       "      <th>timestamp</th>\n",
       "      <th>event</th>\n",
       "      <th>person</th>\n",
       "      <th>url</th>\n",
       "      <th>sku</th>\n",
       "      <th>model</th>\n",
       "      <th>condition</th>\n",
       "      <th>storage</th>\n",
       "      <th>color</th>\n",
       "      <th>skus</th>\n",
       "      <th>...</th>\n",
       "      <th>search_engine</th>\n",
       "      <th>channel</th>\n",
       "      <th>new_vs_returning</th>\n",
       "      <th>city</th>\n",
       "      <th>region</th>\n",
       "      <th>country</th>\n",
       "      <th>device_type</th>\n",
       "      <th>screen_resolution</th>\n",
       "      <th>operating_system_version</th>\n",
       "      <th>browser_version</th>\n",
       "    </tr>\n",
       "  </thead>\n",
       "  <tbody>\n",
       "    <tr>\n",
       "      <th>1011283</th>\n",
       "      <td>2018-06-11 12:31:00</td>\n",
       "      <td>checkout</td>\n",
       "      <td>ffffa8d1</td>\n",
       "      <td>NaN</td>\n",
       "      <td>8512</td>\n",
       "      <td>Samsung Galaxy S7 Edge</td>\n",
       "      <td>Muito Bom</td>\n",
       "      <td>32GB</td>\n",
       "      <td>Preto</td>\n",
       "      <td>NaN</td>\n",
       "      <td>...</td>\n",
       "      <td>NaN</td>\n",
       "      <td>NaN</td>\n",
       "      <td>NaN</td>\n",
       "      <td>NaN</td>\n",
       "      <td>NaN</td>\n",
       "      <td>NaN</td>\n",
       "      <td>NaN</td>\n",
       "      <td>NaN</td>\n",
       "      <td>NaN</td>\n",
       "      <td>NaN</td>\n",
       "    </tr>\n",
       "    <tr>\n",
       "      <th>1011284</th>\n",
       "      <td>2018-06-04 23:18:00</td>\n",
       "      <td>visited site</td>\n",
       "      <td>ffffac8a</td>\n",
       "      <td>NaN</td>\n",
       "      <td>NaN</td>\n",
       "      <td>NaN</td>\n",
       "      <td>NaN</td>\n",
       "      <td>NaN</td>\n",
       "      <td>NaN</td>\n",
       "      <td>NaN</td>\n",
       "      <td>...</td>\n",
       "      <td>NaN</td>\n",
       "      <td>Paid</td>\n",
       "      <td>New</td>\n",
       "      <td>Unknown</td>\n",
       "      <td>Unknown</td>\n",
       "      <td>Brazil</td>\n",
       "      <td>Smartphone</td>\n",
       "      <td>320x534</td>\n",
       "      <td>Android 6</td>\n",
       "      <td>Chrome Mobile 39</td>\n",
       "    </tr>\n",
       "    <tr>\n",
       "      <th>1011285</th>\n",
       "      <td>2018-06-04 23:18:00</td>\n",
       "      <td>ad campaign hit</td>\n",
       "      <td>ffffac8a</td>\n",
       "      <td>/comprar/samsung/galaxy-s7-edge</td>\n",
       "      <td>NaN</td>\n",
       "      <td>NaN</td>\n",
       "      <td>NaN</td>\n",
       "      <td>NaN</td>\n",
       "      <td>NaN</td>\n",
       "      <td>NaN</td>\n",
       "      <td>...</td>\n",
       "      <td>NaN</td>\n",
       "      <td>NaN</td>\n",
       "      <td>NaN</td>\n",
       "      <td>NaN</td>\n",
       "      <td>NaN</td>\n",
       "      <td>NaN</td>\n",
       "      <td>NaN</td>\n",
       "      <td>NaN</td>\n",
       "      <td>NaN</td>\n",
       "      <td>NaN</td>\n",
       "    </tr>\n",
       "    <tr>\n",
       "      <th>1011286</th>\n",
       "      <td>2018-06-04 23:18:00</td>\n",
       "      <td>viewed product</td>\n",
       "      <td>ffffac8a</td>\n",
       "      <td>NaN</td>\n",
       "      <td>8527</td>\n",
       "      <td>Samsung Galaxy S7 Edge</td>\n",
       "      <td>Bom</td>\n",
       "      <td>32GB</td>\n",
       "      <td>Prata</td>\n",
       "      <td>NaN</td>\n",
       "      <td>...</td>\n",
       "      <td>NaN</td>\n",
       "      <td>NaN</td>\n",
       "      <td>NaN</td>\n",
       "      <td>NaN</td>\n",
       "      <td>NaN</td>\n",
       "      <td>NaN</td>\n",
       "      <td>NaN</td>\n",
       "      <td>NaN</td>\n",
       "      <td>NaN</td>\n",
       "      <td>NaN</td>\n",
       "    </tr>\n",
       "    <tr>\n",
       "      <th>1011287</th>\n",
       "      <td>2018-06-04 23:18:00</td>\n",
       "      <td>checkout</td>\n",
       "      <td>ffffac8a</td>\n",
       "      <td>NaN</td>\n",
       "      <td>8527</td>\n",
       "      <td>Samsung Galaxy S7 Edge</td>\n",
       "      <td>Bom</td>\n",
       "      <td>32GB</td>\n",
       "      <td>Prata</td>\n",
       "      <td>NaN</td>\n",
       "      <td>...</td>\n",
       "      <td>NaN</td>\n",
       "      <td>NaN</td>\n",
       "      <td>NaN</td>\n",
       "      <td>NaN</td>\n",
       "      <td>NaN</td>\n",
       "      <td>NaN</td>\n",
       "      <td>NaN</td>\n",
       "      <td>NaN</td>\n",
       "      <td>NaN</td>\n",
       "      <td>NaN</td>\n",
       "    </tr>\n",
       "  </tbody>\n",
       "</table>\n",
       "<p>5 rows × 23 columns</p>\n",
       "</div>"
      ],
      "text/plain": [
       "                  timestamp            event    person  \\\n",
       "1011283 2018-06-11 12:31:00         checkout  ffffa8d1   \n",
       "1011284 2018-06-04 23:18:00     visited site  ffffac8a   \n",
       "1011285 2018-06-04 23:18:00  ad campaign hit  ffffac8a   \n",
       "1011286 2018-06-04 23:18:00   viewed product  ffffac8a   \n",
       "1011287 2018-06-04 23:18:00         checkout  ffffac8a   \n",
       "\n",
       "                                     url   sku                   model  \\\n",
       "1011283                              NaN  8512  Samsung Galaxy S7 Edge   \n",
       "1011284                              NaN   NaN                     NaN   \n",
       "1011285  /comprar/samsung/galaxy-s7-edge   NaN                     NaN   \n",
       "1011286                              NaN  8527  Samsung Galaxy S7 Edge   \n",
       "1011287                              NaN  8527  Samsung Galaxy S7 Edge   \n",
       "\n",
       "         condition storage  color skus        ...        search_engine  \\\n",
       "1011283  Muito Bom    32GB  Preto  NaN        ...                  NaN   \n",
       "1011284        NaN     NaN    NaN  NaN        ...                  NaN   \n",
       "1011285        NaN     NaN    NaN  NaN        ...                  NaN   \n",
       "1011286        Bom    32GB  Prata  NaN        ...                  NaN   \n",
       "1011287        Bom    32GB  Prata  NaN        ...                  NaN   \n",
       "\n",
       "        channel new_vs_returning     city   region country device_type  \\\n",
       "1011283     NaN              NaN      NaN      NaN     NaN         NaN   \n",
       "1011284    Paid              New  Unknown  Unknown  Brazil  Smartphone   \n",
       "1011285     NaN              NaN      NaN      NaN     NaN         NaN   \n",
       "1011286     NaN              NaN      NaN      NaN     NaN         NaN   \n",
       "1011287     NaN              NaN      NaN      NaN     NaN         NaN   \n",
       "\n",
       "        screen_resolution operating_system_version   browser_version  \n",
       "1011283               NaN                      NaN               NaN  \n",
       "1011284           320x534                Android 6  Chrome Mobile 39  \n",
       "1011285               NaN                      NaN               NaN  \n",
       "1011286               NaN                      NaN               NaN  \n",
       "1011287               NaN                      NaN               NaN  \n",
       "\n",
       "[5 rows x 23 columns]"
      ]
     },
     "execution_count": 4,
     "metadata": {},
     "output_type": "execute_result"
    }
   ],
   "source": [
    "trocafone_events.tail()"
   ]
  },
  {
   "cell_type": "markdown",
   "metadata": {},
   "source": [
    "# Informacion sobre el dataframe"
   ]
  },
  {
   "cell_type": "code",
   "execution_count": 5,
   "metadata": {},
   "outputs": [
    {
     "name": "stdout",
     "output_type": "stream",
     "text": [
      "<class 'pandas.core.frame.DataFrame'>\n",
      "RangeIndex: 1011288 entries, 0 to 1011287\n",
      "Data columns (total 23 columns):\n",
      "timestamp                   1011288 non-null datetime64[ns]\n",
      "event                       1011288 non-null object\n",
      "person                      1011288 non-null object\n",
      "url                         82756 non-null object\n",
      "sku                         563838 non-null object\n",
      "model                       564284 non-null object\n",
      "condition                   563836 non-null object\n",
      "storage                     563836 non-null object\n",
      "color                       563836 non-null object\n",
      "skus                        221699 non-null object\n",
      "search_term                 48967 non-null object\n",
      "staticpage                  3598 non-null object\n",
      "campaign_source             82796 non-null object\n",
      "search_engine               50957 non-null object\n",
      "channel                     87378 non-null object\n",
      "new_vs_returning            87378 non-null object\n",
      "city                        87378 non-null object\n",
      "region                      87378 non-null object\n",
      "country                     87378 non-null object\n",
      "device_type                 87378 non-null object\n",
      "screen_resolution           87378 non-null object\n",
      "operating_system_version    87378 non-null object\n",
      "browser_version             87378 non-null object\n",
      "dtypes: datetime64[ns](1), object(22)\n",
      "memory usage: 92.6+ MB\n"
     ]
    }
   ],
   "source": [
    "trocafone_events.info()"
   ]
  },
  {
   "cell_type": "markdown",
   "metadata": {},
   "source": [
    "### Rango de fechas del set de datos: claramente este ultimo no s encuentra ordenado por fecha, segun el primer vistazo con las primeras 5 filas y las ultimas 5 filas"
   ]
  },
  {
   "cell_type": "code",
   "execution_count": 6,
   "metadata": {},
   "outputs": [
    {
     "data": {
      "text/plain": [
       "Timestamp('2018-06-15 23:59:00')"
      ]
     },
     "execution_count": 6,
     "metadata": {},
     "output_type": "execute_result"
    }
   ],
   "source": [
    "trocafone_events['timestamp'].max()"
   ]
  },
  {
   "cell_type": "code",
   "execution_count": 7,
   "metadata": {},
   "outputs": [
    {
     "data": {
      "text/plain": [
       "Timestamp('2018-01-01 07:32:00')"
      ]
     },
     "execution_count": 7,
     "metadata": {},
     "output_type": "execute_result"
    }
   ],
   "source": [
    "trocafone_events['timestamp'].min()"
   ]
  },
  {
   "cell_type": "code",
   "execution_count": 8,
   "metadata": {},
   "outputs": [],
   "source": [
    "# Como fueron las ventas durante los 5 meses de datos que se obtienen de este año? Cantidad de ventas mensuales\n",
    "# No se toma en cuenta el mes de junio porque los datos están hasta el 15 del mes"
   ]
  },
  {
   "cell_type": "code",
   "execution_count": 9,
   "metadata": {},
   "outputs": [
    {
     "data": {
      "image/png": "[encoded data removed]",
      "text/plain": [
       "<Figure size 432x288 with 1 Axes>"
      ]
     },
     "metadata": {
      "needs_background": "light"
     },
     "output_type": "display_data"
    }
   ],
   "source": [
    "conversion_e = trocafone_events.loc[(trocafone_events['event'] == 'conversion') & (trocafone_events.timestamp.dt.month < 6), :]\n",
    "monthly_conversions = conversion_e['timestamp'].groupby(conversion_e.timestamp.dt.month).agg('count')\n",
    "monthly_conversions.plot.bar()\n",
    "plt.xlabel('Mes')\n",
    "plt.ylabel('Cantidad de ventas')\n",
    "plt.title('Cantidad de ventas por mes de Enero a Mayo, 2018')\n",
    "plt.show()"
   ]
  },
  {
   "cell_type": "markdown",
   "metadata": {},
   "source": [
    "# Datos sobre el modelo (columna 'model')"
   ]
  },
  {
   "cell_type": "code",
   "execution_count": 10,
   "metadata": {},
   "outputs": [],
   "source": [
    "# Cuales son los distintos modelos de dispositivos o marcas. Se obtiene la primera palabra de la columna model\n",
    "# donde claramente contiene la marca"
   ]
  },
  {
   "cell_type": "code",
   "execution_count": 11,
   "metadata": {},
   "outputs": [
    {
     "data": {
      "text/plain": [
       "array([nan, 'iPhone', 'Samsung', 'Motorola', 'Asus', 'Quantum', 'Lenovo',\n",
       "       'Sony', 'LG', 'iPad', 'Blackberry'], dtype=object)"
      ]
     },
     "execution_count": 11,
     "metadata": {},
     "output_type": "execute_result"
    }
   ],
   "source": [
    "trocafone_events['model'].str.split(n=1).str[0].unique()"
   ]
  },
  {
   "cell_type": "code",
   "execution_count": 12,
   "metadata": {},
   "outputs": [],
   "source": [
    "#Cuales son las marcas mas vendidas en todo el set de datos (evento conversion)"
   ]
  },
  {
   "cell_type": "code",
   "execution_count": 13,
   "metadata": {},
   "outputs": [
    {
     "data": {
      "image/png": "[encoded data removed]",
      "text/plain": [
       "<Figure size 432x288 with 1 Axes>"
      ]
     },
     "metadata": {
      "needs_background": "light"
     },
     "output_type": "display_data"
    }
   ],
   "source": [
    "model_conversion = conversion_e['model'].groupby(conversion_e.model.str.split(n=1).str[0]).agg('count')\n",
    "model_conversion.plot.bar()\n",
    "plt.xlabel('Marca')\n",
    "plt.ylabel('Cantidad de ventas')\n",
    "plt.title('Cantidad de dispositivos vendidos por marca')\n",
    "plt.show()"
   ]
  },
  {
   "cell_type": "code",
   "execution_count": 14,
   "metadata": {},
   "outputs": [],
   "source": [
    "# Cual es el modelo mas vendido de todos los modelos disponibles? (Da lo mismo, no se si es necesario)"
   ]
  },
  {
   "cell_type": "code",
   "execution_count": 15,
   "metadata": {},
   "outputs": [
    {
     "data": {
      "text/plain": [
       "'Samsung Galaxy J5'"
      ]
     },
     "execution_count": 15,
     "metadata": {},
     "output_type": "execute_result"
    }
   ],
   "source": [
    "conversion_e['model'].groupby(conversion_e.model).agg('count').idxmax()"
   ]
  },
  {
   "cell_type": "markdown",
   "metadata": {},
   "source": [
    "# Patrón Usuarios <-> Eventos"
   ]
  },
  {
   "cell_type": "code",
   "execution_count": 61,
   "metadata": {},
   "outputs": [
    {
     "name": "stdout",
     "output_type": "stream",
     "text": [
      "Cantidad de checkouts\n",
      "33735\n",
      "Cantidad de conversions\n",
      "1172\n"
     ]
    }
   ],
   "source": [
    "checkout_event_count = trocafone_events.loc[trocafone_events['event'] == 'checkout']['event'].count()\n",
    "conversion_event_count = trocafone_events.loc[trocafone_events['event'] == 'conversion']['event'].count()\n",
    "\n",
    "print(\"Cantidad de checkouts\")\n",
    "print(checkout_event_count)\n",
    "print(\"Cantidad de conversions\")\n",
    "print(conversion_event_count)"
   ]
  },
  {
   "cell_type": "code",
   "execution_count": 72,
   "metadata": {},
   "outputs": [
    {
     "data": {
      "text/plain": [
       "conversion    716\n",
       "checkout      716\n",
       "dtype: int64"
      ]
     },
     "execution_count": 72,
     "metadata": {},
     "output_type": "execute_result"
    }
   ],
   "source": [
    "checkout_conversion_events = trocafone_events.loc[trocafone_events['event'].isin(['conversion','checkout'])][['person','event']]\n",
    "checkout_conversion_events = pd.concat([checkout_conversion_events, pd.get_dummies(checkout_conversion_events['event'])], axis=1)[['person','checkout','conversion']].groupby(['person']).max()\n",
    "#checkout_conversion_events.shape\n",
    "#type(pd.get_dummies(checkout_conversion_events['event']))\n",
    "conversion_count = checkout_conversion_events.loc[checkout_conversion_events['conversion'] > 0].agg({'conversion':'sum','checkout':'sum'})\n",
    "\n",
    "conversion_count"
   ]
  },
  {
   "cell_type": "code",
   "execution_count": 74,
   "metadata": {},
   "outputs": [
    {
     "data": {
      "text/plain": [
       "conversion      716\n",
       "checkout      27624\n",
       "dtype: int64"
      ]
     },
     "execution_count": 74,
     "metadata": {},
     "output_type": "execute_result"
    }
   ],
   "source": [
    "checkout_count = checkout_conversion_events.loc[checkout_conversion_events['checkout'] > 0].agg({'conversion':'sum','checkout':'sum'})\n",
    "checkout_count"
   ]
  },
  {
   "cell_type": "code",
   "execution_count": 226,
   "metadata": {},
   "outputs": [],
   "source": [
    "searched_products = trocafone_events.loc[trocafone_events['event'] == 'searched products'][['timestamp','person','skus','search_term']].dropna(axis=0)\n",
    "searched_products['search_term'] = searched_products['search_term'].str.lower()"
   ]
  },
  {
   "cell_type": "code",
   "execution_count": 238,
   "metadata": {},
   "outputs": [],
   "source": [
    "searched_products['searched_model'] = searched_products['search_term']\n",
    "\n",
    "searched_products.loc[searched_products['search_term'].str.contains('samsung|sansung|sansumg|s3|s4|s5|s6|s7|s8|s9|a3|a5|a7|a8|a9|a10|j1|j2|j3|j4|j5|j7|j8|e5|e7|galaxy|note|prime|edge')\n",
    "                      ,'searched_model'] = 'Samsung'\n",
    "searched_products.loc[searched_products['search_term'].str.contains('iphone|apple|ipad|i phone|aple|iphome|4s|5s|6s|7s|8s')\n",
    "                      ,'searched_model'] = 'Apple'\n",
    "searched_products.loc[searched_products['search_term'].str.contains('moto|g4 plus|g5 plus')\n",
    "                      ,'searched_model'] = 'Motorola'\n",
    "searched_products.loc[searched_products['search_term'].str.contains('lg|k8|k10|k 10|k4')\n",
    "                      ,'searched_model'] = 'LG'\n",
    "searched_products.loc[searched_products['search_term'].str.contains('asus|zonfone|zenfone|azus|assus')\n",
    "                      ,'searched_model'] = 'Asus'\n",
    "searched_products.loc[searched_products['search_term'].str.contains('nokia|lumia')\n",
    "                      ,'searched_model'] = 'Nokia'\n",
    "searched_products.loc[searched_products['search_term'].str.contains('lenovo')\n",
    "                      ,'searched_model'] = 'Lenovo'\n",
    "searched_products.loc[searched_products['search_term'].str.contains('sony|xperia|x-peria')\n",
    "                      ,'searched_model'] = 'Sony'\n",
    "searched_products.loc[searched_products['search_term'].str.contains('blackberry')\n",
    "                      ,'searched_model'] = 'Blackberry'\n",
    "searched_products.loc[searched_products['search_term'].str.contains('quantum')\n",
    "                      ,'searched_model'] = 'Quantum'\n",
    "\n",
    "\n",
    "searched_products = searched_products.loc[searched_products['searched_model'].isin(['Samsung','Apple','Motorola','LG','Asus','Nokia','Sony','Blackberry','Lenovo','Quantum'])]"
   ]
  },
  {
   "cell_type": "code",
   "execution_count": 252,
   "metadata": {},
   "outputs": [
    {
     "data": {
      "image/png": "[encoded data removed]",
      "text/plain": [
       "<Figure size 640x480 with 1 Axes>"
      ]
     },
     "metadata": {},
     "output_type": "display_data"
    }
   ],
   "source": [
    "top_searched = searched_products.groupby('searched_model')['searched_model'].count().sort_values(ascending=False)\n",
    "g = sns.barplot(x=top_searched.index, y=top_searched.values, orient=\"v\", palette=\"hls\")\n",
    "#g.set_title(\"Top búsquedas según la marca\", fontsize=15)\n",
    "g.set_ylabel(\"Cantidad de búsquedas\", fontsize=12)\n",
    "g.set_xlabel(\"Marca\", fontsize=12)\n",
    "g.set_xticklabels(g.get_xticklabels(),rotation=45)\n",
    "plt.show()"
   ]
  },
  {
   "cell_type": "code",
   "execution_count": null,
   "metadata": {},
   "outputs": [],
   "source": []
  }
 ],
 "metadata": {
  "kernelspec": {
   "display_name": "Python 3",
   "language": "python",
   "name": "python3"
  },
  "language_info": {
   "codemirror_mode": {
    "name": "ipython",
    "version": 3
   },
   "file_extension": ".py",
   "mimetype": "text/x-python",
   "name": "python",
   "nbconvert_exporter": "python",
   "pygments_lexer": "ipython3",
   "version": "3.7.0"
  }
 },
 "nbformat": 4,
 "nbformat_minor": 2
}
