{
 "cells": [
  {
   "cell_type": "markdown",
   "metadata": {},
   "source": [
    "# Analisis Exploratorio Trocafone"
   ]
  },
  {
   "cell_type": "code",
   "execution_count": 1,
   "metadata": {},
   "outputs": [
    {
     "ename": "ModuleNotFoundError",
     "evalue": "No module named 'seaborn'",
     "output_type": "error",
     "traceback": [
      "\u001b[1;31m---------------------------------------------------------------------------\u001b[0m",
      "\u001b[1;31mModuleNotFoundError\u001b[0m                       Traceback (most recent call last)",
      "\u001b[1;32m<ipython-input-1-9d332e78e49a>\u001b[0m in \u001b[0;36m<module>\u001b[1;34m()\u001b[0m\n\u001b[0;32m      3\u001b[0m \u001b[1;32mimport\u001b[0m \u001b[0mnumpy\u001b[0m \u001b[1;32mas\u001b[0m \u001b[0mnp\u001b[0m\u001b[1;33m\u001b[0m\u001b[0m\n\u001b[0;32m      4\u001b[0m \u001b[1;32mimport\u001b[0m \u001b[0mmatplotlib\u001b[0m\u001b[1;33m.\u001b[0m\u001b[0mpyplot\u001b[0m \u001b[1;32mas\u001b[0m \u001b[0mplt\u001b[0m\u001b[1;33m\u001b[0m\u001b[0m\n\u001b[1;32m----> 5\u001b[1;33m \u001b[1;32mimport\u001b[0m \u001b[0mseaborn\u001b[0m \u001b[1;32mas\u001b[0m \u001b[0msns\u001b[0m\u001b[1;33m\u001b[0m\u001b[0m\n\u001b[0m\u001b[0;32m      6\u001b[0m \u001b[1;32mimport\u001b[0m \u001b[0mdatetime\u001b[0m\u001b[1;33m\u001b[0m\u001b[0m\n\u001b[0;32m      7\u001b[0m \u001b[1;33m\u001b[0m\u001b[0m\n",
      "\u001b[1;31mModuleNotFoundError\u001b[0m: No module named 'seaborn'"
     ]
    }
   ],
   "source": [
    "# importacion general de librerias y de visualizacion (matplotlib y seaborn)\n",
    "import pandas as pd\n",
    "import numpy as np\n",
    "import matplotlib.pyplot as plt\n",
    "import seaborn as sns\n",
    "import datetime\n",
    "\n",
    "# Nescesario para mapas.\n",
    "import plotly as py\n",
    "\n",
    "%matplotlib inline\n",
    "\n",
    "plt.style.use('default')\n",
    "sns.set(style=\"whitegrid\") # tipo de grid seaborn"
   ]
  },
  {
   "cell_type": "code",
   "execution_count": null,
   "metadata": {},
   "outputs": [],
   "source": [
    "# Set de datos\n",
    "path = 'data/events.csv'\n",
    "eventos_2018 = pd.read_csv(path)"
   ]
  },
  {
   "cell_type": "markdown",
   "metadata": {},
   "source": [
    "## Previo analisis"
   ]
  },
  {
   "cell_type": "code",
   "execution_count": null,
   "metadata": {},
   "outputs": [],
   "source": [
    "#Veo la forma\n",
    "eventos_2018.shape"
   ]
  },
  {
   "cell_type": "code",
   "execution_count": null,
   "metadata": {},
   "outputs": [],
   "source": [
    "#Información sobre el data frame \n",
    "eventos_2018.info()"
   ]
  },
  {
   "cell_type": "code",
   "execution_count": null,
   "metadata": {},
   "outputs": [],
   "source": [
    "eventos_2018.head()"
   ]
  },
  {
   "cell_type": "markdown",
   "metadata": {},
   "source": [
    "Podemos ver varios campos nulos, que luego tendremos en cuenta para cada analisis."
   ]
  },
  {
   "cell_type": "code",
   "execution_count": null,
   "metadata": {},
   "outputs": [],
   "source": [
    "# Damos formato a la fecha.\n",
    "eventos_2018['timestamp_format'] = pd.to_datetime(eventos_2018['timestamp'])\n",
    "\n",
    "# Agrego columna fecha\n",
    "eventos_2018['date'] = eventos_2018['timestamp_format'].dt.date\n",
    "# Agrego columna para los meses.\n",
    "eventos_2018['month'] = eventos_2018['timestamp_format'].dt.month\n",
    "# Agrego columna dias\n",
    "eventos_2018['day'] = eventos_2018['timestamp_format'].dt.weekday_name\n",
    "# Agrego columna de horas\n",
    "eventos_2018['hour'] = eventos_2018['timestamp_format'].dt.hour"
   ]
  },
  {
   "cell_type": "code",
   "execution_count": null,
   "metadata": {},
   "outputs": [],
   "source": [
    "# Evento como categoria\n",
    "eventos_2018['event_category'] = eventos_2018['event'].astype('category')"
   ]
  },
  {
   "cell_type": "markdown",
   "metadata": {},
   "source": [
    "### Topicos generales y previsualizacion de los datos."
   ]
  },
  {
   "cell_type": "code",
   "execution_count": null,
   "metadata": {},
   "outputs": [],
   "source": [
    "# Top personas con mas eventos\n",
    "top_personas = eventos_2018.groupby('person')['event_category'].count().sort_values(ascending=False)[:10]\n",
    "\n",
    "g = sns.barplot(x=top_personas.values, y=top_personas.index, orient='h')\n",
    "g.set_title(\"Top Personas que Realizaron mas Eventos\", fontsize=15)\n",
    "g.set_xlabel(\"Cantidad de Eventos\", fontsize=12)\n",
    "g.set_ylabel(\"ID\", fontsize=12)"
   ]
  },
  {
   "cell_type": "markdown",
   "metadata": {},
   "source": [
    "### Cuales son los eventos mas ocurrentes en la plataforma?"
   ]
  },
  {
   "cell_type": "code",
   "execution_count": null,
   "metadata": {},
   "outputs": [],
   "source": [
    "# Top eventos\n",
    "top_eventos = eventos_2018.groupby('event')['event_category'].count().sort_values(ascending=False)\n",
    "\n",
    "g = sns.barplot(x=top_eventos.values, y=top_eventos.index, orient='h')\n",
    "g.set_title(\"Top Eventos\", fontsize=15)\n",
    "g.set_xlabel(\"Cantidad de Eventos\", fontsize=12)\n",
    "g.set_ylabel(\"Eventos\", fontsize=12)"
   ]
  },
  {
   "cell_type": "markdown",
   "metadata": {},
   "source": [
    "### Como se comportan los usuarios que interactuan con la plataforma desde distintos dispositivos?"
   ]
  },
  {
   "cell_type": "code",
   "execution_count": null,
   "metadata": {},
   "outputs": [],
   "source": [
    "eventos_2018['operating_system'] = eventos_2018['operating_system_version'].str.split(n=1).str[0]"
   ]
  },
  {
   "cell_type": "code",
   "execution_count": null,
   "metadata": {
    "scrolled": false
   },
   "outputs": [],
   "source": [
    "eventos_por_so = eventos_2018.groupby(['operating_system', 'screen_resolution'], as_index=False)['event_category'].count()\n",
    "#info\n",
    "eventos_por_so['event_category'].describe()"
   ]
  },
  {
   "cell_type": "code",
   "execution_count": null,
   "metadata": {},
   "outputs": [],
   "source": [
    "# Filtramos para visualizar las mas relevantes.\n",
    "minimo = 500\n",
    "eventos_por_so = eventos_por_so.loc[eventos_por_so['event_category'] > minimo]"
   ]
  },
  {
   "cell_type": "code",
   "execution_count": null,
   "metadata": {},
   "outputs": [],
   "source": [
    "pivoted = pd.pivot_table(eventos_por_so,values='event_category',columns='screen_resolution', \\\n",
    "                         index='operating_system')\n",
    "\n",
    "f = plt.figure()\n",
    "plt.title('Cantidad de Eventos por Sistema Operativo segun su Resolucion', fontsize=22)\n",
    "ax = pivoted.plot(kind='bar', stacked=True, colormap='Spectral', figsize=(14,8), ax=f.gca())\n",
    "ax.set_ylabel('Cantidad Eventos', fontsize=18);\n",
    "ax.set_xlabel('Sistema Operativo', fontsize=18);\n",
    "plt.show()"
   ]
  },
  {
   "cell_type": "markdown",
   "metadata": {},
   "source": [
    "Con este plot podemos deducir que tanto windows como android son los sistemas operativos mas activos en la plataforma.\n",
    "Ademas con la informacion de la resolucion de pantalla podemos ver:\n",
    "    \n",
    "<table style=\"width:100%\">\n",
    "  <tr>\n",
    "    <th>Marca</th>\n",
    "    <th>Resolucion Predominante</th>\n",
    "    <th>Modelo</th>\n",
    "  </tr>\n",
    "  <tr>\n",
    "    <td>iOS</td>\n",
    "    <td>320 x 568</td>\n",
    "    <td>iPhone 5/SE</td>\n",
    "  </tr>\n",
    "  <tr>\n",
    "    <td>Android</td>\n",
    "    <td>360x640</td>\n",
    "    <td>-</td>\n",
    "  </tr>\n",
    "  <tr>\n",
    "    <td>Windows</td>\n",
    "    <td>1366x768</td>\n",
    "    <td>-</td>\n",
    "  </tr>\n",
    "</table> \n",
    "\n",
    "\n",
    "\n",
    "\n"
   ]
  },
  {
   "cell_type": "markdown",
   "metadata": {},
   "source": [
    "### Cuales son las marcas de dispositivos mas vendidas?"
   ]
  },
  {
   "cell_type": "code",
   "execution_count": null,
   "metadata": {},
   "outputs": [],
   "source": [
    "conversion_e = eventos_2018.loc[eventos_2018['event_category'] == 'conversion']\n",
    "model_conversion = conversion_e['model'].groupby(conversion_e.model.str.split(n=1).str[0]).agg('count').sort_values(ascending=False)\n",
    "g = sns.barplot(x=model_conversion.index, y=model_conversion.values, palette='rainbow', orient='v')\n",
    "g.set_xlabel('Marca')\n",
    "g.set_ylabel('Cantidad de ventas')\n",
    "g.set_title('Cantidad de dispositivos vendidos por marca')"
   ]
  },
  {
   "cell_type": "markdown",
   "metadata": {},
   "source": [
    "# Analisis Geografico de Fuentes"
   ]
  },
  {
   "cell_type": "markdown",
   "metadata": {},
   "source": [
    "Damos un vistazo general a las localidades en donde se generan los eventos."
   ]
  },
  {
   "cell_type": "code",
   "execution_count": null,
   "metadata": {},
   "outputs": [],
   "source": [
    "# Proporcion de datos reales sobre el total.\n",
    "eventos_2018['country'].isnull().sum() / eventos_2018['country'].count()"
   ]
  },
  {
   "cell_type": "code",
   "execution_count": null,
   "metadata": {},
   "outputs": [],
   "source": [
    "# Id paises (Argentina : ARG \n",
    "#            Brasil : BRA\n",
    "#                      ...) .\n",
    "id_paises = pd.read_csv('data/id-countries.csv')"
   ]
  },
  {
   "cell_type": "code",
   "execution_count": null,
   "metadata": {},
   "outputs": [],
   "source": [
    "# Calculando la cantidad de eventos por pais.\n",
    "countries_data = pd.DataFrame(eventos_2018['country'].value_counts())\n",
    "countries_data.reset_index(inplace=True)\n",
    "countries_data.columns = ['country', 'count']\n",
    "countries_data.replace({'United States' : 'United States of America'}, inplace= True)"
   ]
  },
  {
   "cell_type": "code",
   "execution_count": null,
   "metadata": {},
   "outputs": [],
   "source": [
    "# Cantiadad de eventos sobre todos losc paises.\n",
    "data_paises = countries_data.merge(id_paises, how='left', on=['country']).fillna(0)"
   ]
  },
  {
   "cell_type": "code",
   "execution_count": null,
   "metadata": {},
   "outputs": [],
   "source": [
    "# Top 5 paises con mas eventos. Filtro los indeterminados.\n",
    "data_paises.loc[data_paises['country'] != 'Unknown'][:5]"
   ]
  },
  {
   "cell_type": "markdown",
   "metadata": {},
   "source": [
    "Con lo visto anteriormente es nescesario realizar el analisis sobre una escala lograitmica para visualizar mejor los datos."
   ]
  },
  {
   "cell_type": "code",
   "execution_count": null,
   "metadata": {},
   "outputs": [],
   "source": [
    "# Escala logaritmica.\n",
    "data_paises['count_log'] = np.log(data_paises['count'] + 1)"
   ]
  },
  {
   "cell_type": "code",
   "execution_count": null,
   "metadata": {},
   "outputs": [],
   "source": [
    "# Pyplot\n",
    "\n",
    "df = data_paises\n",
    "\n",
    "data_x = [ dict(\n",
    "        type = 'choropleth',\n",
    "        locations = df['id'],\n",
    "        z = df['count_log'],\n",
    "        text = df['country'],\n",
    "        colorscale = [[0,\"rgb(5, 10, 172)\"],[0.35,\"rgb(40, 60, 190)\"],[0.5,\"rgb(70, 100, 245)\"],\\\n",
    "            [0.6,\"rgb(90, 120, 245)\"],[0.7,\"rgb(106, 137, 247)\"],[1,\"rgb(220, 220, 220)\"]],\n",
    "        reversescale = True,\n",
    "        colorbar = dict(\n",
    "            title = 'Cantidad Eventos (Log)'\n",
    "        ),\n",
    "    ) ]\n",
    "\n",
    "layout = dict(\n",
    "    title = 'Cantidade Total de Eventos 2018',\n",
    "    geo = dict(\n",
    "        showframe = False,\n",
    "        showcoastlines = False,\n",
    "    )\n",
    ")\n",
    "\n",
    "fig = dict( data=data_x, layout=layout )\n",
    "py.plotly.iplot(fig)"
   ]
  },
  {
   "cell_type": "markdown",
   "metadata": {},
   "source": [
    "# Analisis Temporal"
   ]
  },
  {
   "cell_type": "markdown",
   "metadata": {},
   "source": [
    "Antes de comenzar con el analisis, es nescesario saber en el rango de fechas que estamos trabajando."
   ]
  },
  {
   "cell_type": "code",
   "execution_count": null,
   "metadata": {},
   "outputs": [],
   "source": [
    "# fecha minima\n",
    "eventos_2018['timestamp_format'].min()"
   ]
  },
  {
   "cell_type": "code",
   "execution_count": null,
   "metadata": {},
   "outputs": [],
   "source": [
    "# fecha maxima\n",
    "eventos_2018['timestamp_format'].max()"
   ]
  },
  {
   "cell_type": "markdown",
   "metadata": {},
   "source": [
    "Primero haremos un plot para ver como estan distribuidos los datos."
   ]
  },
  {
   "cell_type": "code",
   "execution_count": null,
   "metadata": {},
   "outputs": [],
   "source": [
    "eventos_totales = eventos_2018.groupby('date')['event_category'].count()\n",
    "g = eventos_totales.plot()\n",
    "g.set_title(\"Cantidad de Eventos Totales\", fontsize=18)\n",
    "g.set_xlabel(\"Tiempo\", fontsize=18)\n",
    "g.set_ylabel(\"Cantidad\", fontsize=18)"
   ]
  },
  {
   "cell_type": "markdown",
   "metadata": {},
   "source": [
    "Vemos un crecimiento de interacciones con el tiempo, mas que nada de Mayo para Junio."
   ]
  },
  {
   "cell_type": "code",
   "execution_count": null,
   "metadata": {},
   "outputs": [],
   "source": [
    "g = sns.countplot(x='month', hue='event_category', data=eventos_2018, palette=\"hls\")\n",
    "g.set_title(\"Cantidad de Eventos por mes\", fontsize=18)\n",
    "g.set_xlabel(\"Mes\", fontsize=18)\n",
    "g.set_ylabel(\"Cantidad\", fontsize=18)\n",
    "\n",
    "\n",
    "#g.get_figure().set_size_inches(18.5, 10.5, forward=True)\n",
    "#g.get_figure().savefig('eventos_mes.png')"
   ]
  },
  {
   "cell_type": "code",
   "execution_count": null,
   "metadata": {},
   "outputs": [],
   "source": [
    "### Cantirdad de eventos por combinacion de hora en el dia.\n",
    "\n",
    "eventos_2018['event_c'] = 1\n",
    "for_heatmap_hr_day = eventos_2018.pivot_table(index='hour', columns='day', values='event_c', aggfunc='sum')\n",
    "\n",
    "g =  sns.heatmap(for_heatmap_hr_day , linewidths=.5, cmap=\"YlGnBu\") # annot=True\n",
    "g.set_title(\"Cantidad de Eventos Hora en el Dia\", fontsize=22)\n",
    "g.set_xlabel(\"Dia\",fontsize=18)\n",
    "g.set_ylabel(\"Hora\", fontsize=18)\n",
    "\n",
    "#g.get_figure().savefig('img/eventos_dia.png')"
   ]
  },
  {
   "cell_type": "markdown",
   "metadata": {},
   "source": [
    "### Como son las interacciones con respecto a las capanias de publicidad?"
   ]
  },
  {
   "cell_type": "markdown",
   "metadata": {},
   "source": [
    "En que horario se frecuentan mas?"
   ]
  },
  {
   "cell_type": "code",
   "execution_count": null,
   "metadata": {},
   "outputs": [],
   "source": [
    "campaing_hint = eventos_2018.loc[eventos_2018['event_category'] == 'ad campaign hit'].groupby('hour')['event'].count()"
   ]
  },
  {
   "cell_type": "code",
   "execution_count": null,
   "metadata": {},
   "outputs": [],
   "source": [
    "g = sns.barplot(x=campaing_hint.index, y=campaing_hint.values, orient='v')\n",
    "\n",
    "g.set_xlabel(\"Hora\", fontsize=15)\n",
    "g.set_ylabel(\"Number of Campaign Hits\", fontsize=15)\n",
    "g.set_title(\"Campaign Hits per Hour\", fontsize=15)"
   ]
  },
  {
   "cell_type": "markdown",
   "metadata": {},
   "source": [
    "Como se puede osbervar, los usuarios ingresan mediante publicidad en media noche; seria interesante conocer las fuentes de esas publicidades."
   ]
  },
  {
   "cell_type": "code",
   "execution_count": null,
   "metadata": {},
   "outputs": [],
   "source": [
    "# Eventos por hora (campaing source)\n",
    "eventosPorHourAndCampaignSource = eventos_2018.groupby(['hour', 'campaign_source'], as_index=False)['event'].count()\n",
    "\n",
    "# Filtro valores no significativos.\n",
    "minimo = 50\n",
    "eventosPorHourAndCampaignSource = eventosPorHourAndCampaignSource.loc[eventosPorHourAndCampaignSource['event'] > minimo]\n",
    "\n",
    "# Pivot table.\n",
    "pivotedHour = pd.pivot_table(eventosPorHourAndCampaignSource,values='event',columns='campaign_source', \\\n",
    "                         index='hour')\n",
    "# Plot\n",
    "f = plt.figure()\n",
    "plt.title('Cantidad de Campaign Hits por Hora segun Campaign Source', fontsize=22)\n",
    "ax = pivotedHour.plot(kind='bar', stacked=True, colormap='Spectral', figsize=(14,8), ax=f.gca())\n",
    "ax.set_ylabel('Campaign Hits', fontsize=18);\n",
    "ax.set_xlabel('Hour', fontsize=18);\n",
    "plt.show()"
   ]
  },
  {
   "cell_type": "markdown",
   "metadata": {},
   "source": [
    "### Dispositivos mas relevantes segun el mes"
   ]
  },
  {
   "cell_type": "code",
   "execution_count": null,
   "metadata": {},
   "outputs": [],
   "source": [
    "# Nueva columna con la marca del dispositivo\n",
    "eventos_2018['trademark'] = eventos_2018['model'].str.split(n=1).str[0]"
   ]
  },
  {
   "cell_type": "code",
   "execution_count": null,
   "metadata": {},
   "outputs": [],
   "source": [
    "# Obtengo las marcas mas ocurrentes.\n",
    "marcas_ordenadas = eventos_2018['trademark'].value_counts().index"
   ]
  },
  {
   "cell_type": "code",
   "execution_count": null,
   "metadata": {},
   "outputs": [],
   "source": [
    "model_conversion = pd.DataFrame(eventos_2018.groupby(['trademark', 'month'])['trademark'].agg('count'))\n",
    "model_conversion.columns = ['count']\n",
    "model_conversion.reset_index(inplace=True)"
   ]
  },
  {
   "cell_type": "code",
   "execution_count": null,
   "metadata": {},
   "outputs": [],
   "source": [
    "# Pivot table, cantidad de ocurrencias por mes.\n",
    "table_mes_marca = pd.pivot_table(model_conversion,values='count',columns='trademark', \\\n",
    "                         index='month', fill_value=0)\n",
    "table_mes_marca"
   ]
  },
  {
   "cell_type": "code",
   "execution_count": null,
   "metadata": {},
   "outputs": [],
   "source": [
    "# \"Normalizo\".\n",
    "table_mes_marca = table_mes_marca.divide(table_mes_marca.sum(axis=1), axis=0)\n",
    "# Reeorganizo las columnas.\n",
    "table_mes_marca = table_mes_marca.reindex(marcas_ordenadas[::-1], axis=1)\n"
   ]
  },
  {
   "cell_type": "code",
   "execution_count": null,
   "metadata": {},
   "outputs": [],
   "source": [
    "# Plot \n",
    "f = plt.figure()\n",
    "ax = table_mes_marca.plot(kind='area', stacked=True, colormap='rainbow_r', figsize=(14,8), ax=f.gca())\n",
    "# Config labels y handels\n",
    "handles, labels = ax.get_legend_handles_labels()\n",
    "plt.legend(handles[::-1], labels[::-1], loc='center left', bbox_to_anchor=(1.0, 0.5))\n",
    "plt.title('Top Marcas de Dispositivos por mes', fontsize=22)\n",
    "ax.set_ylabel('Porcentaje (%)', fontsize=18);\n",
    "ax.set_xlabel('Mes', fontsize=18);\n",
    "# Limites grafico\n",
    "ax.set_ylim(0,1)\n",
    "ax.set_xlim(1,6)\n",
    "plt.show()"
   ]
  },
  {
   "cell_type": "markdown",
   "metadata": {},
   "source": [
    "### Que horarios frecuenta el usuario segun el sistema operativo?"
   ]
  },
  {
   "cell_type": "code",
   "execution_count": null,
   "metadata": {},
   "outputs": [],
   "source": [
    "eventos_so_hora = eventos_2018.groupby(['operating_system', 'hour'], as_index=False)['event'].count()\n",
    "# Escala logaritmica para visalizar mejor los datos.\n",
    "eventos_so_hora['event_log'] = np.log(eventos_so_hora['event']+1)\n",
    "for_heatmap_hr_so = pd.pivot_table(index='hour', columns='operating_system', values='event_log', data=eventos_so_hora)"
   ]
  },
  {
   "cell_type": "code",
   "execution_count": null,
   "metadata": {},
   "outputs": [],
   "source": [
    "g =  sns.heatmap(for_heatmap_hr_so , linewidths=.5, cmap=\"Greens\", annot=True) # annot=True\n",
    "g.set_title(\"Cantidad de Eventos por Combinacion Hora y SO (Log)\", fontsize=22)\n",
    "g.set_xlabel(\"Dia\",fontsize=18)\n",
    "g.set_ylabel(\"Hora (BRA/ARG)\", fontsize=18)"
   ]
  },
  {
   "cell_type": "markdown",
   "metadata": {},
   "source": [
    "Se puede observar como en dispositivos mobiles/portables como lo son SmartPhones/Tables/etc con un SO (Android/iOS)\n",
    "obtiene su valor maximo a eso delas 23:00 y se matiene hasta 2:00 aprox, en cambio para dispositivos como computadoras\n",
    "su pico lo alcanza entre las 17 y 20 hs."
   ]
  },
  {
   "cell_type": "markdown",
   "metadata": {},
   "source": [
    "### Usuarios nuevos vs regresantes"
   ]
  },
  {
   "cell_type": "code",
   "execution_count": null,
   "metadata": {},
   "outputs": [],
   "source": [
    "# Cuento y elimino el mes 6 datos incompletos\n",
    "us_nuevos_mes = pd.DataFrame(eventos_2018.groupby(['month', 'new_vs_returning'])[\"new_vs_returning\"].agg('count')).drop(6)\n",
    "us_nuevos_mes.columns = ['count']\n",
    "us_nuevos_mes.reset_index(inplace=True)\n",
    "\n",
    "# Plot\n",
    "f = plt.figure()\n",
    "pivote_table_us_mes = pd.pivot_table(us_nuevos_mes, index='month', columns='new_vs_returning', values='count')\n",
    "ax = pivote_table_us_mes.plot(kind='line', stacked=True, colormap='winter_r', figsize=(14,8), ax=f.gca())\n",
    "plt.title('New vs Returning por Mes', fontsize=22)\n",
    "ax.set_ylabel('Cantidad de usuarios', fontsize=18);\n",
    "ax.set_xlabel('Mes', fontsize=18);\n",
    "# Limites grafico\n",
    "ax.set_xlim(1,5)\n",
    "\n",
    "plt.show()"
   ]
  }
 ],
 "metadata": {
  "kernelspec": {
   "display_name": "Python 3",
   "language": "python",
   "name": "python3"
  }
 },
 "nbformat": 4,
 "nbformat_minor": 2
}
